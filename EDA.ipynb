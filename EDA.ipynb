{
  "nbformat": 4,
  "nbformat_minor": 0,
  "metadata": {
    "colab": {
      "provenance": [],
      "toc_visible": true
    },
    "kernelspec": {
      "name": "python3",
      "display_name": "Python 3"
    },
    "language_info": {
      "name": "python"
    }
  },
  "cells": [
    {
      "cell_type": "markdown",
      "source": [
        "Primero conectar google.colab con drive para poder extraer la información."
      ],
      "metadata": {
        "id": "DczQlgrFpFV_"
      }
    },
    {
      "cell_type": "code",
      "source": [
        "from google.colab import drive\n",
        "drive.mount('/content/drive')"
      ],
      "metadata": {
        "colab": {
          "base_uri": "https://localhost:8080/"
        },
        "id": "xXI7jcfjol06",
        "outputId": "0464e762-ed4e-4aa6-d025-b6892969176d"
      },
      "execution_count": null,
      "outputs": [
        {
          "output_type": "stream",
          "name": "stdout",
          "text": [
            "Drive already mounted at /content/drive; to attempt to forcibly remount, call drive.mount(\"/content/drive\", force_remount=True).\n"
          ]
        }
      ]
    },
    {
      "cell_type": "markdown",
      "source": [
        "Importar las librerias necesarias para realizar el análisis exploratorio de datos.\n"
      ],
      "metadata": {
        "id": "nCZ7ZBR3pUEW"
      }
    },
    {
      "cell_type": "code",
      "source": [
        "import pandas as pd\n",
        "import numpy as np\n",
        "import matplotlib.pyplot as plt\n",
        "import seaborn as sns"
      ],
      "metadata": {
        "id": "vkhkVuH3o-CV"
      },
      "execution_count": null,
      "outputs": []
    },
    {
      "cell_type": "markdown",
      "source": [
        "Establecer apariencia general de los gráficos"
      ],
      "metadata": {
        "id": "fPFvmpmusy5I"
      }
    },
    {
      "cell_type": "code",
      "source": [
        "%matplotlib inline\n",
        "sns.set_style(style='whitegrid')\n",
        "sns.set_context(context='notebook')\n",
        "plt.rcParams['figure.figsize'] = (11,9.4)"
      ],
      "metadata": {
        "id": "vWAzZVwtsypO"
      },
      "execution_count": null,
      "outputs": []
    },
    {
      "cell_type": "markdown",
      "source": [
        "Leer los datos"
      ],
      "metadata": {
        "id": "ATKs6udtpwT0"
      }
    },
    {
      "cell_type": "code",
      "source": [
        "df= pd.read_parquet('/content/drive/MyDrive/ML Projects/train.parquet', engine= 'pyarrow') #train\n",
        "#df= pd.read_parquet('/content/drive/MyDrive/ML Projects/test.parquet', engine= 'pyarrow') #test"
      ],
      "metadata": {
        "id": "OY8oICHvpv6f"
      },
      "execution_count": null,
      "outputs": []
    },
    {
      "cell_type": "markdown",
      "source": [
        "## ANALISIS EXPLORATORIO DE DATOS"
      ],
      "metadata": {
        "id": "I-JHxmHkwzGO"
      }
    },
    {
      "cell_type": "markdown",
      "source": [
        "### Visión General"
      ],
      "metadata": {
        "id": "9J6OMnsoXAnA"
      }
    },
    {
      "cell_type": "markdown",
      "source": [
        "Comprender las dimensiones del dataset visaulizando las primeras 5 filas."
      ],
      "metadata": {
        "id": "yWvjBa8tqeLe"
      }
    },
    {
      "cell_type": "code",
      "source": [
        "df.head(5)"
      ],
      "metadata": {
        "colab": {
          "base_uri": "https://localhost:8080/",
          "height": 629
        },
        "id": "NVCnS7UIrS3m",
        "outputId": "7da02998-4f3a-40cd-ec08-b62993c604fe"
      },
      "execution_count": null,
      "outputs": [
        {
          "output_type": "execute_result",
          "data": {
            "text/plain": [
              "           id                                                url  \\\n",
              "0  7048013474  https://boise.craigslist.org/apa/d/very-nice-b...   \n",
              "1  7043931179  https://cosprings.craigslist.org/apa/d/colorad...   \n",
              "2  7048254516  https://norfolk.craigslist.org/apa/d/virginia-...   \n",
              "3  7041032577  https://phoenix.craigslist.org/nph/apa/d/phoen...   \n",
              "4  7048588701  https://nashville.craigslist.org/apa/d/antioch...   \n",
              "\n",
              "                    region                        region_url  price  \\\n",
              "0                    boise      https://boise.craigslist.org   1350   \n",
              "1         colorado springs  https://cosprings.craigslist.org   1115   \n",
              "2  norfolk / hampton roads    https://norfolk.craigslist.org   1129   \n",
              "3                  phoenix    https://phoenix.craigslist.org   1580   \n",
              "4                nashville  https://nashville.craigslist.org    995   \n",
              "\n",
              "        type  sqfeet  beds  baths  cats_allowed  ...  wheelchair_access  \\\n",
              "0      house    1200     2    2.0             1  ...                  0   \n",
              "1  apartment     694     1    1.0             1  ...                  0   \n",
              "2  apartment     900     2    2.0             0  ...                  0   \n",
              "3      house    1469     3    2.0             1  ...                  0   \n",
              "4  apartment     700     1    1.0             1  ...                  0   \n",
              "\n",
              "   electric_vehicle_charge  comes_furnished  laundry_options  \\\n",
              "0                        0                0      w/d in unit   \n",
              "1                        0                0      w/d in unit   \n",
              "2                        0                0      w/d hookups   \n",
              "3                        0                0      w/d in unit   \n",
              "4                        0                0      w/d in unit   \n",
              "\n",
              "      parking_options                                          image_url  \\\n",
              "0     detached garage  https://images.craigslist.org/00B0B_cPiJMEheZe...   \n",
              "1             carport  https://images.craigslist.org/00R0R_5XAoSKvfrz...   \n",
              "2  off-street parking  https://images.craigslist.org/00f0f_3ZbTFrsHpZ...   \n",
              "3                None  https://images.craigslist.org/00f0f_aXV5Dkd5qk...   \n",
              "4             carport  https://images.craigslist.org/00606_gYOGKClOHv...   \n",
              "\n",
              "                                         description      lat      long  state  \n",
              "0  Super cute row house in the Boise bench area. ...  43.5851 -116.2250     id  \n",
              "1  Windtree Apartment Homes currently has a spaci...  38.9137 -104.7800     co  \n",
              "2  Call Today!  show contact info   Indian Lakes ...  36.7922  -76.1643     va  \n",
              "3  Cody Anderson Two Brothers Realty License #: S...  33.5623 -112.0560     az  \n",
              "4  To schedule a tour We now book our tour appoin...  36.0595  -86.6592     tn  \n",
              "\n",
              "[5 rows x 22 columns]"
            ],
            "text/html": [
              "\n",
              "  <div id=\"df-3db355f7-e178-4edd-8067-d9fa96426714\">\n",
              "    <div class=\"colab-df-container\">\n",
              "      <div>\n",
              "<style scoped>\n",
              "    .dataframe tbody tr th:only-of-type {\n",
              "        vertical-align: middle;\n",
              "    }\n",
              "\n",
              "    .dataframe tbody tr th {\n",
              "        vertical-align: top;\n",
              "    }\n",
              "\n",
              "    .dataframe thead th {\n",
              "        text-align: right;\n",
              "    }\n",
              "</style>\n",
              "<table border=\"1\" class=\"dataframe\">\n",
              "  <thead>\n",
              "    <tr style=\"text-align: right;\">\n",
              "      <th></th>\n",
              "      <th>id</th>\n",
              "      <th>url</th>\n",
              "      <th>region</th>\n",
              "      <th>region_url</th>\n",
              "      <th>price</th>\n",
              "      <th>type</th>\n",
              "      <th>sqfeet</th>\n",
              "      <th>beds</th>\n",
              "      <th>baths</th>\n",
              "      <th>cats_allowed</th>\n",
              "      <th>...</th>\n",
              "      <th>wheelchair_access</th>\n",
              "      <th>electric_vehicle_charge</th>\n",
              "      <th>comes_furnished</th>\n",
              "      <th>laundry_options</th>\n",
              "      <th>parking_options</th>\n",
              "      <th>image_url</th>\n",
              "      <th>description</th>\n",
              "      <th>lat</th>\n",
              "      <th>long</th>\n",
              "      <th>state</th>\n",
              "    </tr>\n",
              "  </thead>\n",
              "  <tbody>\n",
              "    <tr>\n",
              "      <th>0</th>\n",
              "      <td>7048013474</td>\n",
              "      <td>https://boise.craigslist.org/apa/d/very-nice-b...</td>\n",
              "      <td>boise</td>\n",
              "      <td>https://boise.craigslist.org</td>\n",
              "      <td>1350</td>\n",
              "      <td>house</td>\n",
              "      <td>1200</td>\n",
              "      <td>2</td>\n",
              "      <td>2.0</td>\n",
              "      <td>1</td>\n",
              "      <td>...</td>\n",
              "      <td>0</td>\n",
              "      <td>0</td>\n",
              "      <td>0</td>\n",
              "      <td>w/d in unit</td>\n",
              "      <td>detached garage</td>\n",
              "      <td>https://images.craigslist.org/00B0B_cPiJMEheZe...</td>\n",
              "      <td>Super cute row house in the Boise bench area. ...</td>\n",
              "      <td>43.5851</td>\n",
              "      <td>-116.2250</td>\n",
              "      <td>id</td>\n",
              "    </tr>\n",
              "    <tr>\n",
              "      <th>1</th>\n",
              "      <td>7043931179</td>\n",
              "      <td>https://cosprings.craigslist.org/apa/d/colorad...</td>\n",
              "      <td>colorado springs</td>\n",
              "      <td>https://cosprings.craigslist.org</td>\n",
              "      <td>1115</td>\n",
              "      <td>apartment</td>\n",
              "      <td>694</td>\n",
              "      <td>1</td>\n",
              "      <td>1.0</td>\n",
              "      <td>1</td>\n",
              "      <td>...</td>\n",
              "      <td>0</td>\n",
              "      <td>0</td>\n",
              "      <td>0</td>\n",
              "      <td>w/d in unit</td>\n",
              "      <td>carport</td>\n",
              "      <td>https://images.craigslist.org/00R0R_5XAoSKvfrz...</td>\n",
              "      <td>Windtree Apartment Homes currently has a spaci...</td>\n",
              "      <td>38.9137</td>\n",
              "      <td>-104.7800</td>\n",
              "      <td>co</td>\n",
              "    </tr>\n",
              "    <tr>\n",
              "      <th>2</th>\n",
              "      <td>7048254516</td>\n",
              "      <td>https://norfolk.craigslist.org/apa/d/virginia-...</td>\n",
              "      <td>norfolk / hampton roads</td>\n",
              "      <td>https://norfolk.craigslist.org</td>\n",
              "      <td>1129</td>\n",
              "      <td>apartment</td>\n",
              "      <td>900</td>\n",
              "      <td>2</td>\n",
              "      <td>2.0</td>\n",
              "      <td>0</td>\n",
              "      <td>...</td>\n",
              "      <td>0</td>\n",
              "      <td>0</td>\n",
              "      <td>0</td>\n",
              "      <td>w/d hookups</td>\n",
              "      <td>off-street parking</td>\n",
              "      <td>https://images.craigslist.org/00f0f_3ZbTFrsHpZ...</td>\n",
              "      <td>Call Today!  show contact info   Indian Lakes ...</td>\n",
              "      <td>36.7922</td>\n",
              "      <td>-76.1643</td>\n",
              "      <td>va</td>\n",
              "    </tr>\n",
              "    <tr>\n",
              "      <th>3</th>\n",
              "      <td>7041032577</td>\n",
              "      <td>https://phoenix.craigslist.org/nph/apa/d/phoen...</td>\n",
              "      <td>phoenix</td>\n",
              "      <td>https://phoenix.craigslist.org</td>\n",
              "      <td>1580</td>\n",
              "      <td>house</td>\n",
              "      <td>1469</td>\n",
              "      <td>3</td>\n",
              "      <td>2.0</td>\n",
              "      <td>1</td>\n",
              "      <td>...</td>\n",
              "      <td>0</td>\n",
              "      <td>0</td>\n",
              "      <td>0</td>\n",
              "      <td>w/d in unit</td>\n",
              "      <td>None</td>\n",
              "      <td>https://images.craigslist.org/00f0f_aXV5Dkd5qk...</td>\n",
              "      <td>Cody Anderson Two Brothers Realty License #: S...</td>\n",
              "      <td>33.5623</td>\n",
              "      <td>-112.0560</td>\n",
              "      <td>az</td>\n",
              "    </tr>\n",
              "    <tr>\n",
              "      <th>4</th>\n",
              "      <td>7048588701</td>\n",
              "      <td>https://nashville.craigslist.org/apa/d/antioch...</td>\n",
              "      <td>nashville</td>\n",
              "      <td>https://nashville.craigslist.org</td>\n",
              "      <td>995</td>\n",
              "      <td>apartment</td>\n",
              "      <td>700</td>\n",
              "      <td>1</td>\n",
              "      <td>1.0</td>\n",
              "      <td>1</td>\n",
              "      <td>...</td>\n",
              "      <td>0</td>\n",
              "      <td>0</td>\n",
              "      <td>0</td>\n",
              "      <td>w/d in unit</td>\n",
              "      <td>carport</td>\n",
              "      <td>https://images.craigslist.org/00606_gYOGKClOHv...</td>\n",
              "      <td>To schedule a tour We now book our tour appoin...</td>\n",
              "      <td>36.0595</td>\n",
              "      <td>-86.6592</td>\n",
              "      <td>tn</td>\n",
              "    </tr>\n",
              "  </tbody>\n",
              "</table>\n",
              "<p>5 rows × 22 columns</p>\n",
              "</div>\n",
              "      <button class=\"colab-df-convert\" onclick=\"convertToInteractive('df-3db355f7-e178-4edd-8067-d9fa96426714')\"\n",
              "              title=\"Convert this dataframe to an interactive table.\"\n",
              "              style=\"display:none;\">\n",
              "        \n",
              "  <svg xmlns=\"http://www.w3.org/2000/svg\" height=\"24px\"viewBox=\"0 0 24 24\"\n",
              "       width=\"24px\">\n",
              "    <path d=\"M0 0h24v24H0V0z\" fill=\"none\"/>\n",
              "    <path d=\"M18.56 5.44l.94 2.06.94-2.06 2.06-.94-2.06-.94-.94-2.06-.94 2.06-2.06.94zm-11 1L8.5 8.5l.94-2.06 2.06-.94-2.06-.94L8.5 2.5l-.94 2.06-2.06.94zm10 10l.94 2.06.94-2.06 2.06-.94-2.06-.94-.94-2.06-.94 2.06-2.06.94z\"/><path d=\"M17.41 7.96l-1.37-1.37c-.4-.4-.92-.59-1.43-.59-.52 0-1.04.2-1.43.59L10.3 9.45l-7.72 7.72c-.78.78-.78 2.05 0 2.83L4 21.41c.39.39.9.59 1.41.59.51 0 1.02-.2 1.41-.59l7.78-7.78 2.81-2.81c.8-.78.8-2.07 0-2.86zM5.41 20L4 18.59l7.72-7.72 1.47 1.35L5.41 20z\"/>\n",
              "  </svg>\n",
              "      </button>\n",
              "      \n",
              "  <style>\n",
              "    .colab-df-container {\n",
              "      display:flex;\n",
              "      flex-wrap:wrap;\n",
              "      gap: 12px;\n",
              "    }\n",
              "\n",
              "    .colab-df-convert {\n",
              "      background-color: #E8F0FE;\n",
              "      border: none;\n",
              "      border-radius: 50%;\n",
              "      cursor: pointer;\n",
              "      display: none;\n",
              "      fill: #1967D2;\n",
              "      height: 32px;\n",
              "      padding: 0 0 0 0;\n",
              "      width: 32px;\n",
              "    }\n",
              "\n",
              "    .colab-df-convert:hover {\n",
              "      background-color: #E2EBFA;\n",
              "      box-shadow: 0px 1px 2px rgba(60, 64, 67, 0.3), 0px 1px 3px 1px rgba(60, 64, 67, 0.15);\n",
              "      fill: #174EA6;\n",
              "    }\n",
              "\n",
              "    [theme=dark] .colab-df-convert {\n",
              "      background-color: #3B4455;\n",
              "      fill: #D2E3FC;\n",
              "    }\n",
              "\n",
              "    [theme=dark] .colab-df-convert:hover {\n",
              "      background-color: #434B5C;\n",
              "      box-shadow: 0px 1px 3px 1px rgba(0, 0, 0, 0.15);\n",
              "      filter: drop-shadow(0px 1px 2px rgba(0, 0, 0, 0.3));\n",
              "      fill: #FFFFFF;\n",
              "    }\n",
              "  </style>\n",
              "\n",
              "      <script>\n",
              "        const buttonEl =\n",
              "          document.querySelector('#df-3db355f7-e178-4edd-8067-d9fa96426714 button.colab-df-convert');\n",
              "        buttonEl.style.display =\n",
              "          google.colab.kernel.accessAllowed ? 'block' : 'none';\n",
              "\n",
              "        async function convertToInteractive(key) {\n",
              "          const element = document.querySelector('#df-3db355f7-e178-4edd-8067-d9fa96426714');\n",
              "          const dataTable =\n",
              "            await google.colab.kernel.invokeFunction('convertToInteractive',\n",
              "                                                     [key], {});\n",
              "          if (!dataTable) return;\n",
              "\n",
              "          const docLinkHtml = 'Like what you see? Visit the ' +\n",
              "            '<a target=\"_blank\" href=https://colab.research.google.com/notebooks/data_table.ipynb>data table notebook</a>'\n",
              "            + ' to learn more about interactive tables.';\n",
              "          element.innerHTML = '';\n",
              "          dataTable['output_type'] = 'display_data';\n",
              "          await google.colab.output.renderOutput(dataTable, element);\n",
              "          const docLink = document.createElement('div');\n",
              "          docLink.innerHTML = docLinkHtml;\n",
              "          element.appendChild(docLink);\n",
              "        }\n",
              "      </script>\n",
              "    </div>\n",
              "  </div>\n",
              "  "
            ]
          },
          "metadata": {},
          "execution_count": 5
        }
      ]
    },
    {
      "cell_type": "markdown",
      "source": [
        "¿Qué tamaño tiene el dataframe?"
      ],
      "metadata": {
        "id": "7cGb5-ODwKVZ"
      }
    },
    {
      "cell_type": "code",
      "source": [
        "df.shape"
      ],
      "metadata": {
        "colab": {
          "base_uri": "https://localhost:8080/"
        },
        "id": "ICcyjrJQwA_H",
        "outputId": "a71749fa-1d26-4330-db92-401303c1ce34"
      },
      "execution_count": null,
      "outputs": [
        {
          "output_type": "execute_result",
          "data": {
            "text/plain": [
              "(346479, 22)"
            ]
          },
          "metadata": {},
          "execution_count": 6
        }
      ]
    },
    {
      "cell_type": "markdown",
      "source": [
        "\n",
        "¿Qué tipo de datos contiene cada columna? \n",
        "*Resulta extraño que la columna 'baths' sea de tipo float y no int.*"
      ],
      "metadata": {
        "id": "SAOoODyKweZs"
      }
    },
    {
      "cell_type": "code",
      "source": [
        "df.info()"
      ],
      "metadata": {
        "colab": {
          "base_uri": "https://localhost:8080/"
        },
        "id": "X5vuurJpqdqp",
        "outputId": "d97d7d50-13e8-4086-dcc1-a146687586d2"
      },
      "execution_count": null,
      "outputs": [
        {
          "output_type": "stream",
          "name": "stdout",
          "text": [
            "<class 'pandas.core.frame.DataFrame'>\n",
            "RangeIndex: 346479 entries, 0 to 346478\n",
            "Data columns (total 22 columns):\n",
            " #   Column                   Non-Null Count   Dtype  \n",
            "---  ------                   --------------   -----  \n",
            " 0   id                       346479 non-null  int64  \n",
            " 1   url                      346479 non-null  object \n",
            " 2   region                   346479 non-null  object \n",
            " 3   region_url               346479 non-null  object \n",
            " 4   price                    346479 non-null  int64  \n",
            " 5   type                     346479 non-null  object \n",
            " 6   sqfeet                   346479 non-null  int64  \n",
            " 7   beds                     346479 non-null  int64  \n",
            " 8   baths                    346479 non-null  float64\n",
            " 9   cats_allowed             346479 non-null  int64  \n",
            " 10  dogs_allowed             346479 non-null  int64  \n",
            " 11  smoking_allowed          346479 non-null  int64  \n",
            " 12  wheelchair_access        346479 non-null  int64  \n",
            " 13  electric_vehicle_charge  346479 non-null  int64  \n",
            " 14  comes_furnished          346479 non-null  int64  \n",
            " 15  laundry_options          275308 non-null  object \n",
            " 16  parking_options          219797 non-null  object \n",
            " 17  image_url                346479 non-null  object \n",
            " 18  description              346477 non-null  object \n",
            " 19  lat                      344757 non-null  float64\n",
            " 20  long                     344757 non-null  float64\n",
            " 21  state                    346479 non-null  object \n",
            "dtypes: float64(3), int64(10), object(9)\n",
            "memory usage: 58.2+ MB\n"
          ]
        }
      ]
    },
    {
      "cell_type": "markdown",
      "source": [
        "¿Cuantas dimensiones de cada tipo de dato tenemos en el dataframe?"
      ],
      "metadata": {
        "id": "cVspZlXUwfR-"
      }
    },
    {
      "cell_type": "code",
      "source": [
        "df.dtypes.value_counts()"
      ],
      "metadata": {
        "colab": {
          "base_uri": "https://localhost:8080/"
        },
        "id": "eoGgY7FLxKOK",
        "outputId": "3d525575-a412-4a25-fc09-bd072c874b25"
      },
      "execution_count": null,
      "outputs": [
        {
          "output_type": "execute_result",
          "data": {
            "text/plain": [
              "int64      10\n",
              "object      9\n",
              "float64     3\n",
              "dtype: int64"
            ]
          },
          "metadata": {},
          "execution_count": 8
        }
      ]
    },
    {
      "cell_type": "markdown",
      "source": [
        "###Valores Faltantes "
      ],
      "metadata": {
        "id": "F5StFnpyYLRy"
      }
    },
    {
      "cell_type": "markdown",
      "source": [
        "Analicemos los valores nulos ¿Cuántos valores nulos tenemos en el total en el conjunto de datos?"
      ],
      "metadata": {
        "id": "HFW8F4_W89TH"
      }
    },
    {
      "cell_type": "code",
      "source": [
        "df.isnull().sum().sum()"
      ],
      "metadata": {
        "colab": {
          "base_uri": "https://localhost:8080/"
        },
        "id": "ysP27I6w8nJN",
        "outputId": "e301a9a4-561f-4bf2-fa85-614e25ca9961"
      },
      "execution_count": null,
      "outputs": [
        {
          "output_type": "execute_result",
          "data": {
            "text/plain": [
              "201299"
            ]
          },
          "metadata": {},
          "execution_count": 9
        }
      ]
    },
    {
      "cell_type": "markdown",
      "source": [
        "¿Cuántos tenemos por cada dimensión?"
      ],
      "metadata": {
        "id": "nwrh9c7y9D82"
      }
    },
    {
      "cell_type": "code",
      "source": [
        "df.isnull().sum()"
      ],
      "metadata": {
        "colab": {
          "base_uri": "https://localhost:8080/"
        },
        "id": "ivav8gu29DWS",
        "outputId": "8caeece2-90c2-479e-8311-7ef1804d48ad"
      },
      "execution_count": null,
      "outputs": [
        {
          "output_type": "execute_result",
          "data": {
            "text/plain": [
              "id                              0\n",
              "url                             0\n",
              "region                          0\n",
              "region_url                      0\n",
              "price                           0\n",
              "type                            0\n",
              "sqfeet                          0\n",
              "beds                            0\n",
              "baths                           0\n",
              "cats_allowed                    0\n",
              "dogs_allowed                    0\n",
              "smoking_allowed                 0\n",
              "wheelchair_access               0\n",
              "electric_vehicle_charge         0\n",
              "comes_furnished                 0\n",
              "laundry_options             71171\n",
              "parking_options            126682\n",
              "image_url                       0\n",
              "description                     2\n",
              "lat                          1722\n",
              "long                         1722\n",
              "state                           0\n",
              "dtype: int64"
            ]
          },
          "metadata": {},
          "execution_count": 10
        }
      ]
    },
    {
      "cell_type": "markdown",
      "source": [
        "Graficamente observamos los valores nulos y podemos decir que representan menos del 5% en lat y long , un poco más de 20% en laundry_options y casi el 40% en parking_options ."
      ],
      "metadata": {
        "id": "vTQYP8nR9ao4"
      }
    },
    {
      "cell_type": "code",
      "source": [
        "(df.isnull().melt().pipe(lambda df: (sns.displot(data=df,y='variable',hue='value',multiple='fill',aspect=3))))"
      ],
      "metadata": {
        "colab": {
          "base_uri": "https://localhost:8080/",
          "height": 320
        },
        "id": "ePLyrVyM9Uqk",
        "outputId": "54c9bb9b-bfb0-400e-ef7b-7da730f70296"
      },
      "execution_count": null,
      "outputs": [
        {
          "output_type": "execute_result",
          "data": {
            "text/plain": [
              "<seaborn.axisgrid.FacetGrid at 0x7f9d5da01d60>"
            ]
          },
          "metadata": {},
          "execution_count": 11
        },
        {
          "output_type": "display_data",
          "data": {
            "text/plain": [
              "<Figure size 1147.47x360 with 1 Axes>"
            ],
            "image/png": "[encoded data removed]"
          },
          "metadata": {}
        }
      ]
    },
    {
      "cell_type": "markdown",
      "source": [
        "### Análisis de presición (errores en los datos)"
      ],
      "metadata": {
        "id": "R9ublfvXZjPJ"
      }
    },
    {
      "cell_type": "markdown",
      "source": [
        "Vamos a analizar latitud y longitud. Vemos que el dataset contiene datos de los 50 estados y la capital , por lo que los valores para encontrarse dentro de EEUU deben estar entre\n",
        "\n",
        "Latitud : 18.9 y 71.383\n",
        "Longitud: -66.95 y -172.43"
      ],
      "metadata": {
        "id": "4S6DzdRz-1xG"
      }
    },
    {
      "cell_type": "code",
      "source": [
        "state=df['state'].unique()\n",
        "state.size"
      ],
      "metadata": {
        "colab": {
          "base_uri": "https://localhost:8080/"
        },
        "id": "_z88EcJx-3fT",
        "outputId": "cef30b3b-ed5e-445e-fe7f-ecb6e8d0ab8d"
      },
      "execution_count": null,
      "outputs": [
        {
          "output_type": "execute_result",
          "data": {
            "text/plain": [
              "51"
            ]
          },
          "metadata": {},
          "execution_count": 12
        }
      ]
    },
    {
      "cell_type": "code",
      "source": [
        "df.lat.min(),df.lat.max(),df.long.min(),df.long.max()"
      ],
      "metadata": {
        "colab": {
          "base_uri": "https://localhost:8080/"
        },
        "id": "NBEzdn7heA2_",
        "outputId": "e5e8c1a4-2d6e-4b28-cfca-a0f5efa191df"
      },
      "execution_count": null,
      "outputs": [
        {
          "output_type": "execute_result",
          "data": {
            "text/plain": [
              "(-43.5333, 102.036, -163.894, 172.633)"
            ]
          },
          "metadata": {},
          "execution_count": 13
        }
      ]
    },
    {
      "cell_type": "markdown",
      "source": [
        "¿Cuántos valores se encuentran fuera del rango?\n",
        "\n",
        "Latitud : 18.9 y 71.383 Longitud: -66.95 y -172.43\n",
        "\n"
      ],
      "metadata": {
        "id": "rv11iqZIiaIs"
      }
    },
    {
      "cell_type": "code",
      "source": [
        "#Latitud\n",
        "len(df[df['lat']< 18.9 ]) , len(df[df['lat']> 73.383 ]) "
      ],
      "metadata": {
        "colab": {
          "base_uri": "https://localhost:8080/"
        },
        "id": "WarjQrB7iZJb",
        "outputId": "c343e5c0-91d0-4c2d-d012-ae0fe8f10da9"
      },
      "execution_count": null,
      "outputs": [
        {
          "output_type": "execute_result",
          "data": {
            "text/plain": [
              "(17, 4)"
            ]
          },
          "metadata": {},
          "execution_count": 14
        }
      ]
    },
    {
      "cell_type": "code",
      "source": [
        "#Longitud\n",
        "len(df[df['long']> -66.95]) , len(df[df['long']< -172.83]) "
      ],
      "metadata": {
        "colab": {
          "base_uri": "https://localhost:8080/"
        },
        "id": "YE8oNsyMkOQ9",
        "outputId": "c83eb808-b183-4cb0-ddf7-1046751a04fc"
      },
      "execution_count": null,
      "outputs": [
        {
          "output_type": "execute_result",
          "data": {
            "text/plain": [
              "(225, 0)"
            ]
          },
          "metadata": {},
          "execution_count": 15
        }
      ]
    },
    {
      "cell_type": "markdown",
      "source": [
        "### Valores duplicados"
      ],
      "metadata": {
        "id": "KrxSy3W9mqAl"
      }
    },
    {
      "cell_type": "markdown",
      "source": [
        "Analizamos si existen registros duplicados en todo el dataframe. Obviamente obtenemos cero por el id único por registro. \n"
      ],
      "metadata": {
        "id": "uKa7lA8OUhq4"
      }
    },
    {
      "cell_type": "code",
      "source": [
        "df.duplicated().sum()"
      ],
      "metadata": {
        "colab": {
          "base_uri": "https://localhost:8080/"
        },
        "id": "H23PCfwGUepq",
        "outputId": "33e381c7-a155-4c8d-c247-38e946a3495d"
      },
      "execution_count": null,
      "outputs": [
        {
          "output_type": "execute_result",
          "data": {
            "text/plain": [
              "0"
            ]
          },
          "metadata": {},
          "execution_count": 16
        }
      ]
    },
    {
      "cell_type": "markdown",
      "source": [
        "Es natural en la industria inmobiliaria que las mismas unidades se publiquen para su venta mas de una vez en distintos momentos o inclusive en diferentes páginas al mismo tiempo, por ello analizamos las coincidencias teniendo en cuenta determinadas columnas."
      ],
      "metadata": {
        "id": "4vYR-lWxm75b"
      }
    },
    {
      "cell_type": "code",
      "source": [
        "df.duplicated(subset=['region','type','price','sqfeet','state','description']).sum()"
      ],
      "metadata": {
        "colab": {
          "base_uri": "https://localhost:8080/"
        },
        "id": "jjwg_1r5lUdf",
        "outputId": "2b02770f-7b95-4288-ae9a-d02f95beb479"
      },
      "execution_count": null,
      "outputs": [
        {
          "output_type": "execute_result",
          "data": {
            "text/plain": [
              "72417"
            ]
          },
          "metadata": {},
          "execution_count": 17
        }
      ]
    },
    {
      "cell_type": "markdown",
      "source": [
        "### Valores Atípicos"
      ],
      "metadata": {
        "id": "HMRDVkWFpOr9"
      }
    },
    {
      "cell_type": "markdown",
      "source": [
        "#### Variables Numéricas"
      ],
      "metadata": {
        "id": "UdNiNTzKr8Ym"
      }
    },
    {
      "cell_type": "markdown",
      "source": [
        "Visión General"
      ],
      "metadata": {
        "id": "MFYi0zME7ne2"
      }
    },
    {
      "cell_type": "code",
      "source": [
        "df.describe()"
      ],
      "metadata": {
        "colab": {
          "base_uri": "https://localhost:8080/",
          "height": 364
        },
        "id": "szO2cm5s7nM0",
        "outputId": "d8410b89-aefb-41ce-b0ef-36e02673cc4c"
      },
      "execution_count": null,
      "outputs": [
        {
          "output_type": "execute_result",
          "data": {
            "text/plain": [
              "                 id         price        sqfeet           beds          baths  \\\n",
              "count  3.464790e+05  3.464790e+05  3.464790e+05  346479.000000  346479.000000   \n",
              "mean   7.040988e+09  9.664420e+03  1.066326e+03       1.903189       1.480339   \n",
              "std    8.802214e+06  4.703573e+06  2.018537e+04       3.162685       0.608246   \n",
              "min    7.003808e+09  0.000000e+00  0.000000e+00       0.000000       0.000000   \n",
              "25%    7.035988e+09  8.050000e+02  7.500000e+02       1.000000       1.000000   \n",
              "50%    7.043325e+09  1.036000e+03  9.490000e+02       2.000000       1.000000   \n",
              "75%    7.048431e+09  1.395000e+03  1.150000e+03       2.000000       2.000000   \n",
              "max    7.051292e+09  2.768307e+09  8.388607e+06    1100.000000      75.000000   \n",
              "\n",
              "        cats_allowed   dogs_allowed  smoking_allowed  wheelchair_access  \\\n",
              "count  346479.000000  346479.000000    346479.000000       346479.00000   \n",
              "mean        0.726803       0.707861         0.731738            0.08197   \n",
              "std         0.445602       0.454746         0.443055            0.27432   \n",
              "min         0.000000       0.000000         0.000000            0.00000   \n",
              "25%         0.000000       0.000000         0.000000            0.00000   \n",
              "50%         1.000000       1.000000         1.000000            0.00000   \n",
              "75%         1.000000       1.000000         1.000000            0.00000   \n",
              "max         1.000000       1.000000         1.000000            1.00000   \n",
              "\n",
              "       electric_vehicle_charge  comes_furnished            lat           long  \n",
              "count            346479.000000    346479.000000  344757.000000  344757.000000  \n",
              "mean                  0.012792         0.048141      37.234363     -92.705415  \n",
              "std                   0.112374         0.214065       5.550956      16.551071  \n",
              "min                   0.000000         0.000000     -43.533300    -163.894000  \n",
              "25%                   0.000000         0.000000      33.453100    -100.784000  \n",
              "50%                   0.000000         0.000000      37.650100     -87.710800  \n",
              "75%                   0.000000         0.000000      41.137900     -81.174600  \n",
              "max                   1.000000         1.000000     102.036000     172.633000  "
            ],
            "text/html": [
              "\n",
              "  <div id=\"df-a3372b17-b745-4dcb-b3af-3ae11b651116\">\n",
              "    <div class=\"colab-df-container\">\n",
              "      <div>\n",
              "<style scoped>\n",
              "    .dataframe tbody tr th:only-of-type {\n",
              "        vertical-align: middle;\n",
              "    }\n",
              "\n",
              "    .dataframe tbody tr th {\n",
              "        vertical-align: top;\n",
              "    }\n",
              "\n",
              "    .dataframe thead th {\n",
              "        text-align: right;\n",
              "    }\n",
              "</style>\n",
              "<table border=\"1\" class=\"dataframe\">\n",
              "  <thead>\n",
              "    <tr style=\"text-align: right;\">\n",
              "      <th></th>\n",
              "      <th>id</th>\n",
              "      <th>price</th>\n",
              "      <th>sqfeet</th>\n",
              "      <th>beds</th>\n",
              "      <th>baths</th>\n",
              "      <th>cats_allowed</th>\n",
              "      <th>dogs_allowed</th>\n",
              "      <th>smoking_allowed</th>\n",
              "      <th>wheelchair_access</th>\n",
              "      <th>electric_vehicle_charge</th>\n",
              "      <th>comes_furnished</th>\n",
              "      <th>lat</th>\n",
              "      <th>long</th>\n",
              "    </tr>\n",
              "  </thead>\n",
              "  <tbody>\n",
              "    <tr>\n",
              "      <th>count</th>\n",
              "      <td>3.464790e+05</td>\n",
              "      <td>3.464790e+05</td>\n",
              "      <td>3.464790e+05</td>\n",
              "      <td>346479.000000</td>\n",
              "      <td>346479.000000</td>\n",
              "      <td>346479.000000</td>\n",
              "      <td>346479.000000</td>\n",
              "      <td>346479.000000</td>\n",
              "      <td>346479.00000</td>\n",
              "      <td>346479.000000</td>\n",
              "      <td>346479.000000</td>\n",
              "      <td>344757.000000</td>\n",
              "      <td>344757.000000</td>\n",
              "    </tr>\n",
              "    <tr>\n",
              "      <th>mean</th>\n",
              "      <td>7.040988e+09</td>\n",
              "      <td>9.664420e+03</td>\n",
              "      <td>1.066326e+03</td>\n",
              "      <td>1.903189</td>\n",
              "      <td>1.480339</td>\n",
              "      <td>0.726803</td>\n",
              "      <td>0.707861</td>\n",
              "      <td>0.731738</td>\n",
              "      <td>0.08197</td>\n",
              "      <td>0.012792</td>\n",
              "      <td>0.048141</td>\n",
              "      <td>37.234363</td>\n",
              "      <td>-92.705415</td>\n",
              "    </tr>\n",
              "    <tr>\n",
              "      <th>std</th>\n",
              "      <td>8.802214e+06</td>\n",
              "      <td>4.703573e+06</td>\n",
              "      <td>2.018537e+04</td>\n",
              "      <td>3.162685</td>\n",
              "      <td>0.608246</td>\n",
              "      <td>0.445602</td>\n",
              "      <td>0.454746</td>\n",
              "      <td>0.443055</td>\n",
              "      <td>0.27432</td>\n",
              "      <td>0.112374</td>\n",
              "      <td>0.214065</td>\n",
              "      <td>5.550956</td>\n",
              "      <td>16.551071</td>\n",
              "    </tr>\n",
              "    <tr>\n",
              "      <th>min</th>\n",
              "      <td>7.003808e+09</td>\n",
              "      <td>0.000000e+00</td>\n",
              "      <td>0.000000e+00</td>\n",
              "      <td>0.000000</td>\n",
              "      <td>0.000000</td>\n",
              "      <td>0.000000</td>\n",
              "      <td>0.000000</td>\n",
              "      <td>0.000000</td>\n",
              "      <td>0.00000</td>\n",
              "      <td>0.000000</td>\n",
              "      <td>0.000000</td>\n",
              "      <td>-43.533300</td>\n",
              "      <td>-163.894000</td>\n",
              "    </tr>\n",
              "    <tr>\n",
              "      <th>25%</th>\n",
              "      <td>7.035988e+09</td>\n",
              "      <td>8.050000e+02</td>\n",
              "      <td>7.500000e+02</td>\n",
              "      <td>1.000000</td>\n",
              "      <td>1.000000</td>\n",
              "      <td>0.000000</td>\n",
              "      <td>0.000000</td>\n",
              "      <td>0.000000</td>\n",
              "      <td>0.00000</td>\n",
              "      <td>0.000000</td>\n",
              "      <td>0.000000</td>\n",
              "      <td>33.453100</td>\n",
              "      <td>-100.784000</td>\n",
              "    </tr>\n",
              "    <tr>\n",
              "      <th>50%</th>\n",
              "      <td>7.043325e+09</td>\n",
              "      <td>1.036000e+03</td>\n",
              "      <td>9.490000e+02</td>\n",
              "      <td>2.000000</td>\n",
              "      <td>1.000000</td>\n",
              "      <td>1.000000</td>\n",
              "      <td>1.000000</td>\n",
              "      <td>1.000000</td>\n",
              "      <td>0.00000</td>\n",
              "      <td>0.000000</td>\n",
              "      <td>0.000000</td>\n",
              "      <td>37.650100</td>\n",
              "      <td>-87.710800</td>\n",
              "    </tr>\n",
              "    <tr>\n",
              "      <th>75%</th>\n",
              "      <td>7.048431e+09</td>\n",
              "      <td>1.395000e+03</td>\n",
              "      <td>1.150000e+03</td>\n",
              "      <td>2.000000</td>\n",
              "      <td>2.000000</td>\n",
              "      <td>1.000000</td>\n",
              "      <td>1.000000</td>\n",
              "      <td>1.000000</td>\n",
              "      <td>0.00000</td>\n",
              "      <td>0.000000</td>\n",
              "      <td>0.000000</td>\n",
              "      <td>41.137900</td>\n",
              "      <td>-81.174600</td>\n",
              "    </tr>\n",
              "    <tr>\n",
              "      <th>max</th>\n",
              "      <td>7.051292e+09</td>\n",
              "      <td>2.768307e+09</td>\n",
              "      <td>8.388607e+06</td>\n",
              "      <td>1100.000000</td>\n",
              "      <td>75.000000</td>\n",
              "      <td>1.000000</td>\n",
              "      <td>1.000000</td>\n",
              "      <td>1.000000</td>\n",
              "      <td>1.00000</td>\n",
              "      <td>1.000000</td>\n",
              "      <td>1.000000</td>\n",
              "      <td>102.036000</td>\n",
              "      <td>172.633000</td>\n",
              "    </tr>\n",
              "  </tbody>\n",
              "</table>\n",
              "</div>\n",
              "      <button class=\"colab-df-convert\" onclick=\"convertToInteractive('df-a3372b17-b745-4dcb-b3af-3ae11b651116')\"\n",
              "              title=\"Convert this dataframe to an interactive table.\"\n",
              "              style=\"display:none;\">\n",
              "        \n",
              "  <svg xmlns=\"http://www.w3.org/2000/svg\" height=\"24px\"viewBox=\"0 0 24 24\"\n",
              "       width=\"24px\">\n",
              "    <path d=\"M0 0h24v24H0V0z\" fill=\"none\"/>\n",
              "    <path d=\"M18.56 5.44l.94 2.06.94-2.06 2.06-.94-2.06-.94-.94-2.06-.94 2.06-2.06.94zm-11 1L8.5 8.5l.94-2.06 2.06-.94-2.06-.94L8.5 2.5l-.94 2.06-2.06.94zm10 10l.94 2.06.94-2.06 2.06-.94-2.06-.94-.94-2.06-.94 2.06-2.06.94z\"/><path d=\"M17.41 7.96l-1.37-1.37c-.4-.4-.92-.59-1.43-.59-.52 0-1.04.2-1.43.59L10.3 9.45l-7.72 7.72c-.78.78-.78 2.05 0 2.83L4 21.41c.39.39.9.59 1.41.59.51 0 1.02-.2 1.41-.59l7.78-7.78 2.81-2.81c.8-.78.8-2.07 0-2.86zM5.41 20L4 18.59l7.72-7.72 1.47 1.35L5.41 20z\"/>\n",
              "  </svg>\n",
              "      </button>\n",
              "      \n",
              "  <style>\n",
              "    .colab-df-container {\n",
              "      display:flex;\n",
              "      flex-wrap:wrap;\n",
              "      gap: 12px;\n",
              "    }\n",
              "\n",
              "    .colab-df-convert {\n",
              "      background-color: #E8F0FE;\n",
              "      border: none;\n",
              "      border-radius: 50%;\n",
              "      cursor: pointer;\n",
              "      display: none;\n",
              "      fill: #1967D2;\n",
              "      height: 32px;\n",
              "      padding: 0 0 0 0;\n",
              "      width: 32px;\n",
              "    }\n",
              "\n",
              "    .colab-df-convert:hover {\n",
              "      background-color: #E2EBFA;\n",
              "      box-shadow: 0px 1px 2px rgba(60, 64, 67, 0.3), 0px 1px 3px 1px rgba(60, 64, 67, 0.15);\n",
              "      fill: #174EA6;\n",
              "    }\n",
              "\n",
              "    [theme=dark] .colab-df-convert {\n",
              "      background-color: #3B4455;\n",
              "      fill: #D2E3FC;\n",
              "    }\n",
              "\n",
              "    [theme=dark] .colab-df-convert:hover {\n",
              "      background-color: #434B5C;\n",
              "      box-shadow: 0px 1px 3px 1px rgba(0, 0, 0, 0.15);\n",
              "      filter: drop-shadow(0px 1px 2px rgba(0, 0, 0, 0.3));\n",
              "      fill: #FFFFFF;\n",
              "    }\n",
              "  </style>\n",
              "\n",
              "      <script>\n",
              "        const buttonEl =\n",
              "          document.querySelector('#df-a3372b17-b745-4dcb-b3af-3ae11b651116 button.colab-df-convert');\n",
              "        buttonEl.style.display =\n",
              "          google.colab.kernel.accessAllowed ? 'block' : 'none';\n",
              "\n",
              "        async function convertToInteractive(key) {\n",
              "          const element = document.querySelector('#df-a3372b17-b745-4dcb-b3af-3ae11b651116');\n",
              "          const dataTable =\n",
              "            await google.colab.kernel.invokeFunction('convertToInteractive',\n",
              "                                                     [key], {});\n",
              "          if (!dataTable) return;\n",
              "\n",
              "          const docLinkHtml = 'Like what you see? Visit the ' +\n",
              "            '<a target=\"_blank\" href=https://colab.research.google.com/notebooks/data_table.ipynb>data table notebook</a>'\n",
              "            + ' to learn more about interactive tables.';\n",
              "          element.innerHTML = '';\n",
              "          dataTable['output_type'] = 'display_data';\n",
              "          await google.colab.output.renderOutput(dataTable, element);\n",
              "          const docLink = document.createElement('div');\n",
              "          docLink.innerHTML = docLinkHtml;\n",
              "          element.appendChild(docLink);\n",
              "        }\n",
              "      </script>\n",
              "    </div>\n",
              "  </div>\n",
              "  "
            ]
          },
          "metadata": {},
          "execution_count": 18
        }
      ]
    },
    {
      "cell_type": "markdown",
      "source": [
        "#####Baths"
      ],
      "metadata": {
        "id": "r_1-KXDVVwMN"
      }
    },
    {
      "cell_type": "markdown",
      "source": [
        "Observar la distribución de los datos en la columna baths"
      ],
      "metadata": {
        "id": "jyu848Hi1apB"
      }
    },
    {
      "cell_type": "code",
      "source": [
        "boxplot = df.boxplot(column='baths')  "
      ],
      "metadata": {
        "colab": {
          "base_uri": "https://localhost:8080/",
          "height": 561
        },
        "id": "CQjXzze01qkY",
        "outputId": "4d282bb9-057f-4c4e-ab84-f297a3c7f04b"
      },
      "execution_count": null,
      "outputs": [
        {
          "output_type": "display_data",
          "data": {
            "text/plain": [
              "<Figure size 792x676.8 with 1 Axes>"
            ],
            "image/png": "[encoded data removed]"
          },
          "metadata": {}
        }
      ]
    },
    {
      "cell_type": "code",
      "source": [
        "plt.hist(x=df['baths'], bins=100, rwidth=0.85)\n",
        "plt.title('Histograma de distribución de frecuencias')\n",
        "plt.xlim(0,5) #limitamos el eje x por los outliers\n",
        "plt.xlabel('Cantidad')\n",
        "plt.ylabel('Frecuencia')\n",
        "plt.show() #dibujamos el histograma"
      ],
      "metadata": {
        "colab": {
          "base_uri": "https://localhost:8080/",
          "height": 594
        },
        "id": "LIIwji-Vs8vt",
        "outputId": "761d512e-ac2a-4171-8bd4-4b1a481df7a7"
      },
      "execution_count": null,
      "outputs": [
        {
          "output_type": "display_data",
          "data": {
            "text/plain": [
              "<Figure size 792x676.8 with 1 Axes>"
            ],
            "image/png": "[encoded data removed]"
          },
          "metadata": {}
        }
      ]
    },
    {
      "cell_type": "markdown",
      "source": [
        "Analizamos los valores únicos que toma la columna baths."
      ],
      "metadata": {
        "id": "Xv_FAGUTyqKW"
      }
    },
    {
      "cell_type": "code",
      "source": [
        "df['baths'].unique()"
      ],
      "metadata": {
        "colab": {
          "base_uri": "https://localhost:8080/"
        },
        "id": "12BZMy_bypp3",
        "outputId": "2199c7a8-ec26-4e70-faff-1c5ba85d66cb"
      },
      "execution_count": null,
      "outputs": [
        {
          "output_type": "execute_result",
          "data": {
            "text/plain": [
              "array([ 2. ,  1. ,  1.5,  2.5,  0. ,  3.5,  4. ,  3. ,  4.5,  5. ,  6.5,\n",
              "        5.5,  7. ,  6. , 25. ,  7.5, 35. ,  8. ,  8.5, 75. ])"
            ]
          },
          "metadata": {},
          "execution_count": 21
        }
      ]
    },
    {
      "cell_type": "markdown",
      "source": [
        "Existen 3 filas con valores extraños por el momento, las dejamos , volveremos a ellas al momento de transformar el dataframe."
      ],
      "metadata": {
        "id": "bNr2aiwO4Wi6"
      }
    },
    {
      "cell_type": "code",
      "source": [
        "bathoutliers=df[df['baths']>10]\n",
        "bathoutliers"
      ],
      "metadata": {
        "colab": {
          "base_uri": "https://localhost:8080/",
          "height": 376
        },
        "id": "Xw5lo-vS0dFe",
        "outputId": "51ee61f8-7485-4a7c-d5c9-eda417716efc"
      },
      "execution_count": null,
      "outputs": [
        {
          "output_type": "execute_result",
          "data": {
            "text/plain": [
              "                id                                                url  \\\n",
              "98062   7036731908  https://youngstown.craigslist.org/apa/d/youngs...   \n",
              "252352  7008717287  https://keys.craigslist.org/apa/d/big-pine-key...   \n",
              "316209  7045590325  https://chicago.craigslist.org/chc/apa/d/chica...   \n",
              "\n",
              "              region                         region_url  price       type  \\\n",
              "98062     youngstown  https://youngstown.craigslist.org    550  apartment   \n",
              "252352  florida keys        https://keys.craigslist.org   1500       land   \n",
              "316209       chicago     https://chicago.craigslist.org   2449  apartment   \n",
              "\n",
              "        sqfeet  beds  baths  cats_allowed  ...  wheelchair_access  \\\n",
              "98062      250  1000   25.0             0  ...                  0   \n",
              "252352     100  1000   35.0             1  ...                  0   \n",
              "316209    1000  1100   75.0             0  ...                  0   \n",
              "\n",
              "        electric_vehicle_charge  comes_furnished  laundry_options  \\\n",
              "98062                         0                0             None   \n",
              "252352                        0                0  laundry on site   \n",
              "316209                        0                0      w/d in unit   \n",
              "\n",
              "           parking_options                                          image_url  \\\n",
              "98062       street parking  https://images.craigslist.org/00E0E_1pOzidFERz...   \n",
              "252352  off-street parking  https://images.craigslist.org/00X0X_8Uj7FjWxo3...   \n",
              "316209             carport  https://images.craigslist.org/01313_eF1HZRmyfa...   \n",
              "\n",
              "                                              description      lat     long  \\\n",
              "98062                                           2 bedroom  41.0252 -80.6687   \n",
              "252352  Only one lot available now from now to January...  24.6706 -81.3653   \n",
              "316209  Furnished or Unfurnished Units Includes Parkin...  42.0195 -87.6650   \n",
              "\n",
              "        state  \n",
              "98062      oh  \n",
              "252352     fl  \n",
              "316209     il  \n",
              "\n",
              "[3 rows x 22 columns]"
            ],
            "text/html": [
              "\n",
              "  <div id=\"df-36ff2488-2e78-46bb-9ea9-345184312f32\">\n",
              "    <div class=\"colab-df-container\">\n",
              "      <div>\n",
              "<style scoped>\n",
              "    .dataframe tbody tr th:only-of-type {\n",
              "        vertical-align: middle;\n",
              "    }\n",
              "\n",
              "    .dataframe tbody tr th {\n",
              "        vertical-align: top;\n",
              "    }\n",
              "\n",
              "    .dataframe thead th {\n",
              "        text-align: right;\n",
              "    }\n",
              "</style>\n",
              "<table border=\"1\" class=\"dataframe\">\n",
              "  <thead>\n",
              "    <tr style=\"text-align: right;\">\n",
              "      <th></th>\n",
              "      <th>id</th>\n",
              "      <th>url</th>\n",
              "      <th>region</th>\n",
              "      <th>region_url</th>\n",
              "      <th>price</th>\n",
              "      <th>type</th>\n",
              "      <th>sqfeet</th>\n",
              "      <th>beds</th>\n",
              "      <th>baths</th>\n",
              "      <th>cats_allowed</th>\n",
              "      <th>...</th>\n",
              "      <th>wheelchair_access</th>\n",
              "      <th>electric_vehicle_charge</th>\n",
              "      <th>comes_furnished</th>\n",
              "      <th>laundry_options</th>\n",
              "      <th>parking_options</th>\n",
              "      <th>image_url</th>\n",
              "      <th>description</th>\n",
              "      <th>lat</th>\n",
              "      <th>long</th>\n",
              "      <th>state</th>\n",
              "    </tr>\n",
              "  </thead>\n",
              "  <tbody>\n",
              "    <tr>\n",
              "      <th>98062</th>\n",
              "      <td>7036731908</td>\n",
              "      <td>https://youngstown.craigslist.org/apa/d/youngs...</td>\n",
              "      <td>youngstown</td>\n",
              "      <td>https://youngstown.craigslist.org</td>\n",
              "      <td>550</td>\n",
              "      <td>apartment</td>\n",
              "      <td>250</td>\n",
              "      <td>1000</td>\n",
              "      <td>25.0</td>\n",
              "      <td>0</td>\n",
              "      <td>...</td>\n",
              "      <td>0</td>\n",
              "      <td>0</td>\n",
              "      <td>0</td>\n",
              "      <td>None</td>\n",
              "      <td>street parking</td>\n",
              "      <td>https://images.craigslist.org/00E0E_1pOzidFERz...</td>\n",
              "      <td>2 bedroom</td>\n",
              "      <td>41.0252</td>\n",
              "      <td>-80.6687</td>\n",
              "      <td>oh</td>\n",
              "    </tr>\n",
              "    <tr>\n",
              "      <th>252352</th>\n",
              "      <td>7008717287</td>\n",
              "      <td>https://keys.craigslist.org/apa/d/big-pine-key...</td>\n",
              "      <td>florida keys</td>\n",
              "      <td>https://keys.craigslist.org</td>\n",
              "      <td>1500</td>\n",
              "      <td>land</td>\n",
              "      <td>100</td>\n",
              "      <td>1000</td>\n",
              "      <td>35.0</td>\n",
              "      <td>1</td>\n",
              "      <td>...</td>\n",
              "      <td>0</td>\n",
              "      <td>0</td>\n",
              "      <td>0</td>\n",
              "      <td>laundry on site</td>\n",
              "      <td>off-street parking</td>\n",
              "      <td>https://images.craigslist.org/00X0X_8Uj7FjWxo3...</td>\n",
              "      <td>Only one lot available now from now to January...</td>\n",
              "      <td>24.6706</td>\n",
              "      <td>-81.3653</td>\n",
              "      <td>fl</td>\n",
              "    </tr>\n",
              "    <tr>\n",
              "      <th>316209</th>\n",
              "      <td>7045590325</td>\n",
              "      <td>https://chicago.craigslist.org/chc/apa/d/chica...</td>\n",
              "      <td>chicago</td>\n",
              "      <td>https://chicago.craigslist.org</td>\n",
              "      <td>2449</td>\n",
              "      <td>apartment</td>\n",
              "      <td>1000</td>\n",
              "      <td>1100</td>\n",
              "      <td>75.0</td>\n",
              "      <td>0</td>\n",
              "      <td>...</td>\n",
              "      <td>0</td>\n",
              "      <td>0</td>\n",
              "      <td>0</td>\n",
              "      <td>w/d in unit</td>\n",
              "      <td>carport</td>\n",
              "      <td>https://images.craigslist.org/01313_eF1HZRmyfa...</td>\n",
              "      <td>Furnished or Unfurnished Units Includes Parkin...</td>\n",
              "      <td>42.0195</td>\n",
              "      <td>-87.6650</td>\n",
              "      <td>il</td>\n",
              "    </tr>\n",
              "  </tbody>\n",
              "</table>\n",
              "<p>3 rows × 22 columns</p>\n",
              "</div>\n",
              "      <button class=\"colab-df-convert\" onclick=\"convertToInteractive('df-36ff2488-2e78-46bb-9ea9-345184312f32')\"\n",
              "              title=\"Convert this dataframe to an interactive table.\"\n",
              "              style=\"display:none;\">\n",
              "        \n",
              "  <svg xmlns=\"http://www.w3.org/2000/svg\" height=\"24px\"viewBox=\"0 0 24 24\"\n",
              "       width=\"24px\">\n",
              "    <path d=\"M0 0h24v24H0V0z\" fill=\"none\"/>\n",
              "    <path d=\"M18.56 5.44l.94 2.06.94-2.06 2.06-.94-2.06-.94-.94-2.06-.94 2.06-2.06.94zm-11 1L8.5 8.5l.94-2.06 2.06-.94-2.06-.94L8.5 2.5l-.94 2.06-2.06.94zm10 10l.94 2.06.94-2.06 2.06-.94-2.06-.94-.94-2.06-.94 2.06-2.06.94z\"/><path d=\"M17.41 7.96l-1.37-1.37c-.4-.4-.92-.59-1.43-.59-.52 0-1.04.2-1.43.59L10.3 9.45l-7.72 7.72c-.78.78-.78 2.05 0 2.83L4 21.41c.39.39.9.59 1.41.59.51 0 1.02-.2 1.41-.59l7.78-7.78 2.81-2.81c.8-.78.8-2.07 0-2.86zM5.41 20L4 18.59l7.72-7.72 1.47 1.35L5.41 20z\"/>\n",
              "  </svg>\n",
              "      </button>\n",
              "      \n",
              "  <style>\n",
              "    .colab-df-container {\n",
              "      display:flex;\n",
              "      flex-wrap:wrap;\n",
              "      gap: 12px;\n",
              "    }\n",
              "\n",
              "    .colab-df-convert {\n",
              "      background-color: #E8F0FE;\n",
              "      border: none;\n",
              "      border-radius: 50%;\n",
              "      cursor: pointer;\n",
              "      display: none;\n",
              "      fill: #1967D2;\n",
              "      height: 32px;\n",
              "      padding: 0 0 0 0;\n",
              "      width: 32px;\n",
              "    }\n",
              "\n",
              "    .colab-df-convert:hover {\n",
              "      background-color: #E2EBFA;\n",
              "      box-shadow: 0px 1px 2px rgba(60, 64, 67, 0.3), 0px 1px 3px 1px rgba(60, 64, 67, 0.15);\n",
              "      fill: #174EA6;\n",
              "    }\n",
              "\n",
              "    [theme=dark] .colab-df-convert {\n",
              "      background-color: #3B4455;\n",
              "      fill: #D2E3FC;\n",
              "    }\n",
              "\n",
              "    [theme=dark] .colab-df-convert:hover {\n",
              "      background-color: #434B5C;\n",
              "      box-shadow: 0px 1px 3px 1px rgba(0, 0, 0, 0.15);\n",
              "      filter: drop-shadow(0px 1px 2px rgba(0, 0, 0, 0.3));\n",
              "      fill: #FFFFFF;\n",
              "    }\n",
              "  </style>\n",
              "\n",
              "      <script>\n",
              "        const buttonEl =\n",
              "          document.querySelector('#df-36ff2488-2e78-46bb-9ea9-345184312f32 button.colab-df-convert');\n",
              "        buttonEl.style.display =\n",
              "          google.colab.kernel.accessAllowed ? 'block' : 'none';\n",
              "\n",
              "        async function convertToInteractive(key) {\n",
              "          const element = document.querySelector('#df-36ff2488-2e78-46bb-9ea9-345184312f32');\n",
              "          const dataTable =\n",
              "            await google.colab.kernel.invokeFunction('convertToInteractive',\n",
              "                                                     [key], {});\n",
              "          if (!dataTable) return;\n",
              "\n",
              "          const docLinkHtml = 'Like what you see? Visit the ' +\n",
              "            '<a target=\"_blank\" href=https://colab.research.google.com/notebooks/data_table.ipynb>data table notebook</a>'\n",
              "            + ' to learn more about interactive tables.';\n",
              "          element.innerHTML = '';\n",
              "          dataTable['output_type'] = 'display_data';\n",
              "          await google.colab.output.renderOutput(dataTable, element);\n",
              "          const docLink = document.createElement('div');\n",
              "          docLink.innerHTML = docLinkHtml;\n",
              "          element.appendChild(docLink);\n",
              "        }\n",
              "      </script>\n",
              "    </div>\n",
              "  </div>\n",
              "  "
            ]
          },
          "metadata": {},
          "execution_count": 22
        }
      ]
    },
    {
      "cell_type": "markdown",
      "source": [
        "Observar la distribución de los datos en la columna beds"
      ],
      "metadata": {
        "id": "ag_b8Kia27te"
      }
    },
    {
      "cell_type": "code",
      "source": [
        "boxplot = df.boxplot(column='beds') "
      ],
      "metadata": {
        "colab": {
          "base_uri": "https://localhost:8080/",
          "height": 561
        },
        "id": "gwt8ykXM3HRn",
        "outputId": "c374b663-9848-4e8b-81d6-2cf9967e22bd"
      },
      "execution_count": null,
      "outputs": [
        {
          "output_type": "display_data",
          "data": {
            "text/plain": [
              "<Figure size 792x676.8 with 1 Axes>"
            ],
            "image/png": "[encoded data removed]"
          },
          "metadata": {}
        }
      ]
    },
    {
      "cell_type": "code",
      "source": [
        "plt.hist(x=df['baths'], bins=100, rwidth=0.85)\n",
        "plt.title('Histograma de distribución de frecuencias')\n",
        "plt.xlim(0,5) #limitamos el eje x por los outliers\n",
        "plt.xlabel('Cantidad')\n",
        "plt.ylabel('Frecuencia')\n",
        "plt.show() #dibujamos el histograma"
      ],
      "metadata": {
        "colab": {
          "base_uri": "https://localhost:8080/",
          "height": 594
        },
        "id": "PsVioYOe3QAI",
        "outputId": "bc1024bb-bf7c-409f-fa27-68800ab9c4fd"
      },
      "execution_count": null,
      "outputs": [
        {
          "output_type": "display_data",
          "data": {
            "text/plain": [
              "<Figure size 792x676.8 with 1 Axes>"
            ],
            "image/png": "[encoded data removed]"
          },
          "metadata": {}
        }
      ]
    },
    {
      "cell_type": "markdown",
      "source": [
        "#####Beds"
      ],
      "metadata": {
        "id": "Y-RSRMlxV7R4"
      }
    },
    {
      "cell_type": "markdown",
      "source": [
        "Analizamos los valores únicos que toma la columna beds."
      ],
      "metadata": {
        "id": "gNIs5e2ysLZh"
      }
    },
    {
      "cell_type": "code",
      "source": [
        "df['beds'].unique()"
      ],
      "metadata": {
        "colab": {
          "base_uri": "https://localhost:8080/"
        },
        "id": "6ZyC1FWTr2AR",
        "outputId": "db98b8bc-8fb0-468e-f91f-ad69c30f4803"
      },
      "execution_count": null,
      "outputs": [
        {
          "output_type": "execute_result",
          "data": {
            "text/plain": [
              "array([   2,    1,    3,    5,    4,    0,    6,    8,    7, 1000, 1100])"
            ]
          },
          "metadata": {},
          "execution_count": 25
        }
      ]
    },
    {
      "cell_type": "markdown",
      "source": [
        "Existen 3 filas con valores outliers."
      ],
      "metadata": {
        "id": "1qzcP5oZ3lv_"
      }
    },
    {
      "cell_type": "code",
      "source": [
        "bedsoutliers=df[df['beds']>10]\n",
        "bedsoutliers"
      ],
      "metadata": {
        "colab": {
          "base_uri": "https://localhost:8080/",
          "height": 376
        },
        "id": "yLKPz0kasPpl",
        "outputId": "cac17a39-e651-470f-9568-ab207ba25f69"
      },
      "execution_count": null,
      "outputs": [
        {
          "output_type": "execute_result",
          "data": {
            "text/plain": [
              "                id                                                url  \\\n",
              "98062   7036731908  https://youngstown.craigslist.org/apa/d/youngs...   \n",
              "252352  7008717287  https://keys.craigslist.org/apa/d/big-pine-key...   \n",
              "316209  7045590325  https://chicago.craigslist.org/chc/apa/d/chica...   \n",
              "\n",
              "              region                         region_url  price       type  \\\n",
              "98062     youngstown  https://youngstown.craigslist.org    550  apartment   \n",
              "252352  florida keys        https://keys.craigslist.org   1500       land   \n",
              "316209       chicago     https://chicago.craigslist.org   2449  apartment   \n",
              "\n",
              "        sqfeet  beds  baths  cats_allowed  ...  wheelchair_access  \\\n",
              "98062      250  1000   25.0             0  ...                  0   \n",
              "252352     100  1000   35.0             1  ...                  0   \n",
              "316209    1000  1100   75.0             0  ...                  0   \n",
              "\n",
              "        electric_vehicle_charge  comes_furnished  laundry_options  \\\n",
              "98062                         0                0             None   \n",
              "252352                        0                0  laundry on site   \n",
              "316209                        0                0      w/d in unit   \n",
              "\n",
              "           parking_options                                          image_url  \\\n",
              "98062       street parking  https://images.craigslist.org/00E0E_1pOzidFERz...   \n",
              "252352  off-street parking  https://images.craigslist.org/00X0X_8Uj7FjWxo3...   \n",
              "316209             carport  https://images.craigslist.org/01313_eF1HZRmyfa...   \n",
              "\n",
              "                                              description      lat     long  \\\n",
              "98062                                           2 bedroom  41.0252 -80.6687   \n",
              "252352  Only one lot available now from now to January...  24.6706 -81.3653   \n",
              "316209  Furnished or Unfurnished Units Includes Parkin...  42.0195 -87.6650   \n",
              "\n",
              "        state  \n",
              "98062      oh  \n",
              "252352     fl  \n",
              "316209     il  \n",
              "\n",
              "[3 rows x 22 columns]"
            ],
            "text/html": [
              "\n",
              "  <div id=\"df-0c6d24ae-c8a1-41a9-a42e-cf7779aad03b\">\n",
              "    <div class=\"colab-df-container\">\n",
              "      <div>\n",
              "<style scoped>\n",
              "    .dataframe tbody tr th:only-of-type {\n",
              "        vertical-align: middle;\n",
              "    }\n",
              "\n",
              "    .dataframe tbody tr th {\n",
              "        vertical-align: top;\n",
              "    }\n",
              "\n",
              "    .dataframe thead th {\n",
              "        text-align: right;\n",
              "    }\n",
              "</style>\n",
              "<table border=\"1\" class=\"dataframe\">\n",
              "  <thead>\n",
              "    <tr style=\"text-align: right;\">\n",
              "      <th></th>\n",
              "      <th>id</th>\n",
              "      <th>url</th>\n",
              "      <th>region</th>\n",
              "      <th>region_url</th>\n",
              "      <th>price</th>\n",
              "      <th>type</th>\n",
              "      <th>sqfeet</th>\n",
              "      <th>beds</th>\n",
              "      <th>baths</th>\n",
              "      <th>cats_allowed</th>\n",
              "      <th>...</th>\n",
              "      <th>wheelchair_access</th>\n",
              "      <th>electric_vehicle_charge</th>\n",
              "      <th>comes_furnished</th>\n",
              "      <th>laundry_options</th>\n",
              "      <th>parking_options</th>\n",
              "      <th>image_url</th>\n",
              "      <th>description</th>\n",
              "      <th>lat</th>\n",
              "      <th>long</th>\n",
              "      <th>state</th>\n",
              "    </tr>\n",
              "  </thead>\n",
              "  <tbody>\n",
              "    <tr>\n",
              "      <th>98062</th>\n",
              "      <td>7036731908</td>\n",
              "      <td>https://youngstown.craigslist.org/apa/d/youngs...</td>\n",
              "      <td>youngstown</td>\n",
              "      <td>https://youngstown.craigslist.org</td>\n",
              "      <td>550</td>\n",
              "      <td>apartment</td>\n",
              "      <td>250</td>\n",
              "      <td>1000</td>\n",
              "      <td>25.0</td>\n",
              "      <td>0</td>\n",
              "      <td>...</td>\n",
              "      <td>0</td>\n",
              "      <td>0</td>\n",
              "      <td>0</td>\n",
              "      <td>None</td>\n",
              "      <td>street parking</td>\n",
              "      <td>https://images.craigslist.org/00E0E_1pOzidFERz...</td>\n",
              "      <td>2 bedroom</td>\n",
              "      <td>41.0252</td>\n",
              "      <td>-80.6687</td>\n",
              "      <td>oh</td>\n",
              "    </tr>\n",
              "    <tr>\n",
              "      <th>252352</th>\n",
              "      <td>7008717287</td>\n",
              "      <td>https://keys.craigslist.org/apa/d/big-pine-key...</td>\n",
              "      <td>florida keys</td>\n",
              "      <td>https://keys.craigslist.org</td>\n",
              "      <td>1500</td>\n",
              "      <td>land</td>\n",
              "      <td>100</td>\n",
              "      <td>1000</td>\n",
              "      <td>35.0</td>\n",
              "      <td>1</td>\n",
              "      <td>...</td>\n",
              "      <td>0</td>\n",
              "      <td>0</td>\n",
              "      <td>0</td>\n",
              "      <td>laundry on site</td>\n",
              "      <td>off-street parking</td>\n",
              "      <td>https://images.craigslist.org/00X0X_8Uj7FjWxo3...</td>\n",
              "      <td>Only one lot available now from now to January...</td>\n",
              "      <td>24.6706</td>\n",
              "      <td>-81.3653</td>\n",
              "      <td>fl</td>\n",
              "    </tr>\n",
              "    <tr>\n",
              "      <th>316209</th>\n",
              "      <td>7045590325</td>\n",
              "      <td>https://chicago.craigslist.org/chc/apa/d/chica...</td>\n",
              "      <td>chicago</td>\n",
              "      <td>https://chicago.craigslist.org</td>\n",
              "      <td>2449</td>\n",
              "      <td>apartment</td>\n",
              "      <td>1000</td>\n",
              "      <td>1100</td>\n",
              "      <td>75.0</td>\n",
              "      <td>0</td>\n",
              "      <td>...</td>\n",
              "      <td>0</td>\n",
              "      <td>0</td>\n",
              "      <td>0</td>\n",
              "      <td>w/d in unit</td>\n",
              "      <td>carport</td>\n",
              "      <td>https://images.craigslist.org/01313_eF1HZRmyfa...</td>\n",
              "      <td>Furnished or Unfurnished Units Includes Parkin...</td>\n",
              "      <td>42.0195</td>\n",
              "      <td>-87.6650</td>\n",
              "      <td>il</td>\n",
              "    </tr>\n",
              "  </tbody>\n",
              "</table>\n",
              "<p>3 rows × 22 columns</p>\n",
              "</div>\n",
              "      <button class=\"colab-df-convert\" onclick=\"convertToInteractive('df-0c6d24ae-c8a1-41a9-a42e-cf7779aad03b')\"\n",
              "              title=\"Convert this dataframe to an interactive table.\"\n",
              "              style=\"display:none;\">\n",
              "        \n",
              "  <svg xmlns=\"http://www.w3.org/2000/svg\" height=\"24px\"viewBox=\"0 0 24 24\"\n",
              "       width=\"24px\">\n",
              "    <path d=\"M0 0h24v24H0V0z\" fill=\"none\"/>\n",
              "    <path d=\"M18.56 5.44l.94 2.06.94-2.06 2.06-.94-2.06-.94-.94-2.06-.94 2.06-2.06.94zm-11 1L8.5 8.5l.94-2.06 2.06-.94-2.06-.94L8.5 2.5l-.94 2.06-2.06.94zm10 10l.94 2.06.94-2.06 2.06-.94-2.06-.94-.94-2.06-.94 2.06-2.06.94z\"/><path d=\"M17.41 7.96l-1.37-1.37c-.4-.4-.92-.59-1.43-.59-.52 0-1.04.2-1.43.59L10.3 9.45l-7.72 7.72c-.78.78-.78 2.05 0 2.83L4 21.41c.39.39.9.59 1.41.59.51 0 1.02-.2 1.41-.59l7.78-7.78 2.81-2.81c.8-.78.8-2.07 0-2.86zM5.41 20L4 18.59l7.72-7.72 1.47 1.35L5.41 20z\"/>\n",
              "  </svg>\n",
              "      </button>\n",
              "      \n",
              "  <style>\n",
              "    .colab-df-container {\n",
              "      display:flex;\n",
              "      flex-wrap:wrap;\n",
              "      gap: 12px;\n",
              "    }\n",
              "\n",
              "    .colab-df-convert {\n",
              "      background-color: #E8F0FE;\n",
              "      border: none;\n",
              "      border-radius: 50%;\n",
              "      cursor: pointer;\n",
              "      display: none;\n",
              "      fill: #1967D2;\n",
              "      height: 32px;\n",
              "      padding: 0 0 0 0;\n",
              "      width: 32px;\n",
              "    }\n",
              "\n",
              "    .colab-df-convert:hover {\n",
              "      background-color: #E2EBFA;\n",
              "      box-shadow: 0px 1px 2px rgba(60, 64, 67, 0.3), 0px 1px 3px 1px rgba(60, 64, 67, 0.15);\n",
              "      fill: #174EA6;\n",
              "    }\n",
              "\n",
              "    [theme=dark] .colab-df-convert {\n",
              "      background-color: #3B4455;\n",
              "      fill: #D2E3FC;\n",
              "    }\n",
              "\n",
              "    [theme=dark] .colab-df-convert:hover {\n",
              "      background-color: #434B5C;\n",
              "      box-shadow: 0px 1px 3px 1px rgba(0, 0, 0, 0.15);\n",
              "      filter: drop-shadow(0px 1px 2px rgba(0, 0, 0, 0.3));\n",
              "      fill: #FFFFFF;\n",
              "    }\n",
              "  </style>\n",
              "\n",
              "      <script>\n",
              "        const buttonEl =\n",
              "          document.querySelector('#df-0c6d24ae-c8a1-41a9-a42e-cf7779aad03b button.colab-df-convert');\n",
              "        buttonEl.style.display =\n",
              "          google.colab.kernel.accessAllowed ? 'block' : 'none';\n",
              "\n",
              "        async function convertToInteractive(key) {\n",
              "          const element = document.querySelector('#df-0c6d24ae-c8a1-41a9-a42e-cf7779aad03b');\n",
              "          const dataTable =\n",
              "            await google.colab.kernel.invokeFunction('convertToInteractive',\n",
              "                                                     [key], {});\n",
              "          if (!dataTable) return;\n",
              "\n",
              "          const docLinkHtml = 'Like what you see? Visit the ' +\n",
              "            '<a target=\"_blank\" href=https://colab.research.google.com/notebooks/data_table.ipynb>data table notebook</a>'\n",
              "            + ' to learn more about interactive tables.';\n",
              "          element.innerHTML = '';\n",
              "          dataTable['output_type'] = 'display_data';\n",
              "          await google.colab.output.renderOutput(dataTable, element);\n",
              "          const docLink = document.createElement('div');\n",
              "          docLink.innerHTML = docLinkHtml;\n",
              "          element.appendChild(docLink);\n",
              "        }\n",
              "      </script>\n",
              "    </div>\n",
              "  </div>\n",
              "  "
            ]
          },
          "metadata": {},
          "execution_count": 26
        }
      ]
    },
    {
      "cell_type": "markdown",
      "source": [
        "#####Price"
      ],
      "metadata": {
        "id": "O-jPlljK4awj"
      }
    },
    {
      "cell_type": "markdown",
      "source": [
        "Vemos la distribución de los precios según el tipo de propiedad y encontramos gran variabilidad."
      ],
      "metadata": {
        "id": "aNQ_Pxk2_rul"
      }
    },
    {
      "cell_type": "code",
      "source": [
        "x= df.price.values\n",
        "y= df.type.values\n",
        "\n",
        "fig = plt.figure()\n",
        "ax = plt.axes()\n",
        "\n",
        "# Graficamos putnos semi transparentes\n",
        "ax.scatter(x, y,alpha = 0.3)\n",
        "\n",
        "ax.set(xlabel='Precio (USD)', ylabel='Tipo de Propiedad',\n",
        "       title='Distribución de precios por tipo de propiedad', xlim = (0,100000))\n",
        "\n",
        "# Agregamos la leyenda al gráfico, la graficamos abajo a la derecha\n",
        "ax.legend(loc='lower right', shadow=True, fontsize=13)"
      ],
      "metadata": {
        "colab": {
          "base_uri": "https://localhost:8080/",
          "height": 629
        },
        "id": "9LG5Og_B-WO7",
        "outputId": "63f23e70-6f1a-448d-c007-df39a14e43e2"
      },
      "execution_count": null,
      "outputs": [
        {
          "output_type": "stream",
          "name": "stderr",
          "text": [
            "WARNING:matplotlib.legend:No handles with labels found to put in legend.\n"
          ]
        },
        {
          "output_type": "execute_result",
          "data": {
            "text/plain": [
              "<matplotlib.legend.Legend at 0x7f9d5a38aaf0>"
            ]
          },
          "metadata": {},
          "execution_count": 27
        },
        {
          "output_type": "display_data",
          "data": {
            "text/plain": [
              "<Figure size 792x676.8 with 1 Axes>"
            ],
            "image/png": "[encoded data removed]"
          },
          "metadata": {}
        }
      ]
    },
    {
      "cell_type": "markdown",
      "source": [
        "¿Hay valores imposibles por ejemplo menores o iguales a  0? , ¿Cuál es el valor máximo de la variable?"
      ],
      "metadata": {
        "id": "ZfE24MDKC6gc"
      }
    },
    {
      "cell_type": "code",
      "source": [
        "df.price.min() , df.price.max()"
      ],
      "metadata": {
        "colab": {
          "base_uri": "https://localhost:8080/"
        },
        "id": "fDgJMKdvC5ZO",
        "outputId": "982f7ceb-7bd2-4b62-b901-9acf7e557be8"
      },
      "execution_count": null,
      "outputs": [
        {
          "output_type": "execute_result",
          "data": {
            "text/plain": [
              "(0, 2768307249)"
            ]
          },
          "metadata": {},
          "execution_count": 28
        }
      ]
    },
    {
      "cell_type": "markdown",
      "source": [
        "Como observamos hay un gran outlier que nos afecta las medidas de posición y dispersión."
      ],
      "metadata": {
        "id": "MOT78Cb7D23E"
      }
    },
    {
      "cell_type": "code",
      "source": [
        "df['price'].mean() , df['price'].median() ,df['price'].std() "
      ],
      "metadata": {
        "colab": {
          "base_uri": "https://localhost:8080/"
        },
        "id": "cOcQY5ZvPRNe",
        "outputId": "f60903aa-ced1-4ce6-a25a-2186ba44d3c9"
      },
      "execution_count": null,
      "outputs": [
        {
          "output_type": "execute_result",
          "data": {
            "text/plain": [
              "(9664.419699317996, 1036.0, 4703573.077756476)"
            ]
          },
          "metadata": {},
          "execution_count": 29
        }
      ]
    },
    {
      "cell_type": "markdown",
      "source": [
        "Vamos a visualizar las unidades con precio mayor a 100 mil dólares"
      ],
      "metadata": {
        "id": "2I1vrv_TSbl3"
      }
    },
    {
      "cell_type": "code",
      "source": [
        "priceoutliers=df[df['price']>100000]\n",
        "priceoutliers.head(5)"
      ],
      "metadata": {
        "colab": {
          "base_uri": "https://localhost:8080/",
          "height": 386
        },
        "id": "M8Fe2hFaPvJt",
        "outputId": "4595b377-1bb5-42ef-fbd2-2751aa5328ab"
      },
      "execution_count": null,
      "outputs": [
        {
          "output_type": "execute_result",
          "data": {
            "text/plain": [
              "               id                                                url  \\\n",
              "6103   7041151372  https://kalamazoo.craigslist.org/apa/d/kalamaz...   \n",
              "6288   7027971171  https://charleston.craigslist.org/apa/d/mannin...   \n",
              "6961   7039346849  https://onslow.craigslist.org/apa/d/jacksonvil...   \n",
              "7688   7027662572  https://onslow.craigslist.org/apa/d/jacksonvil...   \n",
              "18462  7032831114  https://tricities.craigslist.org/apa/d/bristol...   \n",
              "\n",
              "             region                         region_url    price       type  \\\n",
              "6103      kalamazoo   https://kalamazoo.craigslist.org  8675301      house   \n",
              "6288     charleston  https://charleston.craigslist.org   430000      house   \n",
              "6961   jacksonville      https://onslow.craigslist.org   679710  apartment   \n",
              "7688   jacksonville      https://onslow.craigslist.org   679710  apartment   \n",
              "18462    tri-cities   https://tricities.craigslist.org   610745  apartment   \n",
              "\n",
              "       sqfeet  beds  baths  cats_allowed  ...  wheelchair_access  \\\n",
              "6103     1200     1    1.0             0  ...                  0   \n",
              "6288     2000     3    2.5             0  ...                  0   \n",
              "6961      842     1    1.0             1  ...                  0   \n",
              "7688      918     1    1.0             1  ...                  0   \n",
              "18462     750     2    1.0             1  ...                  0   \n",
              "\n",
              "       electric_vehicle_charge  comes_furnished  laundry_options  \\\n",
              "6103                         0                0      w/d in unit   \n",
              "6288                         0                0             None   \n",
              "6961                         0                0      w/d hookups   \n",
              "7688                         0                0      w/d hookups   \n",
              "18462                        0                0  laundry on site   \n",
              "\n",
              "          parking_options                                          image_url  \\\n",
              "6103   off-street parking  https://images.craigslist.org/00N0N_k7edJs0LrE...   \n",
              "6288                 None  https://images.craigslist.org/00P0P_bWgwUZfrZG...   \n",
              "6961   off-street parking  https://images.craigslist.org/00000_80ADc0WCWu...   \n",
              "7688   off-street parking  https://images.craigslist.org/00L0L_rG9J0Gs1RK...   \n",
              "18462      street parking  https://images.craigslist.org/01414_iZbDRsWESK...   \n",
              "\n",
              "                                             description      lat     long  \\\n",
              "6103   Had a fall out. Text  show contact info  for i...  42.2650 -85.6190   \n",
              "6288   Check out this unique property! The all brick ...  33.6184 -80.2116   \n",
              "6961   VIEW OUR WEBSITE:  http://www.reserveatjackson...  34.7883 -77.3961   \n",
              "7688   The Reserve at Jacksonville Commons is a pet f...  34.7883 -77.3961   \n",
              "18462  Coming soon!     2 and 3 bedroom apartments   ...  36.5919 -82.2188   \n",
              "\n",
              "       state  \n",
              "6103      mi  \n",
              "6288      sc  \n",
              "6961      nc  \n",
              "7688      nc  \n",
              "18462     tn  \n",
              "\n",
              "[5 rows x 22 columns]"
            ],
            "text/html": [
              "\n",
              "  <div id=\"df-4bbd15eb-12e5-4e7e-b0a9-d2cf79a49508\">\n",
              "    <div class=\"colab-df-container\">\n",
              "      <div>\n",
              "<style scoped>\n",
              "    .dataframe tbody tr th:only-of-type {\n",
              "        vertical-align: middle;\n",
              "    }\n",
              "\n",
              "    .dataframe tbody tr th {\n",
              "        vertical-align: top;\n",
              "    }\n",
              "\n",
              "    .dataframe thead th {\n",
              "        text-align: right;\n",
              "    }\n",
              "</style>\n",
              "<table border=\"1\" class=\"dataframe\">\n",
              "  <thead>\n",
              "    <tr style=\"text-align: right;\">\n",
              "      <th></th>\n",
              "      <th>id</th>\n",
              "      <th>url</th>\n",
              "      <th>region</th>\n",
              "      <th>region_url</th>\n",
              "      <th>price</th>\n",
              "      <th>type</th>\n",
              "      <th>sqfeet</th>\n",
              "      <th>beds</th>\n",
              "      <th>baths</th>\n",
              "      <th>cats_allowed</th>\n",
              "      <th>...</th>\n",
              "      <th>wheelchair_access</th>\n",
              "      <th>electric_vehicle_charge</th>\n",
              "      <th>comes_furnished</th>\n",
              "      <th>laundry_options</th>\n",
              "      <th>parking_options</th>\n",
              "      <th>image_url</th>\n",
              "      <th>description</th>\n",
              "      <th>lat</th>\n",
              "      <th>long</th>\n",
              "      <th>state</th>\n",
              "    </tr>\n",
              "  </thead>\n",
              "  <tbody>\n",
              "    <tr>\n",
              "      <th>6103</th>\n",
              "      <td>7041151372</td>\n",
              "      <td>https://kalamazoo.craigslist.org/apa/d/kalamaz...</td>\n",
              "      <td>kalamazoo</td>\n",
              "      <td>https://kalamazoo.craigslist.org</td>\n",
              "      <td>8675301</td>\n",
              "      <td>house</td>\n",
              "      <td>1200</td>\n",
              "      <td>1</td>\n",
              "      <td>1.0</td>\n",
              "      <td>0</td>\n",
              "      <td>...</td>\n",
              "      <td>0</td>\n",
              "      <td>0</td>\n",
              "      <td>0</td>\n",
              "      <td>w/d in unit</td>\n",
              "      <td>off-street parking</td>\n",
              "      <td>https://images.craigslist.org/00N0N_k7edJs0LrE...</td>\n",
              "      <td>Had a fall out. Text  show contact info  for i...</td>\n",
              "      <td>42.2650</td>\n",
              "      <td>-85.6190</td>\n",
              "      <td>mi</td>\n",
              "    </tr>\n",
              "    <tr>\n",
              "      <th>6288</th>\n",
              "      <td>7027971171</td>\n",
              "      <td>https://charleston.craigslist.org/apa/d/mannin...</td>\n",
              "      <td>charleston</td>\n",
              "      <td>https://charleston.craigslist.org</td>\n",
              "      <td>430000</td>\n",
              "      <td>house</td>\n",
              "      <td>2000</td>\n",
              "      <td>3</td>\n",
              "      <td>2.5</td>\n",
              "      <td>0</td>\n",
              "      <td>...</td>\n",
              "      <td>0</td>\n",
              "      <td>0</td>\n",
              "      <td>0</td>\n",
              "      <td>None</td>\n",
              "      <td>None</td>\n",
              "      <td>https://images.craigslist.org/00P0P_bWgwUZfrZG...</td>\n",
              "      <td>Check out this unique property! The all brick ...</td>\n",
              "      <td>33.6184</td>\n",
              "      <td>-80.2116</td>\n",
              "      <td>sc</td>\n",
              "    </tr>\n",
              "    <tr>\n",
              "      <th>6961</th>\n",
              "      <td>7039346849</td>\n",
              "      <td>https://onslow.craigslist.org/apa/d/jacksonvil...</td>\n",
              "      <td>jacksonville</td>\n",
              "      <td>https://onslow.craigslist.org</td>\n",
              "      <td>679710</td>\n",
              "      <td>apartment</td>\n",
              "      <td>842</td>\n",
              "      <td>1</td>\n",
              "      <td>1.0</td>\n",
              "      <td>1</td>\n",
              "      <td>...</td>\n",
              "      <td>0</td>\n",
              "      <td>0</td>\n",
              "      <td>0</td>\n",
              "      <td>w/d hookups</td>\n",
              "      <td>off-street parking</td>\n",
              "      <td>https://images.craigslist.org/00000_80ADc0WCWu...</td>\n",
              "      <td>VIEW OUR WEBSITE:  http://www.reserveatjackson...</td>\n",
              "      <td>34.7883</td>\n",
              "      <td>-77.3961</td>\n",
              "      <td>nc</td>\n",
              "    </tr>\n",
              "    <tr>\n",
              "      <th>7688</th>\n",
              "      <td>7027662572</td>\n",
              "      <td>https://onslow.craigslist.org/apa/d/jacksonvil...</td>\n",
              "      <td>jacksonville</td>\n",
              "      <td>https://onslow.craigslist.org</td>\n",
              "      <td>679710</td>\n",
              "      <td>apartment</td>\n",
              "      <td>918</td>\n",
              "      <td>1</td>\n",
              "      <td>1.0</td>\n",
              "      <td>1</td>\n",
              "      <td>...</td>\n",
              "      <td>0</td>\n",
              "      <td>0</td>\n",
              "      <td>0</td>\n",
              "      <td>w/d hookups</td>\n",
              "      <td>off-street parking</td>\n",
              "      <td>https://images.craigslist.org/00L0L_rG9J0Gs1RK...</td>\n",
              "      <td>The Reserve at Jacksonville Commons is a pet f...</td>\n",
              "      <td>34.7883</td>\n",
              "      <td>-77.3961</td>\n",
              "      <td>nc</td>\n",
              "    </tr>\n",
              "    <tr>\n",
              "      <th>18462</th>\n",
              "      <td>7032831114</td>\n",
              "      <td>https://tricities.craigslist.org/apa/d/bristol...</td>\n",
              "      <td>tri-cities</td>\n",
              "      <td>https://tricities.craigslist.org</td>\n",
              "      <td>610745</td>\n",
              "      <td>apartment</td>\n",
              "      <td>750</td>\n",
              "      <td>2</td>\n",
              "      <td>1.0</td>\n",
              "      <td>1</td>\n",
              "      <td>...</td>\n",
              "      <td>0</td>\n",
              "      <td>0</td>\n",
              "      <td>0</td>\n",
              "      <td>laundry on site</td>\n",
              "      <td>street parking</td>\n",
              "      <td>https://images.craigslist.org/01414_iZbDRsWESK...</td>\n",
              "      <td>Coming soon!     2 and 3 bedroom apartments   ...</td>\n",
              "      <td>36.5919</td>\n",
              "      <td>-82.2188</td>\n",
              "      <td>tn</td>\n",
              "    </tr>\n",
              "  </tbody>\n",
              "</table>\n",
              "<p>5 rows × 22 columns</p>\n",
              "</div>\n",
              "      <button class=\"colab-df-convert\" onclick=\"convertToInteractive('df-4bbd15eb-12e5-4e7e-b0a9-d2cf79a49508')\"\n",
              "              title=\"Convert this dataframe to an interactive table.\"\n",
              "              style=\"display:none;\">\n",
              "        \n",
              "  <svg xmlns=\"http://www.w3.org/2000/svg\" height=\"24px\"viewBox=\"0 0 24 24\"\n",
              "       width=\"24px\">\n",
              "    <path d=\"M0 0h24v24H0V0z\" fill=\"none\"/>\n",
              "    <path d=\"M18.56 5.44l.94 2.06.94-2.06 2.06-.94-2.06-.94-.94-2.06-.94 2.06-2.06.94zm-11 1L8.5 8.5l.94-2.06 2.06-.94-2.06-.94L8.5 2.5l-.94 2.06-2.06.94zm10 10l.94 2.06.94-2.06 2.06-.94-2.06-.94-.94-2.06-.94 2.06-2.06.94z\"/><path d=\"M17.41 7.96l-1.37-1.37c-.4-.4-.92-.59-1.43-.59-.52 0-1.04.2-1.43.59L10.3 9.45l-7.72 7.72c-.78.78-.78 2.05 0 2.83L4 21.41c.39.39.9.59 1.41.59.51 0 1.02-.2 1.41-.59l7.78-7.78 2.81-2.81c.8-.78.8-2.07 0-2.86zM5.41 20L4 18.59l7.72-7.72 1.47 1.35L5.41 20z\"/>\n",
              "  </svg>\n",
              "      </button>\n",
              "      \n",
              "  <style>\n",
              "    .colab-df-container {\n",
              "      display:flex;\n",
              "      flex-wrap:wrap;\n",
              "      gap: 12px;\n",
              "    }\n",
              "\n",
              "    .colab-df-convert {\n",
              "      background-color: #E8F0FE;\n",
              "      border: none;\n",
              "      border-radius: 50%;\n",
              "      cursor: pointer;\n",
              "      display: none;\n",
              "      fill: #1967D2;\n",
              "      height: 32px;\n",
              "      padding: 0 0 0 0;\n",
              "      width: 32px;\n",
              "    }\n",
              "\n",
              "    .colab-df-convert:hover {\n",
              "      background-color: #E2EBFA;\n",
              "      box-shadow: 0px 1px 2px rgba(60, 64, 67, 0.3), 0px 1px 3px 1px rgba(60, 64, 67, 0.15);\n",
              "      fill: #174EA6;\n",
              "    }\n",
              "\n",
              "    [theme=dark] .colab-df-convert {\n",
              "      background-color: #3B4455;\n",
              "      fill: #D2E3FC;\n",
              "    }\n",
              "\n",
              "    [theme=dark] .colab-df-convert:hover {\n",
              "      background-color: #434B5C;\n",
              "      box-shadow: 0px 1px 3px 1px rgba(0, 0, 0, 0.15);\n",
              "      filter: drop-shadow(0px 1px 2px rgba(0, 0, 0, 0.3));\n",
              "      fill: #FFFFFF;\n",
              "    }\n",
              "  </style>\n",
              "\n",
              "      <script>\n",
              "        const buttonEl =\n",
              "          document.querySelector('#df-4bbd15eb-12e5-4e7e-b0a9-d2cf79a49508 button.colab-df-convert');\n",
              "        buttonEl.style.display =\n",
              "          google.colab.kernel.accessAllowed ? 'block' : 'none';\n",
              "\n",
              "        async function convertToInteractive(key) {\n",
              "          const element = document.querySelector('#df-4bbd15eb-12e5-4e7e-b0a9-d2cf79a49508');\n",
              "          const dataTable =\n",
              "            await google.colab.kernel.invokeFunction('convertToInteractive',\n",
              "                                                     [key], {});\n",
              "          if (!dataTable) return;\n",
              "\n",
              "          const docLinkHtml = 'Like what you see? Visit the ' +\n",
              "            '<a target=\"_blank\" href=https://colab.research.google.com/notebooks/data_table.ipynb>data table notebook</a>'\n",
              "            + ' to learn more about interactive tables.';\n",
              "          element.innerHTML = '';\n",
              "          dataTable['output_type'] = 'display_data';\n",
              "          await google.colab.output.renderOutput(dataTable, element);\n",
              "          const docLink = document.createElement('div');\n",
              "          docLink.innerHTML = docLinkHtml;\n",
              "          element.appendChild(docLink);\n",
              "        }\n",
              "      </script>\n",
              "    </div>\n",
              "  </div>\n",
              "  "
            ]
          },
          "metadata": {},
          "execution_count": 30
        }
      ]
    },
    {
      "cell_type": "code",
      "source": [
        "x= priceoutliers.price.values\n",
        "y= priceoutliers.type.values\n",
        "\n",
        "fig = plt.figure()\n",
        "ax = plt.axes()\n",
        "\n",
        "# Graficamos putnos semi transparentes\n",
        "ax.scatter(x, y,alpha = 0.3)\n",
        "\n",
        "ax.set(xlabel='Precio (USD)', ylabel='Tipo de Propiedad',\n",
        "       title='Distribución de precios por tipo de propiedad', xlim = (100000,2000000))\n",
        "\n",
        "# Agregamos la leyenda al gráfico, la graficamos abajo a la derecha\n",
        "ax.legend(loc='lower right', shadow=True, fontsize=13)"
      ],
      "metadata": {
        "colab": {
          "base_uri": "https://localhost:8080/",
          "height": 629
        },
        "id": "Mydv13eXQfJy",
        "outputId": "a6650317-3554-410f-df06-8ca378a239d5"
      },
      "execution_count": null,
      "outputs": [
        {
          "output_type": "stream",
          "name": "stderr",
          "text": [
            "WARNING:matplotlib.legend:No handles with labels found to put in legend.\n"
          ]
        },
        {
          "output_type": "execute_result",
          "data": {
            "text/plain": [
              "<matplotlib.legend.Legend at 0x7f9d5a439790>"
            ]
          },
          "metadata": {},
          "execution_count": 31
        },
        {
          "output_type": "display_data",
          "data": {
            "text/plain": [
              "<Figure size 792x676.8 with 1 Axes>"
            ],
            "image/png": "[encoded data removed]"
          },
          "metadata": {}
        }
      ]
    },
    {
      "cell_type": "markdown",
      "source": [
        "Profundizamos el análisis ya que es nuestra variable objetivo , para ello veremos que sucede si quitamos laos precios mayores a 500000 usd y los iguales a cero."
      ],
      "metadata": {
        "id": "bcDGMl8G3kzZ"
      }
    },
    {
      "cell_type": "code",
      "source": [
        "pricesinoutliers=df[df['price']<500000]"
      ],
      "metadata": {
        "id": "s-qWLOGpUAQq"
      },
      "execution_count": null,
      "outputs": []
    },
    {
      "cell_type": "code",
      "source": [
        "pricesinoutliers.drop(pricesinoutliers[(pricesinoutliers['price'] == 0)].index, inplace=True)"
      ],
      "metadata": {
        "colab": {
          "base_uri": "https://localhost:8080/"
        },
        "id": "3C1Rt6PwUQAC",
        "outputId": "4773c745-6c1a-46f4-d049-62cc51add0bf"
      },
      "execution_count": null,
      "outputs": [
        {
          "output_type": "stream",
          "name": "stderr",
          "text": [
            "/usr/local/lib/python3.8/dist-packages/pandas/core/frame.py:4906: SettingWithCopyWarning: \n",
            "A value is trying to be set on a copy of a slice from a DataFrame\n",
            "\n",
            "See the caveats in the documentation: https://pandas.pydata.org/pandas-docs/stable/user_guide/indexing.html#returning-a-view-versus-a-copy\n",
            "  return super().drop(\n"
          ]
        }
      ]
    },
    {
      "cell_type": "code",
      "source": [
        "pricesinoutliers.groupby(['type']).mean()"
      ],
      "metadata": {
        "colab": {
          "base_uri": "https://localhost:8080/",
          "height": 538
        },
        "id": "ADfDuiviVhWy",
        "outputId": "35ebe0c9-0117-45f4-b949-078cd4e03721"
      },
      "execution_count": null,
      "outputs": [
        {
          "output_type": "execute_result",
          "data": {
            "text/plain": [
              "                           id        price       sqfeet        beds     baths  \\\n",
              "type                                                                            \n",
              "apartment        7.041171e+09  1161.971902   989.494831    1.735221  1.414434   \n",
              "assisted living  7.034855e+09  1787.500000  1315.000000    3.500000  1.500000   \n",
              "condo            7.040671e+09  1626.285202  1150.926996    2.055605  1.660448   \n",
              "cottage/cabin    7.039011e+09  1497.066667   946.692810    1.771242  1.511111   \n",
              "duplex           7.040225e+09  1231.421668  1357.812665    2.347308  1.443954   \n",
              "flat             7.042320e+09  1578.648936  1008.876596    1.934043  1.343617   \n",
              "house            7.040038e+09  1588.957276  1641.864227    3.043260  1.862804   \n",
              "in-law           7.042117e+09  1306.379085   680.986928    1.091503  1.022876   \n",
              "land             7.031460e+09  4962.500000   530.000000  126.125000  5.250000   \n",
              "loft             7.041249e+09  1376.409756  1032.973984    1.447154  1.421951   \n",
              "manufactured     7.039850e+09  1770.022661  1161.715942    2.744137  1.824374   \n",
              "townhouse        7.040062e+09  1306.334250  1259.549210    2.425761  1.866575   \n",
              "\n",
              "                 cats_allowed  dogs_allowed  smoking_allowed  \\\n",
              "type                                                           \n",
              "apartment            0.762636      0.734982         0.752533   \n",
              "assisted living      0.000000      0.000000         1.000000   \n",
              "condo                0.408430      0.401256         0.468341   \n",
              "cottage/cabin        0.465359      0.499346         0.467974   \n",
              "duplex               0.393866      0.425419         0.406664   \n",
              "flat                 0.685106      0.625532         0.608511   \n",
              "house                0.494107      0.538204         0.662225   \n",
              "in-law               0.202614      0.189542         0.248366   \n",
              "land                 0.500000      0.625000         0.625000   \n",
              "loft                 0.775610      0.757724         0.469919   \n",
              "manufactured         0.723847      0.728327         0.804743   \n",
              "townhouse            0.762338      0.755358         0.684645   \n",
              "\n",
              "                 wheelchair_access  electric_vehicle_charge  comes_furnished  \\\n",
              "type                                                                           \n",
              "apartment                 0.086882                 0.012353         0.040083   \n",
              "assisted living           0.000000                 0.000000         0.000000   \n",
              "condo                     0.089148                 0.017937         0.202152   \n",
              "cottage/cabin             0.043137                 0.007843         0.317647   \n",
              "duplex                    0.065755                 0.005737         0.047661   \n",
              "flat                      0.229787                 0.204255         0.093617   \n",
              "house                     0.065626                 0.018181         0.092815   \n",
              "in-law                    0.019608                 0.032680         0.372549   \n",
              "land                      0.000000                 0.125000         0.375000   \n",
              "loft                      0.240650                 0.029268         0.037398   \n",
              "manufactured              0.008432                 0.003162         0.030830   \n",
              "townhouse                 0.029470                 0.006909         0.034616   \n",
              "\n",
              "                       lat        long  \n",
              "type                                    \n",
              "apartment        37.125647  -92.551953  \n",
              "assisted living  35.626800 -102.577150  \n",
              "condo            36.196356  -95.743139  \n",
              "cottage/cabin    37.548143 -102.777313  \n",
              "duplex           38.820877  -98.461393  \n",
              "flat             37.192049  -92.397624  \n",
              "house            37.635644  -93.952265  \n",
              "in-law           38.173741 -108.952120  \n",
              "land             33.407337  -96.291975  \n",
              "loft             38.422476  -88.999615  \n",
              "manufactured     37.457020  -89.358715  \n",
              "townhouse        38.388128  -90.149481  "
            ],
            "text/html": [
              "\n",
              "  <div id=\"df-51216ef7-2eb2-431d-ae57-ccd0ba290fb5\">\n",
              "    <div class=\"colab-df-container\">\n",
              "      <div>\n",
              "<style scoped>\n",
              "    .dataframe tbody tr th:only-of-type {\n",
              "        vertical-align: middle;\n",
              "    }\n",
              "\n",
              "    .dataframe tbody tr th {\n",
              "        vertical-align: top;\n",
              "    }\n",
              "\n",
              "    .dataframe thead th {\n",
              "        text-align: right;\n",
              "    }\n",
              "</style>\n",
              "<table border=\"1\" class=\"dataframe\">\n",
              "  <thead>\n",
              "    <tr style=\"text-align: right;\">\n",
              "      <th></th>\n",
              "      <th>id</th>\n",
              "      <th>price</th>\n",
              "      <th>sqfeet</th>\n",
              "      <th>beds</th>\n",
              "      <th>baths</th>\n",
              "      <th>cats_allowed</th>\n",
              "      <th>dogs_allowed</th>\n",
              "      <th>smoking_allowed</th>\n",
              "      <th>wheelchair_access</th>\n",
              "      <th>electric_vehicle_charge</th>\n",
              "      <th>comes_furnished</th>\n",
              "      <th>lat</th>\n",
              "      <th>long</th>\n",
              "    </tr>\n",
              "    <tr>\n",
              "      <th>type</th>\n",
              "      <th></th>\n",
              "      <th></th>\n",
              "      <th></th>\n",
              "      <th></th>\n",
              "      <th></th>\n",
              "      <th></th>\n",
              "      <th></th>\n",
              "      <th></th>\n",
              "      <th></th>\n",
              "      <th></th>\n",
              "      <th></th>\n",
              "      <th></th>\n",
              "      <th></th>\n",
              "    </tr>\n",
              "  </thead>\n",
              "  <tbody>\n",
              "    <tr>\n",
              "      <th>apartment</th>\n",
              "      <td>7.041171e+09</td>\n",
              "      <td>1161.971902</td>\n",
              "      <td>989.494831</td>\n",
              "      <td>1.735221</td>\n",
              "      <td>1.414434</td>\n",
              "      <td>0.762636</td>\n",
              "      <td>0.734982</td>\n",
              "      <td>0.752533</td>\n",
              "      <td>0.086882</td>\n",
              "      <td>0.012353</td>\n",
              "      <td>0.040083</td>\n",
              "      <td>37.125647</td>\n",
              "      <td>-92.551953</td>\n",
              "    </tr>\n",
              "    <tr>\n",
              "      <th>assisted living</th>\n",
              "      <td>7.034855e+09</td>\n",
              "      <td>1787.500000</td>\n",
              "      <td>1315.000000</td>\n",
              "      <td>3.500000</td>\n",
              "      <td>1.500000</td>\n",
              "      <td>0.000000</td>\n",
              "      <td>0.000000</td>\n",
              "      <td>1.000000</td>\n",
              "      <td>0.000000</td>\n",
              "      <td>0.000000</td>\n",
              "      <td>0.000000</td>\n",
              "      <td>35.626800</td>\n",
              "      <td>-102.577150</td>\n",
              "    </tr>\n",
              "    <tr>\n",
              "      <th>condo</th>\n",
              "      <td>7.040671e+09</td>\n",
              "      <td>1626.285202</td>\n",
              "      <td>1150.926996</td>\n",
              "      <td>2.055605</td>\n",
              "      <td>1.660448</td>\n",
              "      <td>0.408430</td>\n",
              "      <td>0.401256</td>\n",
              "      <td>0.468341</td>\n",
              "      <td>0.089148</td>\n",
              "      <td>0.017937</td>\n",
              "      <td>0.202152</td>\n",
              "      <td>36.196356</td>\n",
              "      <td>-95.743139</td>\n",
              "    </tr>\n",
              "    <tr>\n",
              "      <th>cottage/cabin</th>\n",
              "      <td>7.039011e+09</td>\n",
              "      <td>1497.066667</td>\n",
              "      <td>946.692810</td>\n",
              "      <td>1.771242</td>\n",
              "      <td>1.511111</td>\n",
              "      <td>0.465359</td>\n",
              "      <td>0.499346</td>\n",
              "      <td>0.467974</td>\n",
              "      <td>0.043137</td>\n",
              "      <td>0.007843</td>\n",
              "      <td>0.317647</td>\n",
              "      <td>37.548143</td>\n",
              "      <td>-102.777313</td>\n",
              "    </tr>\n",
              "    <tr>\n",
              "      <th>duplex</th>\n",
              "      <td>7.040225e+09</td>\n",
              "      <td>1231.421668</td>\n",
              "      <td>1357.812665</td>\n",
              "      <td>2.347308</td>\n",
              "      <td>1.443954</td>\n",
              "      <td>0.393866</td>\n",
              "      <td>0.425419</td>\n",
              "      <td>0.406664</td>\n",
              "      <td>0.065755</td>\n",
              "      <td>0.005737</td>\n",
              "      <td>0.047661</td>\n",
              "      <td>38.820877</td>\n",
              "      <td>-98.461393</td>\n",
              "    </tr>\n",
              "    <tr>\n",
              "      <th>flat</th>\n",
              "      <td>7.042320e+09</td>\n",
              "      <td>1578.648936</td>\n",
              "      <td>1008.876596</td>\n",
              "      <td>1.934043</td>\n",
              "      <td>1.343617</td>\n",
              "      <td>0.685106</td>\n",
              "      <td>0.625532</td>\n",
              "      <td>0.608511</td>\n",
              "      <td>0.229787</td>\n",
              "      <td>0.204255</td>\n",
              "      <td>0.093617</td>\n",
              "      <td>37.192049</td>\n",
              "      <td>-92.397624</td>\n",
              "    </tr>\n",
              "    <tr>\n",
              "      <th>house</th>\n",
              "      <td>7.040038e+09</td>\n",
              "      <td>1588.957276</td>\n",
              "      <td>1641.864227</td>\n",
              "      <td>3.043260</td>\n",
              "      <td>1.862804</td>\n",
              "      <td>0.494107</td>\n",
              "      <td>0.538204</td>\n",
              "      <td>0.662225</td>\n",
              "      <td>0.065626</td>\n",
              "      <td>0.018181</td>\n",
              "      <td>0.092815</td>\n",
              "      <td>37.635644</td>\n",
              "      <td>-93.952265</td>\n",
              "    </tr>\n",
              "    <tr>\n",
              "      <th>in-law</th>\n",
              "      <td>7.042117e+09</td>\n",
              "      <td>1306.379085</td>\n",
              "      <td>680.986928</td>\n",
              "      <td>1.091503</td>\n",
              "      <td>1.022876</td>\n",
              "      <td>0.202614</td>\n",
              "      <td>0.189542</td>\n",
              "      <td>0.248366</td>\n",
              "      <td>0.019608</td>\n",
              "      <td>0.032680</td>\n",
              "      <td>0.372549</td>\n",
              "      <td>38.173741</td>\n",
              "      <td>-108.952120</td>\n",
              "    </tr>\n",
              "    <tr>\n",
              "      <th>land</th>\n",
              "      <td>7.031460e+09</td>\n",
              "      <td>4962.500000</td>\n",
              "      <td>530.000000</td>\n",
              "      <td>126.125000</td>\n",
              "      <td>5.250000</td>\n",
              "      <td>0.500000</td>\n",
              "      <td>0.625000</td>\n",
              "      <td>0.625000</td>\n",
              "      <td>0.000000</td>\n",
              "      <td>0.125000</td>\n",
              "      <td>0.375000</td>\n",
              "      <td>33.407337</td>\n",
              "      <td>-96.291975</td>\n",
              "    </tr>\n",
              "    <tr>\n",
              "      <th>loft</th>\n",
              "      <td>7.041249e+09</td>\n",
              "      <td>1376.409756</td>\n",
              "      <td>1032.973984</td>\n",
              "      <td>1.447154</td>\n",
              "      <td>1.421951</td>\n",
              "      <td>0.775610</td>\n",
              "      <td>0.757724</td>\n",
              "      <td>0.469919</td>\n",
              "      <td>0.240650</td>\n",
              "      <td>0.029268</td>\n",
              "      <td>0.037398</td>\n",
              "      <td>38.422476</td>\n",
              "      <td>-88.999615</td>\n",
              "    </tr>\n",
              "    <tr>\n",
              "      <th>manufactured</th>\n",
              "      <td>7.039850e+09</td>\n",
              "      <td>1770.022661</td>\n",
              "      <td>1161.715942</td>\n",
              "      <td>2.744137</td>\n",
              "      <td>1.824374</td>\n",
              "      <td>0.723847</td>\n",
              "      <td>0.728327</td>\n",
              "      <td>0.804743</td>\n",
              "      <td>0.008432</td>\n",
              "      <td>0.003162</td>\n",
              "      <td>0.030830</td>\n",
              "      <td>37.457020</td>\n",
              "      <td>-89.358715</td>\n",
              "    </tr>\n",
              "    <tr>\n",
              "      <th>townhouse</th>\n",
              "      <td>7.040062e+09</td>\n",
              "      <td>1306.334250</td>\n",
              "      <td>1259.549210</td>\n",
              "      <td>2.425761</td>\n",
              "      <td>1.866575</td>\n",
              "      <td>0.762338</td>\n",
              "      <td>0.755358</td>\n",
              "      <td>0.684645</td>\n",
              "      <td>0.029470</td>\n",
              "      <td>0.006909</td>\n",
              "      <td>0.034616</td>\n",
              "      <td>38.388128</td>\n",
              "      <td>-90.149481</td>\n",
              "    </tr>\n",
              "  </tbody>\n",
              "</table>\n",
              "</div>\n",
              "      <button class=\"colab-df-convert\" onclick=\"convertToInteractive('df-51216ef7-2eb2-431d-ae57-ccd0ba290fb5')\"\n",
              "              title=\"Convert this dataframe to an interactive table.\"\n",
              "              style=\"display:none;\">\n",
              "        \n",
              "  <svg xmlns=\"http://www.w3.org/2000/svg\" height=\"24px\"viewBox=\"0 0 24 24\"\n",
              "       width=\"24px\">\n",
              "    <path d=\"M0 0h24v24H0V0z\" fill=\"none\"/>\n",
              "    <path d=\"M18.56 5.44l.94 2.06.94-2.06 2.06-.94-2.06-.94-.94-2.06-.94 2.06-2.06.94zm-11 1L8.5 8.5l.94-2.06 2.06-.94-2.06-.94L8.5 2.5l-.94 2.06-2.06.94zm10 10l.94 2.06.94-2.06 2.06-.94-2.06-.94-.94-2.06-.94 2.06-2.06.94z\"/><path d=\"M17.41 7.96l-1.37-1.37c-.4-.4-.92-.59-1.43-.59-.52 0-1.04.2-1.43.59L10.3 9.45l-7.72 7.72c-.78.78-.78 2.05 0 2.83L4 21.41c.39.39.9.59 1.41.59.51 0 1.02-.2 1.41-.59l7.78-7.78 2.81-2.81c.8-.78.8-2.07 0-2.86zM5.41 20L4 18.59l7.72-7.72 1.47 1.35L5.41 20z\"/>\n",
              "  </svg>\n",
              "      </button>\n",
              "      \n",
              "  <style>\n",
              "    .colab-df-container {\n",
              "      display:flex;\n",
              "      flex-wrap:wrap;\n",
              "      gap: 12px;\n",
              "    }\n",
              "\n",
              "    .colab-df-convert {\n",
              "      background-color: #E8F0FE;\n",
              "      border: none;\n",
              "      border-radius: 50%;\n",
              "      cursor: pointer;\n",
              "      display: none;\n",
              "      fill: #1967D2;\n",
              "      height: 32px;\n",
              "      padding: 0 0 0 0;\n",
              "      width: 32px;\n",
              "    }\n",
              "\n",
              "    .colab-df-convert:hover {\n",
              "      background-color: #E2EBFA;\n",
              "      box-shadow: 0px 1px 2px rgba(60, 64, 67, 0.3), 0px 1px 3px 1px rgba(60, 64, 67, 0.15);\n",
              "      fill: #174EA6;\n",
              "    }\n",
              "\n",
              "    [theme=dark] .colab-df-convert {\n",
              "      background-color: #3B4455;\n",
              "      fill: #D2E3FC;\n",
              "    }\n",
              "\n",
              "    [theme=dark] .colab-df-convert:hover {\n",
              "      background-color: #434B5C;\n",
              "      box-shadow: 0px 1px 3px 1px rgba(0, 0, 0, 0.15);\n",
              "      filter: drop-shadow(0px 1px 2px rgba(0, 0, 0, 0.3));\n",
              "      fill: #FFFFFF;\n",
              "    }\n",
              "  </style>\n",
              "\n",
              "      <script>\n",
              "        const buttonEl =\n",
              "          document.querySelector('#df-51216ef7-2eb2-431d-ae57-ccd0ba290fb5 button.colab-df-convert');\n",
              "        buttonEl.style.display =\n",
              "          google.colab.kernel.accessAllowed ? 'block' : 'none';\n",
              "\n",
              "        async function convertToInteractive(key) {\n",
              "          const element = document.querySelector('#df-51216ef7-2eb2-431d-ae57-ccd0ba290fb5');\n",
              "          const dataTable =\n",
              "            await google.colab.kernel.invokeFunction('convertToInteractive',\n",
              "                                                     [key], {});\n",
              "          if (!dataTable) return;\n",
              "\n",
              "          const docLinkHtml = 'Like what you see? Visit the ' +\n",
              "            '<a target=\"_blank\" href=https://colab.research.google.com/notebooks/data_table.ipynb>data table notebook</a>'\n",
              "            + ' to learn more about interactive tables.';\n",
              "          element.innerHTML = '';\n",
              "          dataTable['output_type'] = 'display_data';\n",
              "          await google.colab.output.renderOutput(dataTable, element);\n",
              "          const docLink = document.createElement('div');\n",
              "          docLink.innerHTML = docLinkHtml;\n",
              "          element.appendChild(docLink);\n",
              "        }\n",
              "      </script>\n",
              "    </div>\n",
              "  </div>\n",
              "  "
            ]
          },
          "metadata": {},
          "execution_count": 34
        }
      ]
    },
    {
      "cell_type": "markdown",
      "source": [
        "Notamos que la media de los valores para el tipo land continua siendo elevada , por ello proponemos analizar el valor puntual."
      ],
      "metadata": {
        "id": "8Z4HKUXKBsio"
      }
    },
    {
      "cell_type": "code",
      "source": [
        "df1=pricesinoutliers.iloc[:,2:9]\n"
      ],
      "metadata": {
        "id": "GsDR748lwd6S"
      },
      "execution_count": null,
      "outputs": []
    },
    {
      "cell_type": "code",
      "source": [
        "dfland=df1[df1['type']=='land']\n",
        "dfland.groupby(['sqfeet']).mean()"
      ],
      "metadata": {
        "colab": {
          "base_uri": "https://localhost:8080/",
          "height": 300
        },
        "id": "gRtW5cL8OR20",
        "outputId": "241a161f-74e7-4525-d88d-5ffe161cd0ef"
      },
      "execution_count": null,
      "outputs": [
        {
          "output_type": "execute_result",
          "data": {
            "text/plain": [
              "          price    beds  baths\n",
              "sqfeet                        \n",
              "36        550.0     1.0    1.0\n",
              "100      1500.0  1000.0   35.0\n",
              "204     35000.0     1.0    1.0\n",
              "300       500.0     2.0    1.0\n",
              "400       350.0     1.0    1.0\n",
              "900       750.0     2.0    1.0\n",
              "2000      550.0     0.0    1.0"
            ],
            "text/html": [
              "\n",
              "  <div id=\"df-1bf0bc84-1e96-47c7-acbd-51f0cf2c0ebe\">\n",
              "    <div class=\"colab-df-container\">\n",
              "      <div>\n",
              "<style scoped>\n",
              "    .dataframe tbody tr th:only-of-type {\n",
              "        vertical-align: middle;\n",
              "    }\n",
              "\n",
              "    .dataframe tbody tr th {\n",
              "        vertical-align: top;\n",
              "    }\n",
              "\n",
              "    .dataframe thead th {\n",
              "        text-align: right;\n",
              "    }\n",
              "</style>\n",
              "<table border=\"1\" class=\"dataframe\">\n",
              "  <thead>\n",
              "    <tr style=\"text-align: right;\">\n",
              "      <th></th>\n",
              "      <th>price</th>\n",
              "      <th>beds</th>\n",
              "      <th>baths</th>\n",
              "    </tr>\n",
              "    <tr>\n",
              "      <th>sqfeet</th>\n",
              "      <th></th>\n",
              "      <th></th>\n",
              "      <th></th>\n",
              "    </tr>\n",
              "  </thead>\n",
              "  <tbody>\n",
              "    <tr>\n",
              "      <th>36</th>\n",
              "      <td>550.0</td>\n",
              "      <td>1.0</td>\n",
              "      <td>1.0</td>\n",
              "    </tr>\n",
              "    <tr>\n",
              "      <th>100</th>\n",
              "      <td>1500.0</td>\n",
              "      <td>1000.0</td>\n",
              "      <td>35.0</td>\n",
              "    </tr>\n",
              "    <tr>\n",
              "      <th>204</th>\n",
              "      <td>35000.0</td>\n",
              "      <td>1.0</td>\n",
              "      <td>1.0</td>\n",
              "    </tr>\n",
              "    <tr>\n",
              "      <th>300</th>\n",
              "      <td>500.0</td>\n",
              "      <td>2.0</td>\n",
              "      <td>1.0</td>\n",
              "    </tr>\n",
              "    <tr>\n",
              "      <th>400</th>\n",
              "      <td>350.0</td>\n",
              "      <td>1.0</td>\n",
              "      <td>1.0</td>\n",
              "    </tr>\n",
              "    <tr>\n",
              "      <th>900</th>\n",
              "      <td>750.0</td>\n",
              "      <td>2.0</td>\n",
              "      <td>1.0</td>\n",
              "    </tr>\n",
              "    <tr>\n",
              "      <th>2000</th>\n",
              "      <td>550.0</td>\n",
              "      <td>0.0</td>\n",
              "      <td>1.0</td>\n",
              "    </tr>\n",
              "  </tbody>\n",
              "</table>\n",
              "</div>\n",
              "      <button class=\"colab-df-convert\" onclick=\"convertToInteractive('df-1bf0bc84-1e96-47c7-acbd-51f0cf2c0ebe')\"\n",
              "              title=\"Convert this dataframe to an interactive table.\"\n",
              "              style=\"display:none;\">\n",
              "        \n",
              "  <svg xmlns=\"http://www.w3.org/2000/svg\" height=\"24px\"viewBox=\"0 0 24 24\"\n",
              "       width=\"24px\">\n",
              "    <path d=\"M0 0h24v24H0V0z\" fill=\"none\"/>\n",
              "    <path d=\"M18.56 5.44l.94 2.06.94-2.06 2.06-.94-2.06-.94-.94-2.06-.94 2.06-2.06.94zm-11 1L8.5 8.5l.94-2.06 2.06-.94-2.06-.94L8.5 2.5l-.94 2.06-2.06.94zm10 10l.94 2.06.94-2.06 2.06-.94-2.06-.94-.94-2.06-.94 2.06-2.06.94z\"/><path d=\"M17.41 7.96l-1.37-1.37c-.4-.4-.92-.59-1.43-.59-.52 0-1.04.2-1.43.59L10.3 9.45l-7.72 7.72c-.78.78-.78 2.05 0 2.83L4 21.41c.39.39.9.59 1.41.59.51 0 1.02-.2 1.41-.59l7.78-7.78 2.81-2.81c.8-.78.8-2.07 0-2.86zM5.41 20L4 18.59l7.72-7.72 1.47 1.35L5.41 20z\"/>\n",
              "  </svg>\n",
              "      </button>\n",
              "      \n",
              "  <style>\n",
              "    .colab-df-container {\n",
              "      display:flex;\n",
              "      flex-wrap:wrap;\n",
              "      gap: 12px;\n",
              "    }\n",
              "\n",
              "    .colab-df-convert {\n",
              "      background-color: #E8F0FE;\n",
              "      border: none;\n",
              "      border-radius: 50%;\n",
              "      cursor: pointer;\n",
              "      display: none;\n",
              "      fill: #1967D2;\n",
              "      height: 32px;\n",
              "      padding: 0 0 0 0;\n",
              "      width: 32px;\n",
              "    }\n",
              "\n",
              "    .colab-df-convert:hover {\n",
              "      background-color: #E2EBFA;\n",
              "      box-shadow: 0px 1px 2px rgba(60, 64, 67, 0.3), 0px 1px 3px 1px rgba(60, 64, 67, 0.15);\n",
              "      fill: #174EA6;\n",
              "    }\n",
              "\n",
              "    [theme=dark] .colab-df-convert {\n",
              "      background-color: #3B4455;\n",
              "      fill: #D2E3FC;\n",
              "    }\n",
              "\n",
              "    [theme=dark] .colab-df-convert:hover {\n",
              "      background-color: #434B5C;\n",
              "      box-shadow: 0px 1px 3px 1px rgba(0, 0, 0, 0.15);\n",
              "      filter: drop-shadow(0px 1px 2px rgba(0, 0, 0, 0.3));\n",
              "      fill: #FFFFFF;\n",
              "    }\n",
              "  </style>\n",
              "\n",
              "      <script>\n",
              "        const buttonEl =\n",
              "          document.querySelector('#df-1bf0bc84-1e96-47c7-acbd-51f0cf2c0ebe button.colab-df-convert');\n",
              "        buttonEl.style.display =\n",
              "          google.colab.kernel.accessAllowed ? 'block' : 'none';\n",
              "\n",
              "        async function convertToInteractive(key) {\n",
              "          const element = document.querySelector('#df-1bf0bc84-1e96-47c7-acbd-51f0cf2c0ebe');\n",
              "          const dataTable =\n",
              "            await google.colab.kernel.invokeFunction('convertToInteractive',\n",
              "                                                     [key], {});\n",
              "          if (!dataTable) return;\n",
              "\n",
              "          const docLinkHtml = 'Like what you see? Visit the ' +\n",
              "            '<a target=\"_blank\" href=https://colab.research.google.com/notebooks/data_table.ipynb>data table notebook</a>'\n",
              "            + ' to learn more about interactive tables.';\n",
              "          element.innerHTML = '';\n",
              "          dataTable['output_type'] = 'display_data';\n",
              "          await google.colab.output.renderOutput(dataTable, element);\n",
              "          const docLink = document.createElement('div');\n",
              "          docLink.innerHTML = docLinkHtml;\n",
              "          element.appendChild(docLink);\n",
              "        }\n",
              "      </script>\n",
              "    </div>\n",
              "  </div>\n",
              "  "
            ]
          },
          "metadata": {},
          "execution_count": 36
        }
      ]
    },
    {
      "cell_type": "markdown",
      "source": [
        "#####Sqfeet"
      ],
      "metadata": {
        "id": "TaNgZ6LkWNeL"
      }
    },
    {
      "cell_type": "markdown",
      "source": [
        "Distribución"
      ],
      "metadata": {
        "id": "Q4yVtvSGWZD8"
      }
    },
    {
      "cell_type": "code",
      "source": [
        "x= df.sqfeet.values\n",
        "y= df.type.values\n",
        "\n",
        "fig = plt.figure()\n",
        "ax = plt.axes()\n",
        "\n",
        "# Graficamos putnos semi transparentes\n",
        "ax.scatter(x, y,alpha = 0.3)\n",
        "\n",
        "ax.set(xlabel='Sqfeet', ylabel='Tipo de Propiedad',\n",
        "       title='Distribución de Sqfeet por tipo de propiedad', xlim = (0,110000))\n",
        "\n",
        "# Agregamos la leyenda al gráfico, la graficamos abajo a la derecha\n",
        "ax.legend(loc='lower right', shadow=True, fontsize=13)"
      ],
      "metadata": {
        "colab": {
          "base_uri": "https://localhost:8080/",
          "height": 629
        },
        "id": "tBWVxI5YWYgZ",
        "outputId": "4dbc6435-880c-426b-cedf-efb8807bf8a3"
      },
      "execution_count": null,
      "outputs": [
        {
          "output_type": "stream",
          "name": "stderr",
          "text": [
            "WARNING:matplotlib.legend:No handles with labels found to put in legend.\n"
          ]
        },
        {
          "output_type": "execute_result",
          "data": {
            "text/plain": [
              "<matplotlib.legend.Legend at 0x7f9d5a43f3d0>"
            ]
          },
          "metadata": {},
          "execution_count": 37
        },
        {
          "output_type": "display_data",
          "data": {
            "text/plain": [
              "<Figure size 792x676.8 with 1 Axes>"
            ],
            "image/png": "[encoded data removed]"
          },
          "metadata": {}
        }
      ]
    },
    {
      "cell_type": "markdown",
      "source": [
        "¿Hay valores imposibles por ejemplo menoreso iguales a 0? , ¿Cuál es el valor máximo de la variable?"
      ],
      "metadata": {
        "id": "W3NVT9FWW5OH"
      }
    },
    {
      "cell_type": "code",
      "source": [
        "df.sqfeet.min() , df.sqfeet.max()"
      ],
      "metadata": {
        "colab": {
          "base_uri": "https://localhost:8080/"
        },
        "id": "UnlR-S2dW6f_",
        "outputId": "e6153dab-12d0-4f5d-df99-d43075c9bb2a"
      },
      "execution_count": null,
      "outputs": [
        {
          "output_type": "execute_result",
          "data": {
            "text/plain": [
              "(0, 8388607)"
            ]
          },
          "metadata": {},
          "execution_count": 38
        }
      ]
    },
    {
      "cell_type": "markdown",
      "source": [
        "Como observamos hay un gran outlier que nos afecta las medidas de posición y dispersión."
      ],
      "metadata": {
        "id": "NhNLzBolXFDY"
      }
    },
    {
      "cell_type": "code",
      "source": [
        "df['sqfeet'].mean() , df['sqfeet'].median() ,df['sqfeet'].std()"
      ],
      "metadata": {
        "colab": {
          "base_uri": "https://localhost:8080/"
        },
        "id": "6ZCDCC-3XMp7",
        "outputId": "01205a02-022d-44e5-a308-46e730fbfb98"
      },
      "execution_count": null,
      "outputs": [
        {
          "output_type": "execute_result",
          "data": {
            "text/plain": [
              "(1066.3259100840166, 949.0, 20185.373353131607)"
            ]
          },
          "metadata": {},
          "execution_count": 39
        }
      ]
    },
    {
      "cell_type": "markdown",
      "source": [
        "Profundizamos el análisis ya que es una variable importante , para ello veremos que sucede si quitamos los sqfeet mayores a 40000 y los iguales a cero."
      ],
      "metadata": {
        "id": "wT57wstk4rAT"
      }
    },
    {
      "cell_type": "code",
      "source": [
        "sqsinoutliers=df[df['price']<40000]"
      ],
      "metadata": {
        "id": "yO1PZbqS4qR9"
      },
      "execution_count": null,
      "outputs": []
    },
    {
      "cell_type": "code",
      "source": [
        "sqsinoutliers.drop(sqsinoutliers[(sqsinoutliers['price'] == 0)].index, inplace=True)"
      ],
      "metadata": {
        "id": "g1IxBXgc4wB6"
      },
      "execution_count": null,
      "outputs": []
    },
    {
      "cell_type": "code",
      "source": [
        "sqsinoutliers.groupby(['type']).mean()"
      ],
      "metadata": {
        "colab": {
          "base_uri": "https://localhost:8080/",
          "height": 538
        },
        "id": "VrLmmxCw5LVo",
        "outputId": "410fb5bd-a2b1-431c-e770-d112207f1914"
      },
      "execution_count": null,
      "outputs": [
        {
          "output_type": "execute_result",
          "data": {
            "text/plain": [
              "                           id        price       sqfeet        beds     baths  \\\n",
              "type                                                                            \n",
              "apartment        7.041171e+09  1154.934679   989.492586    1.735216  1.414430   \n",
              "assisted living  7.034855e+09  1787.500000  1315.000000    3.500000  1.500000   \n",
              "condo            7.040672e+09  1601.478292  1150.909221    2.055436  1.660388   \n",
              "cottage/cabin    7.038989e+09  1088.146789   948.191350    1.773263  1.512451   \n",
              "duplex           7.040225e+09  1231.421668  1357.812665    2.347308  1.443954   \n",
              "flat             7.042320e+09  1578.648936  1008.876596    1.934043  1.343617   \n",
              "house            7.040039e+09  1396.634856  1641.380022    3.042891  1.862514   \n",
              "in-law           7.042117e+09  1306.379085   680.986928    1.091503  1.022876   \n",
              "land             7.031460e+09  4962.500000   530.000000  126.125000  5.250000   \n",
              "loft             7.041249e+09  1376.409756  1032.973984    1.447154  1.421951   \n",
              "manufactured     7.039844e+09  1055.711968  1158.552660    2.742021  1.822739   \n",
              "townhouse        7.040063e+09  1284.193287  1259.496368    2.425710  1.866441   \n",
              "\n",
              "                 cats_allowed  dogs_allowed  smoking_allowed  \\\n",
              "type                                                           \n",
              "apartment            0.762642      0.734988         0.752536   \n",
              "assisted living      0.000000      0.000000         1.000000   \n",
              "condo                0.408504      0.401328         0.468245   \n",
              "cottage/cabin        0.465269      0.499345         0.466579   \n",
              "duplex               0.393866      0.425419         0.406664   \n",
              "flat                 0.685106      0.625532         0.608511   \n",
              "house                0.494287      0.538418         0.662165   \n",
              "in-law               0.202614      0.189542         0.248366   \n",
              "land                 0.500000      0.625000         0.625000   \n",
              "loft                 0.775610      0.757724         0.469919   \n",
              "manufactured         0.722340      0.726862         0.802926   \n",
              "townhouse            0.762499      0.755518         0.684648   \n",
              "\n",
              "                 wheelchair_access  electric_vehicle_charge  comes_furnished  \\\n",
              "type                                                                           \n",
              "apartment                 0.086883                 0.012353         0.040081   \n",
              "assisted living           0.000000                 0.000000         0.000000   \n",
              "condo                     0.089164                 0.017940         0.202189   \n",
              "cottage/cabin             0.043250                 0.007864         0.318480   \n",
              "duplex                    0.065755                 0.005737         0.047661   \n",
              "flat                      0.229787                 0.204255         0.093617   \n",
              "house                     0.065644                 0.018162         0.092853   \n",
              "in-law                    0.019608                 0.032680         0.372549   \n",
              "land                      0.000000                 0.125000         0.375000   \n",
              "loft                      0.240650                 0.029268         0.037398   \n",
              "manufactured              0.008511                 0.003191         0.031117   \n",
              "townhouse                 0.029476                 0.006911         0.034553   \n",
              "\n",
              "                       lat        long  \n",
              "type                                    \n",
              "apartment        37.125597  -92.551993  \n",
              "assisted living  35.626800 -102.577150  \n",
              "condo            36.196799  -95.746158  \n",
              "cottage/cabin    37.520088 -102.725522  \n",
              "duplex           38.820877  -98.461393  \n",
              "flat             37.192049  -92.397624  \n",
              "house            37.637571  -93.955759  \n",
              "in-law           38.173741 -108.952120  \n",
              "land             33.407337  -96.291975  \n",
              "loft             38.422476  -88.999615  \n",
              "manufactured     37.463254  -89.370255  \n",
              "townhouse        38.389084  -90.146747  "
            ],
            "text/html": [
              "\n",
              "  <div id=\"df-48d2015a-5d20-4d61-83d7-be2f50a262f0\">\n",
              "    <div class=\"colab-df-container\">\n",
              "      <div>\n",
              "<style scoped>\n",
              "    .dataframe tbody tr th:only-of-type {\n",
              "        vertical-align: middle;\n",
              "    }\n",
              "\n",
              "    .dataframe tbody tr th {\n",
              "        vertical-align: top;\n",
              "    }\n",
              "\n",
              "    .dataframe thead th {\n",
              "        text-align: right;\n",
              "    }\n",
              "</style>\n",
              "<table border=\"1\" class=\"dataframe\">\n",
              "  <thead>\n",
              "    <tr style=\"text-align: right;\">\n",
              "      <th></th>\n",
              "      <th>id</th>\n",
              "      <th>price</th>\n",
              "      <th>sqfeet</th>\n",
              "      <th>beds</th>\n",
              "      <th>baths</th>\n",
              "      <th>cats_allowed</th>\n",
              "      <th>dogs_allowed</th>\n",
              "      <th>smoking_allowed</th>\n",
              "      <th>wheelchair_access</th>\n",
              "      <th>electric_vehicle_charge</th>\n",
              "      <th>comes_furnished</th>\n",
              "      <th>lat</th>\n",
              "      <th>long</th>\n",
              "    </tr>\n",
              "    <tr>\n",
              "      <th>type</th>\n",
              "      <th></th>\n",
              "      <th></th>\n",
              "      <th></th>\n",
              "      <th></th>\n",
              "      <th></th>\n",
              "      <th></th>\n",
              "      <th></th>\n",
              "      <th></th>\n",
              "      <th></th>\n",
              "      <th></th>\n",
              "      <th></th>\n",
              "      <th></th>\n",
              "      <th></th>\n",
              "    </tr>\n",
              "  </thead>\n",
              "  <tbody>\n",
              "    <tr>\n",
              "      <th>apartment</th>\n",
              "      <td>7.041171e+09</td>\n",
              "      <td>1154.934679</td>\n",
              "      <td>989.492586</td>\n",
              "      <td>1.735216</td>\n",
              "      <td>1.414430</td>\n",
              "      <td>0.762642</td>\n",
              "      <td>0.734988</td>\n",
              "      <td>0.752536</td>\n",
              "      <td>0.086883</td>\n",
              "      <td>0.012353</td>\n",
              "      <td>0.040081</td>\n",
              "      <td>37.125597</td>\n",
              "      <td>-92.551993</td>\n",
              "    </tr>\n",
              "    <tr>\n",
              "      <th>assisted living</th>\n",
              "      <td>7.034855e+09</td>\n",
              "      <td>1787.500000</td>\n",
              "      <td>1315.000000</td>\n",
              "      <td>3.500000</td>\n",
              "      <td>1.500000</td>\n",
              "      <td>0.000000</td>\n",
              "      <td>0.000000</td>\n",
              "      <td>1.000000</td>\n",
              "      <td>0.000000</td>\n",
              "      <td>0.000000</td>\n",
              "      <td>0.000000</td>\n",
              "      <td>35.626800</td>\n",
              "      <td>-102.577150</td>\n",
              "    </tr>\n",
              "    <tr>\n",
              "      <th>condo</th>\n",
              "      <td>7.040672e+09</td>\n",
              "      <td>1601.478292</td>\n",
              "      <td>1150.909221</td>\n",
              "      <td>2.055436</td>\n",
              "      <td>1.660388</td>\n",
              "      <td>0.408504</td>\n",
              "      <td>0.401328</td>\n",
              "      <td>0.468245</td>\n",
              "      <td>0.089164</td>\n",
              "      <td>0.017940</td>\n",
              "      <td>0.202189</td>\n",
              "      <td>36.196799</td>\n",
              "      <td>-95.746158</td>\n",
              "    </tr>\n",
              "    <tr>\n",
              "      <th>cottage/cabin</th>\n",
              "      <td>7.038989e+09</td>\n",
              "      <td>1088.146789</td>\n",
              "      <td>948.191350</td>\n",
              "      <td>1.773263</td>\n",
              "      <td>1.512451</td>\n",
              "      <td>0.465269</td>\n",
              "      <td>0.499345</td>\n",
              "      <td>0.466579</td>\n",
              "      <td>0.043250</td>\n",
              "      <td>0.007864</td>\n",
              "      <td>0.318480</td>\n",
              "      <td>37.520088</td>\n",
              "      <td>-102.725522</td>\n",
              "    </tr>\n",
              "    <tr>\n",
              "      <th>duplex</th>\n",
              "      <td>7.040225e+09</td>\n",
              "      <td>1231.421668</td>\n",
              "      <td>1357.812665</td>\n",
              "      <td>2.347308</td>\n",
              "      <td>1.443954</td>\n",
              "      <td>0.393866</td>\n",
              "      <td>0.425419</td>\n",
              "      <td>0.406664</td>\n",
              "      <td>0.065755</td>\n",
              "      <td>0.005737</td>\n",
              "      <td>0.047661</td>\n",
              "      <td>38.820877</td>\n",
              "      <td>-98.461393</td>\n",
              "    </tr>\n",
              "    <tr>\n",
              "      <th>flat</th>\n",
              "      <td>7.042320e+09</td>\n",
              "      <td>1578.648936</td>\n",
              "      <td>1008.876596</td>\n",
              "      <td>1.934043</td>\n",
              "      <td>1.343617</td>\n",
              "      <td>0.685106</td>\n",
              "      <td>0.625532</td>\n",
              "      <td>0.608511</td>\n",
              "      <td>0.229787</td>\n",
              "      <td>0.204255</td>\n",
              "      <td>0.093617</td>\n",
              "      <td>37.192049</td>\n",
              "      <td>-92.397624</td>\n",
              "    </tr>\n",
              "    <tr>\n",
              "      <th>house</th>\n",
              "      <td>7.040039e+09</td>\n",
              "      <td>1396.634856</td>\n",
              "      <td>1641.380022</td>\n",
              "      <td>3.042891</td>\n",
              "      <td>1.862514</td>\n",
              "      <td>0.494287</td>\n",
              "      <td>0.538418</td>\n",
              "      <td>0.662165</td>\n",
              "      <td>0.065644</td>\n",
              "      <td>0.018162</td>\n",
              "      <td>0.092853</td>\n",
              "      <td>37.637571</td>\n",
              "      <td>-93.955759</td>\n",
              "    </tr>\n",
              "    <tr>\n",
              "      <th>in-law</th>\n",
              "      <td>7.042117e+09</td>\n",
              "      <td>1306.379085</td>\n",
              "      <td>680.986928</td>\n",
              "      <td>1.091503</td>\n",
              "      <td>1.022876</td>\n",
              "      <td>0.202614</td>\n",
              "      <td>0.189542</td>\n",
              "      <td>0.248366</td>\n",
              "      <td>0.019608</td>\n",
              "      <td>0.032680</td>\n",
              "      <td>0.372549</td>\n",
              "      <td>38.173741</td>\n",
              "      <td>-108.952120</td>\n",
              "    </tr>\n",
              "    <tr>\n",
              "      <th>land</th>\n",
              "      <td>7.031460e+09</td>\n",
              "      <td>4962.500000</td>\n",
              "      <td>530.000000</td>\n",
              "      <td>126.125000</td>\n",
              "      <td>5.250000</td>\n",
              "      <td>0.500000</td>\n",
              "      <td>0.625000</td>\n",
              "      <td>0.625000</td>\n",
              "      <td>0.000000</td>\n",
              "      <td>0.125000</td>\n",
              "      <td>0.375000</td>\n",
              "      <td>33.407337</td>\n",
              "      <td>-96.291975</td>\n",
              "    </tr>\n",
              "    <tr>\n",
              "      <th>loft</th>\n",
              "      <td>7.041249e+09</td>\n",
              "      <td>1376.409756</td>\n",
              "      <td>1032.973984</td>\n",
              "      <td>1.447154</td>\n",
              "      <td>1.421951</td>\n",
              "      <td>0.775610</td>\n",
              "      <td>0.757724</td>\n",
              "      <td>0.469919</td>\n",
              "      <td>0.240650</td>\n",
              "      <td>0.029268</td>\n",
              "      <td>0.037398</td>\n",
              "      <td>38.422476</td>\n",
              "      <td>-88.999615</td>\n",
              "    </tr>\n",
              "    <tr>\n",
              "      <th>manufactured</th>\n",
              "      <td>7.039844e+09</td>\n",
              "      <td>1055.711968</td>\n",
              "      <td>1158.552660</td>\n",
              "      <td>2.742021</td>\n",
              "      <td>1.822739</td>\n",
              "      <td>0.722340</td>\n",
              "      <td>0.726862</td>\n",
              "      <td>0.802926</td>\n",
              "      <td>0.008511</td>\n",
              "      <td>0.003191</td>\n",
              "      <td>0.031117</td>\n",
              "      <td>37.463254</td>\n",
              "      <td>-89.370255</td>\n",
              "    </tr>\n",
              "    <tr>\n",
              "      <th>townhouse</th>\n",
              "      <td>7.040063e+09</td>\n",
              "      <td>1284.193287</td>\n",
              "      <td>1259.496368</td>\n",
              "      <td>2.425710</td>\n",
              "      <td>1.866441</td>\n",
              "      <td>0.762499</td>\n",
              "      <td>0.755518</td>\n",
              "      <td>0.684648</td>\n",
              "      <td>0.029476</td>\n",
              "      <td>0.006911</td>\n",
              "      <td>0.034553</td>\n",
              "      <td>38.389084</td>\n",
              "      <td>-90.146747</td>\n",
              "    </tr>\n",
              "  </tbody>\n",
              "</table>\n",
              "</div>\n",
              "      <button class=\"colab-df-convert\" onclick=\"convertToInteractive('df-48d2015a-5d20-4d61-83d7-be2f50a262f0')\"\n",
              "              title=\"Convert this dataframe to an interactive table.\"\n",
              "              style=\"display:none;\">\n",
              "        \n",
              "  <svg xmlns=\"http://www.w3.org/2000/svg\" height=\"24px\"viewBox=\"0 0 24 24\"\n",
              "       width=\"24px\">\n",
              "    <path d=\"M0 0h24v24H0V0z\" fill=\"none\"/>\n",
              "    <path d=\"M18.56 5.44l.94 2.06.94-2.06 2.06-.94-2.06-.94-.94-2.06-.94 2.06-2.06.94zm-11 1L8.5 8.5l.94-2.06 2.06-.94-2.06-.94L8.5 2.5l-.94 2.06-2.06.94zm10 10l.94 2.06.94-2.06 2.06-.94-2.06-.94-.94-2.06-.94 2.06-2.06.94z\"/><path d=\"M17.41 7.96l-1.37-1.37c-.4-.4-.92-.59-1.43-.59-.52 0-1.04.2-1.43.59L10.3 9.45l-7.72 7.72c-.78.78-.78 2.05 0 2.83L4 21.41c.39.39.9.59 1.41.59.51 0 1.02-.2 1.41-.59l7.78-7.78 2.81-2.81c.8-.78.8-2.07 0-2.86zM5.41 20L4 18.59l7.72-7.72 1.47 1.35L5.41 20z\"/>\n",
              "  </svg>\n",
              "      </button>\n",
              "      \n",
              "  <style>\n",
              "    .colab-df-container {\n",
              "      display:flex;\n",
              "      flex-wrap:wrap;\n",
              "      gap: 12px;\n",
              "    }\n",
              "\n",
              "    .colab-df-convert {\n",
              "      background-color: #E8F0FE;\n",
              "      border: none;\n",
              "      border-radius: 50%;\n",
              "      cursor: pointer;\n",
              "      display: none;\n",
              "      fill: #1967D2;\n",
              "      height: 32px;\n",
              "      padding: 0 0 0 0;\n",
              "      width: 32px;\n",
              "    }\n",
              "\n",
              "    .colab-df-convert:hover {\n",
              "      background-color: #E2EBFA;\n",
              "      box-shadow: 0px 1px 2px rgba(60, 64, 67, 0.3), 0px 1px 3px 1px rgba(60, 64, 67, 0.15);\n",
              "      fill: #174EA6;\n",
              "    }\n",
              "\n",
              "    [theme=dark] .colab-df-convert {\n",
              "      background-color: #3B4455;\n",
              "      fill: #D2E3FC;\n",
              "    }\n",
              "\n",
              "    [theme=dark] .colab-df-convert:hover {\n",
              "      background-color: #434B5C;\n",
              "      box-shadow: 0px 1px 3px 1px rgba(0, 0, 0, 0.15);\n",
              "      filter: drop-shadow(0px 1px 2px rgba(0, 0, 0, 0.3));\n",
              "      fill: #FFFFFF;\n",
              "    }\n",
              "  </style>\n",
              "\n",
              "      <script>\n",
              "        const buttonEl =\n",
              "          document.querySelector('#df-48d2015a-5d20-4d61-83d7-be2f50a262f0 button.colab-df-convert');\n",
              "        buttonEl.style.display =\n",
              "          google.colab.kernel.accessAllowed ? 'block' : 'none';\n",
              "\n",
              "        async function convertToInteractive(key) {\n",
              "          const element = document.querySelector('#df-48d2015a-5d20-4d61-83d7-be2f50a262f0');\n",
              "          const dataTable =\n",
              "            await google.colab.kernel.invokeFunction('convertToInteractive',\n",
              "                                                     [key], {});\n",
              "          if (!dataTable) return;\n",
              "\n",
              "          const docLinkHtml = 'Like what you see? Visit the ' +\n",
              "            '<a target=\"_blank\" href=https://colab.research.google.com/notebooks/data_table.ipynb>data table notebook</a>'\n",
              "            + ' to learn more about interactive tables.';\n",
              "          element.innerHTML = '';\n",
              "          dataTable['output_type'] = 'display_data';\n",
              "          await google.colab.output.renderOutput(dataTable, element);\n",
              "          const docLink = document.createElement('div');\n",
              "          docLink.innerHTML = docLinkHtml;\n",
              "          element.appendChild(docLink);\n",
              "        }\n",
              "      </script>\n",
              "    </div>\n",
              "  </div>\n",
              "  "
            ]
          },
          "metadata": {},
          "execution_count": 48
        }
      ]
    },
    {
      "cell_type": "markdown",
      "source": [
        "#### Variables Categóricas"
      ],
      "metadata": {
        "id": "DUUzOeCqZGSq"
      }
    },
    {
      "cell_type": "markdown",
      "source": [
        "##### Región"
      ],
      "metadata": {
        "id": "PoxDBrfT6L-Q"
      }
    },
    {
      "cell_type": "markdown",
      "source": [
        "Cantidad de regiones"
      ],
      "metadata": {
        "id": "CXQPR5aj7l9e"
      }
    },
    {
      "cell_type": "code",
      "source": [
        "len(df.region.unique())"
      ],
      "metadata": {
        "colab": {
          "base_uri": "https://localhost:8080/"
        },
        "id": "k0mpNT9M7NuR",
        "outputId": "d799202f-9062-4df6-8aa0-e14e68f1f0d4"
      },
      "execution_count": null,
      "outputs": [
        {
          "output_type": "execute_result",
          "data": {
            "text/plain": [
              "404"
            ]
          },
          "metadata": {},
          "execution_count": 54
        }
      ]
    },
    {
      "cell_type": "markdown",
      "source": [
        "##### Type"
      ],
      "metadata": {
        "id": "D4nDzMDX71n_"
      }
    },
    {
      "cell_type": "markdown",
      "source": [
        "Cantidad de tipos de propiedad."
      ],
      "metadata": {
        "id": "XURKFBF_9aQw"
      }
    },
    {
      "cell_type": "code",
      "source": [
        "len(df.type.unique())"
      ],
      "metadata": {
        "colab": {
          "base_uri": "https://localhost:8080/"
        },
        "id": "poZnNiBU9Z6M",
        "outputId": "3fd7e752-34c3-45b5-d7c2-1ebb01206c8d"
      },
      "execution_count": null,
      "outputs": [
        {
          "output_type": "execute_result",
          "data": {
            "text/plain": [
              "12"
            ]
          },
          "metadata": {},
          "execution_count": 7
        }
      ]
    },
    {
      "cell_type": "markdown",
      "source": [
        "Graficamos la distribucion de frecuencias por tipo de propiedad."
      ],
      "metadata": {
        "id": "D4BFieZx9jrD"
      }
    },
    {
      "cell_type": "code",
      "source": [
        "plt.figure(figsize=(15,10)),\n",
        "ax = sns.countplot(df['type'])\n",
        "ax.set_xticklabels(ax.get_xticklabels(), rotation=40, ha=\"right\")\n",
        "plt.show()"
      ],
      "metadata": {
        "id": "gC2myeLrZAEK",
        "colab": {
          "base_uri": "https://localhost:8080/",
          "height": 707
        },
        "outputId": "0a5b850d-6051-4320-87d3-52828a3cde29"
      },
      "execution_count": null,
      "outputs": [
        {
          "output_type": "stream",
          "name": "stderr",
          "text": [
            "/usr/local/lib/python3.8/dist-packages/seaborn/_decorators.py:36: FutureWarning: Pass the following variable as a keyword arg: x. From version 0.12, the only valid positional argument will be `data`, and passing other arguments without an explicit keyword will result in an error or misinterpretation.\n",
            "  warnings.warn(\n"
          ]
        },
        {
          "output_type": "display_data",
          "data": {
            "text/plain": [
              "<Figure size 1080x720 with 1 Axes>"
            ],
            "image/png": "[encoded data removed]"
          },
          "metadata": {
            "needs_background": "light"
          }
        }
      ]
    },
    {
      "cell_type": "markdown",
      "source": [
        "##### Otras"
      ],
      "metadata": {
        "id": "xwPxl62n9uer"
      }
    },
    {
      "cell_type": "code",
      "source": [
        "df.cats_allowed.unique()"
      ],
      "metadata": {
        "colab": {
          "base_uri": "https://localhost:8080/"
        },
        "id": "aUa59EPQ-PGh",
        "outputId": "2f13eec4-8096-4055-aae2-b56bbf3def6f"
      },
      "execution_count": null,
      "outputs": [
        {
          "output_type": "execute_result",
          "data": {
            "text/plain": [
              "array([1, 0])"
            ]
          },
          "metadata": {},
          "execution_count": 9
        }
      ]
    },
    {
      "cell_type": "code",
      "source": [
        "df.dogs_allowed.unique()"
      ],
      "metadata": {
        "colab": {
          "base_uri": "https://localhost:8080/"
        },
        "id": "XMsyKQc0-V7Z",
        "outputId": "648f9573-a727-494c-a6d9-60dbf8983404"
      },
      "execution_count": null,
      "outputs": [
        {
          "output_type": "execute_result",
          "data": {
            "text/plain": [
              "array([1, 0])"
            ]
          },
          "metadata": {},
          "execution_count": 10
        }
      ]
    },
    {
      "cell_type": "code",
      "source": [
        "df.smoking_allowed.unique()"
      ],
      "metadata": {
        "colab": {
          "base_uri": "https://localhost:8080/"
        },
        "id": "vVGHxKdK-Yft",
        "outputId": "bd04e4b4-3319-471b-e81d-d0ed564e1466"
      },
      "execution_count": null,
      "outputs": [
        {
          "output_type": "execute_result",
          "data": {
            "text/plain": [
              "array([1, 0])"
            ]
          },
          "metadata": {},
          "execution_count": 11
        }
      ]
    },
    {
      "cell_type": "code",
      "source": [
        "df.wheelchair_access.unique()"
      ],
      "metadata": {
        "colab": {
          "base_uri": "https://localhost:8080/"
        },
        "id": "_eil3eAB-cJF",
        "outputId": "8fbe2e24-447c-4cbc-8c42-ce3a6dcc8f75"
      },
      "execution_count": null,
      "outputs": [
        {
          "output_type": "execute_result",
          "data": {
            "text/plain": [
              "array([0, 1])"
            ]
          },
          "metadata": {},
          "execution_count": 12
        }
      ]
    },
    {
      "cell_type": "code",
      "source": [
        "df.electric_vehicle_charge.unique()"
      ],
      "metadata": {
        "colab": {
          "base_uri": "https://localhost:8080/"
        },
        "id": "mNTFptMC-eQT",
        "outputId": "d3a817d4-879e-4b49-9373-ce26b7339448"
      },
      "execution_count": null,
      "outputs": [
        {
          "output_type": "execute_result",
          "data": {
            "text/plain": [
              "array([0, 1])"
            ]
          },
          "metadata": {},
          "execution_count": 13
        }
      ]
    },
    {
      "cell_type": "markdown",
      "source": [
        "### Matriz de Correlación"
      ],
      "metadata": {
        "id": "lCk7Z3n0_MO1"
      }
    },
    {
      "cell_type": "code",
      "source": [
        "data= df[[\"region\", \"price\", \"type\", \"sqfeet\", \"beds\", \"baths\", \"cats_allowed\", \"electric_vehicle_charge\" , \"comes_furnished\" ,\"laundry_options\", \"parking_options\", \"state\" ]]"
      ],
      "metadata": {
        "id": "3j9Ks7WB_T1f"
      },
      "execution_count": null,
      "outputs": []
    },
    {
      "cell_type": "code",
      "source": [
        "corr = data.corr()\n",
        "sns.set(font_scale=2)\n",
        "plt.figure(figsize=(15,15))\n",
        "sns.heatmap(corr, cbar=True, square= True, fmt='.5f', annot=True, annot_kws={'size':15})\n",
        "plt.title(\"Heatmap de correlación del dataset \", fontsize=25)"
      ],
      "metadata": {
        "id": "g7owDC_UafIV",
        "colab": {
          "base_uri": "https://localhost:8080/",
          "height": 1000
        },
        "outputId": "cf387395-28ae-44ff-9db0-b64a8ca82d95"
      },
      "execution_count": null,
      "outputs": [
        {
          "output_type": "execute_result",
          "data": {
            "text/plain": [
              "Text(0.5, 1.0, 'Heatmap de correlación del dataset ')"
            ]
          },
          "metadata": {},
          "execution_count": 23
        },
        {
          "output_type": "display_data",
          "data": {
            "text/plain": [
              "<Figure size 1080x1080 with 2 Axes>"
            ],
            "image/png": "[encoded data removed]"
          },
          "metadata": {}
        }
      ]
    }
  ]
}