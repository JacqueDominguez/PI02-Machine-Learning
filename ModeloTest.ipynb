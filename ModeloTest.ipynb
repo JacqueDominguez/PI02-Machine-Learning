{
 "cells": [
  {
   "cell_type": "code",
   "execution_count": 37,
   "metadata": {},
   "outputs": [],
   "source": [
    "import pandas as pd\n",
    "import matplotlib.pyplot as plt\n",
    "import seaborn as sns\n",
    "import numpy as np\n",
    "from sklearn.tree import DecisionTreeClassifier\n",
    "from sklearn.model_selection import train_test_split\n"
   ]
  },
  {
   "cell_type": "code",
   "execution_count": 38,
   "metadata": {},
   "outputs": [],
   "source": [
    "# Traemos los datos\n",
    "dftrain= pd.read_csv('D:\\Desktop\\PI02\\df_train_final.csv')\n",
    "dftest= pd.read_csv('D:\\Desktop\\PI02\\df_test_final.csv')"
   ]
  },
  {
   "cell_type": "code",
   "execution_count": 40,
   "metadata": {},
   "outputs": [],
   "source": [
    "#Definimos variables\n",
    "#Separamos el modelo en train y test\n",
    "X_train= dftrain[['sqfeet', 'beds', 'baths', 'cats_allowed', 'dogs_allowed', 'smoking_allowed','wheelchair_access', 'electric_vehicle_charge', 'comes_furnished','lat', 'long','type_apartment','type_assisted living','type_condo','type_cottage/cabin','type_duplex','type_flat','type_house','type_in-law','type_land','type_loft','type_manufactured','type_townhouse','laundry_laundry in bldg','laundry_laundry on site','laundry_no laundry on site','laundry_w/d hookups','laundry_w/d in unit','parking_attached garage','parking_carport','parking_detached garage','parking_no parking','parking_off-street parking','parking_street parking','parking_valet parking'  ]]\n",
    "X_test= dftest[['sqfeet', 'beds', 'baths', 'cats_allowed', 'dogs_allowed', 'smoking_allowed','wheelchair_access', 'electric_vehicle_charge', 'comes_furnished','lat', 'long','type_apartment','type_assisted living','type_condo','type_cottage/cabin','type_duplex','type_flat','type_house','type_in-law','type_land','type_loft','type_manufactured','type_townhouse','laundry_laundry in bldg','laundry_laundry on site','laundry_no laundry on site','laundry_w/d hookups','laundry_w/d in unit','parking_attached garage','parking_carport','parking_detached garage','parking_no parking','parking_off-street parking','parking_street parking','parking_valet parking' ]]\n",
    "y_train= dftrain[['low']]\n"
   ]
  },
  {
   "cell_type": "code",
   "execution_count": 41,
   "metadata": {},
   "outputs": [
    {
     "name": "stdout",
     "output_type": "stream",
     "text": [
      "(273134, 35) (273134, 1) (38498, 35)\n"
     ]
    }
   ],
   "source": [
    "#Confirmamos los tamaños de train y test\n",
    "print(X_train.shape, y_train.shape, X_test.shape)"
   ]
  },
  {
   "cell_type": "code",
   "execution_count": 42,
   "metadata": {},
   "outputs": [],
   "source": [
    "#Entrenamos el modelo y predecimos\n",
    "clf = DecisionTreeClassifier(max_depth = 46) \n",
    "clf.fit(X_train.values,y_train.values)\n",
    "\n",
    "y_pred = clf.predict(X_test.values)"
   ]
  },
  {
   "cell_type": "code",
   "execution_count": 43,
   "metadata": {},
   "outputs": [],
   "source": [
    "#Lo enviamos a un csv para competir!\n",
    "y_pred= pd.DataFrame(y_pred, columns=['pred'])\n",
    "y_pred.to_csv('JacqueDominguez.csv', index=False)"
   ]
  }
 ],
 "metadata": {
  "kernelspec": {
   "display_name": "Python 3",
   "language": "python",
   "name": "python3"
  },
  "language_info": {
   "codemirror_mode": {
    "name": "ipython",
    "version": 3
   },
   "file_extension": ".py",
   "mimetype": "text/x-python",
   "name": "python",
   "nbconvert_exporter": "python",
   "pygments_lexer": "ipython3",
   "version": "3.10.6"
  },
  "orig_nbformat": 4,
  "vscode": {
   "interpreter": {
    "hash": "76d7c06053c3456e5600312cec90888656fc0ed30c03d8425b9dac6e4fc8e014"
   }
  }
 },
 "nbformat": 4,
 "nbformat_minor": 2
}
