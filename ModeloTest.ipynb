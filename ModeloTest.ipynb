{
 "cells": [
  {
   "cell_type": "code",
   "execution_count": 3,
   "metadata": {},
   "outputs": [],
   "source": [
    "import pandas as pd\n",
    "import matplotlib.pyplot as plt\n",
    "import seaborn as sns\n",
    "import numpy as np\n",
    "from sklearn.tree import DecisionTreeClassifier\n",
    "from sklearn.model_selection import train_test_split\n"
   ]
  },
  {
   "cell_type": "code",
   "execution_count": 4,
   "metadata": {},
   "outputs": [],
   "source": [
    "# Traemos los datos\n",
    "dftrain= pd.read_csv('D:\\Desktop\\PI02\\df_train_final.csv')\n",
    "dftest= pd.read_csv('D:\\Desktop\\PI02\\df_test_final.csv')"
   ]
  },
  {
   "cell_type": "code",
   "execution_count": 5,
   "metadata": {},
   "outputs": [],
   "source": [
    "columns_names = list(dftrain.columns.values)\n",
    "columns_names.remove('Unnamed: 0')\n",
    "columns_names.remove('low')"
   ]
  },
  {
   "cell_type": "code",
   "execution_count": 6,
   "metadata": {},
   "outputs": [],
   "source": [
    "#Definimos variables\n",
    "#Separamos el modelo en train y test\n",
    "X_train= dftrain[columns_names]\n",
    "X_test= dftest[columns_names]\n",
    "y_train= dftrain[['low']]\n"
   ]
  },
  {
   "cell_type": "code",
   "execution_count": 7,
   "metadata": {},
   "outputs": [
    {
     "name": "stdout",
     "output_type": "stream",
     "text": [
      "(273136, 86) (273136, 1) (38498, 86)\n"
     ]
    }
   ],
   "source": [
    "#Confirmamos los tamaños de train y test\n",
    "print(X_train.shape, y_train.shape, X_test.shape)"
   ]
  },
  {
   "cell_type": "code",
   "execution_count": 8,
   "metadata": {},
   "outputs": [],
   "source": [
    "#Entrenamos el modelo y predecimos\n",
    "clf = DecisionTreeClassifier(max_depth = 100) \n",
    "clf.fit(X_train.values,y_train.values)\n",
    "\n",
    "y_pred = clf.predict(X_test.values)"
   ]
  },
  {
   "cell_type": "code",
   "execution_count": 9,
   "metadata": {},
   "outputs": [],
   "source": [
    "#Lo enviamos a un csv para competir!\n",
    "y_pred= pd.DataFrame(y_pred, columns=['pred'])\n",
    "y_pred.to_csv('JacqueDominguez.csv', index=False)"
   ]
  }
 ],
 "metadata": {
  "kernelspec": {
   "display_name": "Python 3",
   "language": "python",
   "name": "python3"
  },
  "language_info": {
   "codemirror_mode": {
    "name": "ipython",
    "version": 3
   },
   "file_extension": ".py",
   "mimetype": "text/x-python",
   "name": "python",
   "nbconvert_exporter": "python",
   "pygments_lexer": "ipython3",
   "version": "3.10.6"
  },
  "orig_nbformat": 4,
  "vscode": {
   "interpreter": {
    "hash": "76d7c06053c3456e5600312cec90888656fc0ed30c03d8425b9dac6e4fc8e014"
   }
  }
 },
 "nbformat": 4,
 "nbformat_minor": 2
}
