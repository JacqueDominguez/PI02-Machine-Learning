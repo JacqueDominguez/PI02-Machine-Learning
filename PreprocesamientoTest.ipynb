{
  "nbformat": 4,
  "nbformat_minor": 0,
  "metadata": {
    "colab": {
      "provenance": []
    },
    "kernelspec": {
      "name": "python3",
      "display_name": "Python 3"
    },
    "language_info": {
      "name": "python"
    }
  },
  "cells": [
    {
      "cell_type": "code",
      "source": [
        "from google.colab import drive\n",
        "drive.mount('/content/drive')"
      ],
      "metadata": {
        "colab": {
          "base_uri": "https://localhost:8080/"
        },
        "id": "uzNucoQAEWSv",
        "outputId": "b1b33682-70d4-42c7-c2fd-0d526b0fa0d9"
      },
      "execution_count": 42,
      "outputs": [
        {
          "output_type": "stream",
          "name": "stdout",
          "text": [
            "Drive already mounted at /content/drive; to attempt to forcibly remount, call drive.mount(\"/content/drive\", force_remount=True).\n"
          ]
        }
      ]
    },
    {
      "cell_type": "code",
      "source": [
        "# Se importan las librerias necesarias para aplicar las funciones\n",
        "import pandas as pd\n",
        "import numpy as np\n",
        "import matplotlib.pyplot as plt\n",
        "import seaborn as sns"
      ],
      "metadata": {
        "id": "g1h_wY10EA6k"
      },
      "execution_count": 43,
      "outputs": []
    },
    {
      "cell_type": "code",
      "source": [
        "# Lectura del dataset que contiene los datos \n",
        "df= pd.read_parquet('/content/drive/MyDrive/ML Projects/test.parquet', engine= 'pyarrow') #test"
      ],
      "metadata": {
        "id": "eXo_Oj2_EGX4"
      },
      "execution_count": 45,
      "outputs": []
    },
    {
      "cell_type": "markdown",
      "source": [
        "##Completando datos nulos"
      ],
      "metadata": {
        "id": "ACpfI3pQlLFh"
      }
    },
    {
      "cell_type": "code",
      "source": [
        "df.isnull().sum()"
      ],
      "metadata": {
        "colab": {
          "base_uri": "https://localhost:8080/"
        },
        "id": "Sfmp-QwVzkur",
        "outputId": "88ba44e7-eeb2-4014-e9ec-c7589d8c3035"
      },
      "execution_count": 46,
      "outputs": [
        {
          "output_type": "execute_result",
          "data": {
            "text/plain": [
              "id                             0\n",
              "url                            0\n",
              "region                         0\n",
              "region_url                     0\n",
              "type                           0\n",
              "sqfeet                         0\n",
              "beds                           0\n",
              "baths                          0\n",
              "cats_allowed                   0\n",
              "dogs_allowed                   0\n",
              "smoking_allowed                0\n",
              "wheelchair_access              0\n",
              "electric_vehicle_charge        0\n",
              "comes_furnished                0\n",
              "laundry_options             7855\n",
              "parking_options            14005\n",
              "image_url                      0\n",
              "description                    0\n",
              "lat                          196\n",
              "long                         196\n",
              "state                          0\n",
              "dtype: int64"
            ]
          },
          "metadata": {},
          "execution_count": 46
        }
      ]
    },
    {
      "cell_type": "markdown",
      "source": [
        "### Laundry_Options"
      ],
      "metadata": {
        "id": "mdOcQCS5z9Ae"
      }
    },
    {
      "cell_type": "code",
      "source": [
        "#Vamos a reemplazar los valores nulos de laundry por la moda segun el tipo de unidad , para el caso de que existan 2 elegimos una sola.\n",
        "df.groupby(['type'])['laundry_options'].agg(pd.Series.mode)"
      ],
      "metadata": {
        "id": "6wP5lIOW0QMF"
      },
      "execution_count": null,
      "outputs": []
    },
    {
      "cell_type": "code",
      "source": [
        "df.fillna({'type': 'apartment', 'laundry_options': 'w/d in unit'}, inplace=True)\n",
        "df.fillna({'type': 'assisted living', 'laundry_options': 'laundry on site'}, inplace=True)\n",
        "df.fillna({'type': 'condo', 'laundry_options': 'w/d in unit'}, inplace=True)\n",
        "df.fillna({'type': 'cottage/cabin', 'laundry_options': ' w/d in unit'}, inplace=True)\n",
        "df.fillna({'type': 'duplex', 'laundry_options': 'w/d hookups'}, inplace=True)\n",
        "df.fillna({'type': 'flat', 'laundry_options': ' w/d in unit'}, inplace=True)\n",
        "df.fillna({'type': 'house ', 'laundry_options': 'w/d hookups'}, inplace=True)\n",
        "df.fillna({'type': 'in-law', 'laundry_options': ' w/d in unit'}, inplace=True)\n",
        "df.fillna({'type': 'land', 'laundry_options': 'laundry on site'}, inplace=True)\n",
        "df.fillna({'type': 'loft', 'laundry_options': 'w/d in unit'}, inplace=True)\n",
        "df.fillna({'type': 'manufactured', 'laundry_options': 'w/d hookups'}, inplace=True)\n",
        "df.fillna({'type': 'townhouse', 'laundry_options': ' w/d in unit'}, inplace=True)"
      ],
      "metadata": {
        "id": "UIlSvOvH0DEA"
      },
      "execution_count": 47,
      "outputs": []
    },
    {
      "cell_type": "markdown",
      "source": [
        "### Parking_options"
      ],
      "metadata": {
        "id": "Q08O1-qR3Tb-"
      }
    },
    {
      "cell_type": "code",
      "source": [
        "#Vamos a reemplazar los valores nulos de laundry por la moda segun el tipo de unidad , para el caso de que existan 2 elegimos una sola.\n",
        "df.groupby(['type'])['parking_options'].agg(pd.Series.mode)"
      ],
      "metadata": {
        "colab": {
          "base_uri": "https://localhost:8080/"
        },
        "id": "TPS0xxhm0YJp",
        "outputId": "9d0c03f3-819d-49db-8d37-f5f4c2b77872"
      },
      "execution_count": 49,
      "outputs": [
        {
          "output_type": "execute_result",
          "data": {
            "text/plain": [
              "type\n",
              "apartment        off-street parking\n",
              "condo            off-street parking\n",
              "cottage/cabin    off-street parking\n",
              "duplex           off-street parking\n",
              "flat             off-street parking\n",
              "house            off-street parking\n",
              "in-law           off-street parking\n",
              "loft             off-street parking\n",
              "manufactured     off-street parking\n",
              "townhouse        off-street parking\n",
              "Name: parking_options, dtype: object"
            ]
          },
          "metadata": {},
          "execution_count": 49
        }
      ]
    },
    {
      "cell_type": "code",
      "source": [
        "df.fillna({'type': 'apartment', 'parking_options': 'off-street parking'}, inplace=True)\n",
        "df.fillna({'type': 'assisted living', 'parking_options': 'off-street parking'}, inplace=True)\n",
        "df.fillna({'type': 'condo', 'parking_options': 'off-street parking'}, inplace=True)\n",
        "df.fillna({'type': 'cottage/cabin', 'parking_options': 'off-street parking'}, inplace=True)\n",
        "df.fillna({'type': 'duplex', 'parking_options': 'off-street parking'}, inplace=True)\n",
        "df.fillna({'type': 'flat', 'parking_options': 'off-street parking'}, inplace=True)\n",
        "df.fillna({'type': 'house ', 'parking_options': 'attached garage'}, inplace=True)\n",
        "df.fillna({'type': 'in-law', 'parking_options': 'off-street parking'}, inplace=True)\n",
        "df.fillna({'type': 'land', 'parking_options': 'off-street parking'}, inplace=True)\n",
        "df.fillna({'type': 'loft', 'parking_options': 'off-street parking'}, inplace=True)\n",
        "df.fillna({'type': 'manufactured', 'parking_options': 'off-street parking'}, inplace=True)\n",
        "df.fillna({'type': 'townhouse', 'parking_options': 'off-street parking'}, inplace=True)"
      ],
      "metadata": {
        "id": "Bp03Ho7c3dWg"
      },
      "execution_count": 48,
      "outputs": []
    },
    {
      "cell_type": "markdown",
      "source": [
        "### Latitud y Longitud"
      ],
      "metadata": {
        "id": "pIml-nYizC9v"
      }
    },
    {
      "cell_type": "code",
      "source": [
        "# Decidimos completar los valores de Latitud y Longitud\n",
        "from sklearn.impute import KNNImputer\n",
        "\n",
        "# Crea un objeto KNNImputer\n",
        "imputer = KNNImputer(n_neighbors=3)\n",
        "\n",
        "# Aplica la interpolación a las columnas 'lat' y 'long'\n",
        "df[['lat', 'long']] = imputer.fit_transform(df[['lat', 'long']])"
      ],
      "metadata": {
        "id": "y8a_V-MEy9wt"
      },
      "execution_count": 50,
      "outputs": []
    },
    {
      "cell_type": "code",
      "source": [
        "df.isnull().sum()"
      ],
      "metadata": {
        "colab": {
          "base_uri": "https://localhost:8080/"
        },
        "id": "Vq-aRcUZzPOc",
        "outputId": "62d5e99d-765c-45f2-d84b-8be95ddc0dee"
      },
      "execution_count": 51,
      "outputs": [
        {
          "output_type": "execute_result",
          "data": {
            "text/plain": [
              "id                         0\n",
              "url                        0\n",
              "region                     0\n",
              "region_url                 0\n",
              "type                       0\n",
              "sqfeet                     0\n",
              "beds                       0\n",
              "baths                      0\n",
              "cats_allowed               0\n",
              "dogs_allowed               0\n",
              "smoking_allowed            0\n",
              "wheelchair_access          0\n",
              "electric_vehicle_charge    0\n",
              "comes_furnished            0\n",
              "laundry_options            0\n",
              "parking_options            0\n",
              "image_url                  0\n",
              "description                0\n",
              "lat                        0\n",
              "long                       0\n",
              "state                      0\n",
              "dtype: int64"
            ]
          },
          "metadata": {},
          "execution_count": 51
        }
      ]
    },
    {
      "cell_type": "markdown",
      "source": [
        "##Columnas"
      ],
      "metadata": {
        "id": "1oi3JtMclVWN"
      }
    },
    {
      "cell_type": "code",
      "source": [
        "#Eliminamos las columnas por no representar información relevante para el modelo.  \n",
        "df.drop(['id','url','region_url', 'image_url'], inplace=True, axis= 1)"
      ],
      "metadata": {
        "id": "DNenL5h7XwKW"
      },
      "execution_count": 52,
      "outputs": []
    },
    {
      "cell_type": "code",
      "source": [
        "df.info()"
      ],
      "metadata": {
        "id": "CpgSp9F6JCP3"
      },
      "execution_count": null,
      "outputs": []
    },
    {
      "cell_type": "code",
      "source": [
        "#Consideramos un error de tipeo a los números decimales , razon por la cual modificamos el tipo de dato a entero\n",
        "df['baths'] = df['baths'].astype('int64')"
      ],
      "metadata": {
        "id": "aZVpSYn6YGHu"
      },
      "execution_count": 53,
      "outputs": []
    },
    {
      "cell_type": "markdown",
      "source": [
        "## Variables Categoricas a numéricas"
      ],
      "metadata": {
        "id": "yqGWFaXPMBY5"
      }
    },
    {
      "cell_type": "code",
      "source": [
        "#Eliminamos las columnas de variables categoricas que no usaremos  \n",
        "df.drop(['region','description','state'], inplace=True, axis= 1)"
      ],
      "metadata": {
        "id": "eHbmjOH_M3-h"
      },
      "execution_count": 54,
      "outputs": []
    },
    {
      "cell_type": "code",
      "source": [
        "df.info()"
      ],
      "metadata": {
        "colab": {
          "base_uri": "https://localhost:8080/"
        },
        "id": "Kt_saYg8RDkb",
        "outputId": "136dc574-074d-43c8-c9f5-4ed8ceac8c26"
      },
      "execution_count": 55,
      "outputs": [
        {
          "output_type": "stream",
          "name": "stdout",
          "text": [
            "<class 'pandas.core.frame.DataFrame'>\n",
            "RangeIndex: 38498 entries, 0 to 38497\n",
            "Data columns (total 14 columns):\n",
            " #   Column                   Non-Null Count  Dtype  \n",
            "---  ------                   --------------  -----  \n",
            " 0   type                     38498 non-null  object \n",
            " 1   sqfeet                   38498 non-null  int64  \n",
            " 2   beds                     38498 non-null  int64  \n",
            " 3   baths                    38498 non-null  int64  \n",
            " 4   cats_allowed             38498 non-null  int64  \n",
            " 5   dogs_allowed             38498 non-null  int64  \n",
            " 6   smoking_allowed          38498 non-null  int64  \n",
            " 7   wheelchair_access        38498 non-null  int64  \n",
            " 8   electric_vehicle_charge  38498 non-null  int64  \n",
            " 9   comes_furnished          38498 non-null  int64  \n",
            " 10  laundry_options          38498 non-null  object \n",
            " 11  parking_options          38498 non-null  object \n",
            " 12  lat                      38498 non-null  float64\n",
            " 13  long                     38498 non-null  float64\n",
            "dtypes: float64(2), int64(9), object(3)\n",
            "memory usage: 4.1+ MB\n"
          ]
        }
      ]
    },
    {
      "cell_type": "markdown",
      "source": [
        "##Dataset Final"
      ],
      "metadata": {
        "id": "EX850gwgYAKv"
      }
    },
    {
      "cell_type": "code",
      "source": [
        "df.to_csv('df_test_final.csv')"
      ],
      "metadata": {
        "id": "Okuhb55wYEsJ"
      },
      "execution_count": 58,
      "outputs": []
    }
  ]
}