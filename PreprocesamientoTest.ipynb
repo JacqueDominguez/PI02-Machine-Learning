{
  "nbformat": 4,
  "nbformat_minor": 0,
  "metadata": {
    "colab": {
      "provenance": []
    },
    "kernelspec": {
      "name": "python3",
      "display_name": "Python 3"
    },
    "language_info": {
      "name": "python"
    }
  },
  "cells": [
    {
      "cell_type": "code",
      "source": [
        "from google.colab import drive\n",
        "drive.mount('/content/drive')"
      ],
      "metadata": {
        "colab": {
          "base_uri": "https://localhost:8080/"
        },
        "id": "uzNucoQAEWSv",
        "outputId": "75905d31-aef8-403e-97d0-6f9c2db8a24f"
      },
      "execution_count": 1,
      "outputs": [
        {
          "output_type": "stream",
          "name": "stdout",
          "text": [
            "Drive already mounted at /content/drive; to attempt to forcibly remount, call drive.mount(\"/content/drive\", force_remount=True).\n"
          ]
        }
      ]
    },
    {
      "cell_type": "code",
      "source": [
        "# Se importan las librerias necesarias para aplicar las funciones\n",
        "import pandas as pd\n",
        "import numpy as np\n",
        "import matplotlib.pyplot as plt\n",
        "import seaborn as sns\n",
        "from sklearn.preprocessing import OneHotEncoder"
      ],
      "metadata": {
        "id": "g1h_wY10EA6k"
      },
      "execution_count": 2,
      "outputs": []
    },
    {
      "cell_type": "code",
      "source": [
        "# Lectura del dataset que contiene los datos \n",
        "df= pd.read_parquet('/content/drive/MyDrive/ML Projects/test.parquet', engine= 'pyarrow') #test"
      ],
      "metadata": {
        "id": "eXo_Oj2_EGX4"
      },
      "execution_count": 26,
      "outputs": []
    },
    {
      "cell_type": "markdown",
      "source": [
        "##Completando datos nulos"
      ],
      "metadata": {
        "id": "ACpfI3pQlLFh"
      }
    },
    {
      "cell_type": "code",
      "source": [
        "df.isnull().sum()"
      ],
      "metadata": {
        "colab": {
          "base_uri": "https://localhost:8080/"
        },
        "id": "Sfmp-QwVzkur",
        "outputId": "c76e4d68-d87a-455a-cc18-85320210f374"
      },
      "execution_count": 4,
      "outputs": [
        {
          "output_type": "execute_result",
          "data": {
            "text/plain": [
              "id                             0\n",
              "url                            0\n",
              "region                         0\n",
              "region_url                     0\n",
              "type                           0\n",
              "sqfeet                         0\n",
              "beds                           0\n",
              "baths                          0\n",
              "cats_allowed                   0\n",
              "dogs_allowed                   0\n",
              "smoking_allowed                0\n",
              "wheelchair_access              0\n",
              "electric_vehicle_charge        0\n",
              "comes_furnished                0\n",
              "laundry_options             7855\n",
              "parking_options            14005\n",
              "image_url                      0\n",
              "description                    0\n",
              "lat                          196\n",
              "long                         196\n",
              "state                          0\n",
              "dtype: int64"
            ]
          },
          "metadata": {},
          "execution_count": 4
        }
      ]
    },
    {
      "cell_type": "markdown",
      "source": [
        "### Laundry_Options"
      ],
      "metadata": {
        "id": "mdOcQCS5z9Ae"
      }
    },
    {
      "cell_type": "code",
      "source": [
        "#Vamos a reemplazar los valores nulos de laundry por la moda segun el tipo de unidad , para el caso de que existan 2 elegimos una sola.\n",
        "df.groupby(['type'])['laundry_options'].agg(pd.Series.mode)"
      ],
      "metadata": {
        "colab": {
          "base_uri": "https://localhost:8080/"
        },
        "id": "6wP5lIOW0QMF",
        "outputId": "bba4181d-23d9-4334-8a9b-0f3d0342ba12"
      },
      "execution_count": 5,
      "outputs": [
        {
          "output_type": "execute_result",
          "data": {
            "text/plain": [
              "type\n",
              "apartment        w/d in unit\n",
              "condo            w/d in unit\n",
              "cottage/cabin    w/d in unit\n",
              "duplex           w/d hookups\n",
              "flat             w/d in unit\n",
              "house            w/d hookups\n",
              "in-law           w/d in unit\n",
              "loft             w/d in unit\n",
              "manufactured     w/d hookups\n",
              "townhouse        w/d in unit\n",
              "Name: laundry_options, dtype: object"
            ]
          },
          "metadata": {},
          "execution_count": 5
        }
      ]
    },
    {
      "cell_type": "code",
      "source": [
        "df.fillna({'type': 'apartment', 'laundry_options': 'w/d in unit'}, inplace=True)\n",
        "df.fillna({'type': 'assisted living', 'laundry_options': 'laundry on site'}, inplace=True)\n",
        "df.fillna({'type': 'condo', 'laundry_options': 'w/d in unit'}, inplace=True)\n",
        "df.fillna({'type': 'cottage/cabin', 'laundry_options': ' w/d in unit'}, inplace=True)\n",
        "df.fillna({'type': 'duplex', 'laundry_options': 'w/d hookups'}, inplace=True)\n",
        "df.fillna({'type': 'flat', 'laundry_options': ' w/d in unit'}, inplace=True)\n",
        "df.fillna({'type': 'house ', 'laundry_options': 'w/d hookups'}, inplace=True)\n",
        "df.fillna({'type': 'in-law', 'laundry_options': ' w/d in unit'}, inplace=True)\n",
        "df.fillna({'type': 'land', 'laundry_options': 'laundry on site'}, inplace=True)\n",
        "df.fillna({'type': 'loft', 'laundry_options': 'w/d in unit'}, inplace=True)\n",
        "df.fillna({'type': 'manufactured', 'laundry_options': 'w/d hookups'}, inplace=True)\n",
        "df.fillna({'type': 'townhouse', 'laundry_options': ' w/d in unit'}, inplace=True)"
      ],
      "metadata": {
        "id": "UIlSvOvH0DEA"
      },
      "execution_count": 27,
      "outputs": []
    },
    {
      "cell_type": "markdown",
      "source": [
        "### Parking_options"
      ],
      "metadata": {
        "id": "Q08O1-qR3Tb-"
      }
    },
    {
      "cell_type": "code",
      "source": [
        "#Vamos a reemplazar los valores nulos de laundry por la moda segun el tipo de unidad , para el caso de que existan 2 elegimos una sola.\n",
        "df.groupby(['type'])['parking_options'].agg(pd.Series.mode)"
      ],
      "metadata": {
        "colab": {
          "base_uri": "https://localhost:8080/"
        },
        "id": "TPS0xxhm0YJp",
        "outputId": "1b8c1d35-610d-4945-cb53-27bb0773195c"
      },
      "execution_count": 7,
      "outputs": [
        {
          "output_type": "execute_result",
          "data": {
            "text/plain": [
              "type\n",
              "apartment        off-street parking\n",
              "condo            off-street parking\n",
              "cottage/cabin    off-street parking\n",
              "duplex           off-street parking\n",
              "flat             off-street parking\n",
              "house               attached garage\n",
              "in-law           off-street parking\n",
              "loft             off-street parking\n",
              "manufactured     off-street parking\n",
              "townhouse        off-street parking\n",
              "Name: parking_options, dtype: object"
            ]
          },
          "metadata": {},
          "execution_count": 7
        }
      ]
    },
    {
      "cell_type": "code",
      "source": [
        "df.fillna({'type': 'apartment', 'parking_options': 'off-street parking'}, inplace=True)\n",
        "df.fillna({'type': 'assisted living', 'parking_options': 'off-street parking'}, inplace=True)\n",
        "df.fillna({'type': 'condo', 'parking_options': 'off-street parking'}, inplace=True)\n",
        "df.fillna({'type': 'cottage/cabin', 'parking_options': 'off-street parking'}, inplace=True)\n",
        "df.fillna({'type': 'duplex', 'parking_options': 'off-street parking'}, inplace=True)\n",
        "df.fillna({'type': 'flat', 'parking_options': 'off-street parking'}, inplace=True)\n",
        "df.fillna({'type': 'house ', 'parking_options': 'attached garage'}, inplace=True)\n",
        "df.fillna({'type': 'in-law', 'parking_options': 'off-street parking'}, inplace=True)\n",
        "df.fillna({'type': 'land', 'parking_options': 'off-street parking'}, inplace=True)\n",
        "df.fillna({'type': 'loft', 'parking_options': 'off-street parking'}, inplace=True)\n",
        "df.fillna({'type': 'manufactured', 'parking_options': 'off-street parking'}, inplace=True)\n",
        "df.fillna({'type': 'townhouse', 'parking_options': 'off-street parking'}, inplace=True)"
      ],
      "metadata": {
        "id": "Bp03Ho7c3dWg"
      },
      "execution_count": 28,
      "outputs": []
    },
    {
      "cell_type": "markdown",
      "source": [
        "### Latitud y Longitud"
      ],
      "metadata": {
        "id": "pIml-nYizC9v"
      }
    },
    {
      "cell_type": "code",
      "source": [
        "# Ordenamos el dataframe por la columna región , latitud y longitud para luego llenar los nulos con el valor del registro anterior\n",
        "df.sort_values(by=['region'], inplace=True, ascending=True , ignore_index= True)\n",
        "df.lat.fillna(method=\"ffill\", inplace=True)\n",
        "df.long.fillna(method=\"ffill\", inplace=True)"
      ],
      "metadata": {
        "id": "y8a_V-MEy9wt"
      },
      "execution_count": 29,
      "outputs": []
    },
    {
      "cell_type": "code",
      "source": [
        "df.isnull().sum()"
      ],
      "metadata": {
        "colab": {
          "base_uri": "https://localhost:8080/"
        },
        "id": "Vq-aRcUZzPOc",
        "outputId": "455c3f50-aa5b-4f05-faea-69b6aa5b868d"
      },
      "execution_count": 11,
      "outputs": [
        {
          "output_type": "execute_result",
          "data": {
            "text/plain": [
              "id                         0\n",
              "url                        0\n",
              "region                     0\n",
              "region_url                 0\n",
              "type                       0\n",
              "sqfeet                     0\n",
              "beds                       0\n",
              "baths                      0\n",
              "cats_allowed               0\n",
              "dogs_allowed               0\n",
              "smoking_allowed            0\n",
              "wheelchair_access          0\n",
              "electric_vehicle_charge    0\n",
              "comes_furnished            0\n",
              "laundry_options            0\n",
              "parking_options            0\n",
              "image_url                  0\n",
              "description                0\n",
              "lat                        0\n",
              "long                       0\n",
              "state                      0\n",
              "dtype: int64"
            ]
          },
          "metadata": {},
          "execution_count": 11
        }
      ]
    },
    {
      "cell_type": "markdown",
      "source": [
        "##Columnas"
      ],
      "metadata": {
        "id": "1oi3JtMclVWN"
      }
    },
    {
      "cell_type": "code",
      "source": [
        "#Eliminamos las columnas por no representar información relevante para el modelo.  \n",
        "df.drop(['id','url','region_url', 'image_url'], inplace=True, axis= 1)"
      ],
      "metadata": {
        "id": "DNenL5h7XwKW"
      },
      "execution_count": 30,
      "outputs": []
    },
    {
      "cell_type": "code",
      "source": [
        "df.info()"
      ],
      "metadata": {
        "colab": {
          "base_uri": "https://localhost:8080/"
        },
        "id": "CpgSp9F6JCP3",
        "outputId": "1b686c99-40c8-4731-dff1-2a1ae7be0a56"
      },
      "execution_count": 13,
      "outputs": [
        {
          "output_type": "stream",
          "name": "stdout",
          "text": [
            "<class 'pandas.core.frame.DataFrame'>\n",
            "RangeIndex: 38498 entries, 0 to 38497\n",
            "Data columns (total 17 columns):\n",
            " #   Column                   Non-Null Count  Dtype  \n",
            "---  ------                   --------------  -----  \n",
            " 0   region                   38498 non-null  object \n",
            " 1   type                     38498 non-null  object \n",
            " 2   sqfeet                   38498 non-null  int64  \n",
            " 3   beds                     38498 non-null  int64  \n",
            " 4   baths                    38498 non-null  float64\n",
            " 5   cats_allowed             38498 non-null  int64  \n",
            " 6   dogs_allowed             38498 non-null  int64  \n",
            " 7   smoking_allowed          38498 non-null  int64  \n",
            " 8   wheelchair_access        38498 non-null  int64  \n",
            " 9   electric_vehicle_charge  38498 non-null  int64  \n",
            " 10  comes_furnished          38498 non-null  int64  \n",
            " 11  laundry_options          38498 non-null  object \n",
            " 12  parking_options          38498 non-null  object \n",
            " 13  description              38498 non-null  object \n",
            " 14  lat                      38498 non-null  float64\n",
            " 15  long                     38498 non-null  float64\n",
            " 16  state                    38498 non-null  object \n",
            "dtypes: float64(3), int64(8), object(6)\n",
            "memory usage: 5.0+ MB\n"
          ]
        }
      ]
    },
    {
      "cell_type": "code",
      "source": [
        "#Consideramos un error de tipeo a los números decimales , razon por la cual modificamos el tipo de dato a entero\n",
        "df['baths'] = df['baths'].astype('int64')"
      ],
      "metadata": {
        "id": "aZVpSYn6YGHu"
      },
      "execution_count": 31,
      "outputs": []
    },
    {
      "cell_type": "markdown",
      "source": [
        "## Variables Categoricas a numéricas"
      ],
      "metadata": {
        "id": "yqGWFaXPMBY5"
      }
    },
    {
      "cell_type": "code",
      "source": [
        "#Eliminamos las columnas de variables categoricas que no usaremos  \n",
        "df.drop(['region','description'], inplace=True, axis= 1)"
      ],
      "metadata": {
        "id": "eHbmjOH_M3-h"
      },
      "execution_count": 32,
      "outputs": []
    },
    {
      "cell_type": "code",
      "source": [
        "# Definimos qué columnas serán \"dummificadas\"\n",
        "# Cada clave del diccionario equivale a un nombre de columna\n",
        "# `prefix` es el prefijo que se añadirá a cada columna dummy\n",
        "# `sep` especifica el caracter separador de los elementos de la celda\n",
        "dummy_columns = {\n",
        "    'type': {\n",
        "        'prefix': 'type',\n",
        "        'sep': ';'\n",
        "    },\n",
        "    'laundry_options': {\n",
        "        'prefix': 'laundry',\n",
        "        'sep': ';'\n",
        "    },\n",
        "      'parking_options': {\n",
        "        'prefix': 'parking',\n",
        "        'sep': ';'\n",
        "    },\n",
        "    'state': {\n",
        "        'prefix': 'state',\n",
        "        'sep': ';'\n",
        "    },\n",
        "}\n",
        "\n",
        "for column_name, dummy_data in dummy_columns.items():\n",
        "\t# creamos un DataFrame con una columna dummy por cada valor\n",
        "    dummies = df[column_name].str.get_dummies(sep=dummy_data['sep'])\n",
        "\n",
        "    # Añadimos prefijo a cada columna\n",
        "    dummies.columns = map(lambda col: f'{dummy_data[\"prefix\"]}_{col}', dummies.columns)\n",
        "    \n",
        "    # Añadimos las columnas dummy al df original\n",
        "    df = pd.concat([df, dummies], axis=1)\n",
        "\n",
        "# Eliminamos las columnas originales de df\n",
        "df = df.drop(columns=dummy_columns.keys())"
      ],
      "metadata": {
        "id": "_vjn_aygONQf"
      },
      "execution_count": 33,
      "outputs": []
    },
    {
      "cell_type": "code",
      "source": [
        "#Como vemos todas las variables son numéricas\n",
        "df.info()"
      ],
      "metadata": {
        "colab": {
          "base_uri": "https://localhost:8080/"
        },
        "id": "Kt_saYg8RDkb",
        "outputId": "7f935b53-1ba6-4d53-b6a4-db08a3f79b06"
      },
      "execution_count": 17,
      "outputs": [
        {
          "output_type": "stream",
          "name": "stdout",
          "text": [
            "<class 'pandas.core.frame.DataFrame'>\n",
            "RangeIndex: 38498 entries, 0 to 38497\n",
            "Data columns (total 84 columns):\n",
            " #   Column                      Non-Null Count  Dtype  \n",
            "---  ------                      --------------  -----  \n",
            " 0   sqfeet                      38498 non-null  int64  \n",
            " 1   beds                        38498 non-null  int64  \n",
            " 2   baths                       38498 non-null  int64  \n",
            " 3   cats_allowed                38498 non-null  int64  \n",
            " 4   dogs_allowed                38498 non-null  int64  \n",
            " 5   smoking_allowed             38498 non-null  int64  \n",
            " 6   wheelchair_access           38498 non-null  int64  \n",
            " 7   electric_vehicle_charge     38498 non-null  int64  \n",
            " 8   comes_furnished             38498 non-null  int64  \n",
            " 9   lat                         38498 non-null  float64\n",
            " 10  long                        38498 non-null  float64\n",
            " 11  type_apartment              38498 non-null  int64  \n",
            " 12  type_condo                  38498 non-null  int64  \n",
            " 13  type_cottage/cabin          38498 non-null  int64  \n",
            " 14  type_duplex                 38498 non-null  int64  \n",
            " 15  type_flat                   38498 non-null  int64  \n",
            " 16  type_house                  38498 non-null  int64  \n",
            " 17  type_in-law                 38498 non-null  int64  \n",
            " 18  type_loft                   38498 non-null  int64  \n",
            " 19  type_manufactured           38498 non-null  int64  \n",
            " 20  type_townhouse              38498 non-null  int64  \n",
            " 21  laundry_laundry in bldg     38498 non-null  int64  \n",
            " 22  laundry_laundry on site     38498 non-null  int64  \n",
            " 23  laundry_no laundry on site  38498 non-null  int64  \n",
            " 24  laundry_w/d hookups         38498 non-null  int64  \n",
            " 25  laundry_w/d in unit         38498 non-null  int64  \n",
            " 26  parking_attached garage     38498 non-null  int64  \n",
            " 27  parking_carport             38498 non-null  int64  \n",
            " 28  parking_detached garage     38498 non-null  int64  \n",
            " 29  parking_no parking          38498 non-null  int64  \n",
            " 30  parking_off-street parking  38498 non-null  int64  \n",
            " 31  parking_street parking      38498 non-null  int64  \n",
            " 32  parking_valet parking       38498 non-null  int64  \n",
            " 33  state_ak                    38498 non-null  int64  \n",
            " 34  state_al                    38498 non-null  int64  \n",
            " 35  state_ar                    38498 non-null  int64  \n",
            " 36  state_az                    38498 non-null  int64  \n",
            " 37  state_ca                    38498 non-null  int64  \n",
            " 38  state_co                    38498 non-null  int64  \n",
            " 39  state_ct                    38498 non-null  int64  \n",
            " 40  state_dc                    38498 non-null  int64  \n",
            " 41  state_de                    38498 non-null  int64  \n",
            " 42  state_fl                    38498 non-null  int64  \n",
            " 43  state_ga                    38498 non-null  int64  \n",
            " 44  state_hi                    38498 non-null  int64  \n",
            " 45  state_ia                    38498 non-null  int64  \n",
            " 46  state_id                    38498 non-null  int64  \n",
            " 47  state_il                    38498 non-null  int64  \n",
            " 48  state_in                    38498 non-null  int64  \n",
            " 49  state_ks                    38498 non-null  int64  \n",
            " 50  state_ky                    38498 non-null  int64  \n",
            " 51  state_la                    38498 non-null  int64  \n",
            " 52  state_ma                    38498 non-null  int64  \n",
            " 53  state_md                    38498 non-null  int64  \n",
            " 54  state_me                    38498 non-null  int64  \n",
            " 55  state_mi                    38498 non-null  int64  \n",
            " 56  state_mn                    38498 non-null  int64  \n",
            " 57  state_mo                    38498 non-null  int64  \n",
            " 58  state_ms                    38498 non-null  int64  \n",
            " 59  state_mt                    38498 non-null  int64  \n",
            " 60  state_nc                    38498 non-null  int64  \n",
            " 61  state_nd                    38498 non-null  int64  \n",
            " 62  state_ne                    38498 non-null  int64  \n",
            " 63  state_nh                    38498 non-null  int64  \n",
            " 64  state_nj                    38498 non-null  int64  \n",
            " 65  state_nm                    38498 non-null  int64  \n",
            " 66  state_nv                    38498 non-null  int64  \n",
            " 67  state_ny                    38498 non-null  int64  \n",
            " 68  state_oh                    38498 non-null  int64  \n",
            " 69  state_ok                    38498 non-null  int64  \n",
            " 70  state_or                    38498 non-null  int64  \n",
            " 71  state_pa                    38498 non-null  int64  \n",
            " 72  state_ri                    38498 non-null  int64  \n",
            " 73  state_sc                    38498 non-null  int64  \n",
            " 74  state_sd                    38498 non-null  int64  \n",
            " 75  state_tn                    38498 non-null  int64  \n",
            " 76  state_tx                    38498 non-null  int64  \n",
            " 77  state_ut                    38498 non-null  int64  \n",
            " 78  state_va                    38498 non-null  int64  \n",
            " 79  state_vt                    38498 non-null  int64  \n",
            " 80  state_wa                    38498 non-null  int64  \n",
            " 81  state_wi                    38498 non-null  int64  \n",
            " 82  state_wv                    38498 non-null  int64  \n",
            " 83  state_wy                    38498 non-null  int64  \n",
            "dtypes: float64(2), int64(82)\n",
            "memory usage: 24.7 MB\n"
          ]
        }
      ]
    },
    {
      "cell_type": "markdown",
      "source": [
        "## Escalado"
      ],
      "metadata": {
        "id": "vH_R2OjYV6gM"
      }
    },
    {
      "cell_type": "code",
      "source": [
        "#Decidimos aplicar a las variables numéricas del dataset StandardScaler\n",
        "from sklearn.preprocessing import StandardScaler\n",
        " \n",
        "sc = StandardScaler()\n",
        "cols = ['sqfeet', 'lat', 'long','beds', 'baths']\n",
        "df[cols] = sc.fit_transform(df[cols])"
      ],
      "metadata": {
        "id": "gUnCKIOnXaM0"
      },
      "execution_count": 34,
      "outputs": []
    },
    {
      "cell_type": "markdown",
      "source": [
        "Insertar nuevas filas no agregadas por la transformación"
      ],
      "metadata": {
        "id": "4jGspCPP_FyE"
      }
    },
    {
      "cell_type": "code",
      "source": [
        "df.insert(13,'type_assisted living','0')\n",
        "df.insert(20,'type_land','0')"
      ],
      "metadata": {
        "id": "lhvIENbn_yWU"
      },
      "execution_count": 35,
      "outputs": []
    },
    {
      "cell_type": "code",
      "source": [
        "df['type_assisted living'].fillna(0)\n",
        "df['type_land'].fillna(int(0))"
      ],
      "metadata": {
        "colab": {
          "base_uri": "https://localhost:8080/"
        },
        "id": "bfdEtKbNAgt4",
        "outputId": "23e3c8e4-4e89-419e-e542-68af827f439c"
      },
      "execution_count": 36,
      "outputs": [
        {
          "output_type": "execute_result",
          "data": {
            "text/plain": [
              "0        0\n",
              "1        0\n",
              "2        0\n",
              "3        0\n",
              "4        0\n",
              "        ..\n",
              "38493    0\n",
              "38494    0\n",
              "38495    0\n",
              "38496    0\n",
              "38497    0\n",
              "Name: type_land, Length: 38498, dtype: object"
            ]
          },
          "metadata": {},
          "execution_count": 36
        }
      ]
    },
    {
      "cell_type": "code",
      "source": [
        "df.info()"
      ],
      "metadata": {
        "colab": {
          "base_uri": "https://localhost:8080/"
        },
        "id": "BcsBdV0-DUQt",
        "outputId": "632ffbfe-6ccc-4050-8a6d-52ffecf7a149"
      },
      "execution_count": 37,
      "outputs": [
        {
          "output_type": "stream",
          "name": "stdout",
          "text": [
            "<class 'pandas.core.frame.DataFrame'>\n",
            "RangeIndex: 38498 entries, 0 to 38497\n",
            "Data columns (total 86 columns):\n",
            " #   Column                      Non-Null Count  Dtype  \n",
            "---  ------                      --------------  -----  \n",
            " 0   sqfeet                      38498 non-null  float64\n",
            " 1   beds                        38498 non-null  float64\n",
            " 2   baths                       38498 non-null  float64\n",
            " 3   cats_allowed                38498 non-null  int64  \n",
            " 4   dogs_allowed                38498 non-null  int64  \n",
            " 5   smoking_allowed             38498 non-null  int64  \n",
            " 6   wheelchair_access           38498 non-null  int64  \n",
            " 7   electric_vehicle_charge     38498 non-null  int64  \n",
            " 8   comes_furnished             38498 non-null  int64  \n",
            " 9   lat                         38498 non-null  float64\n",
            " 10  long                        38498 non-null  float64\n",
            " 11  type_apartment              38498 non-null  int64  \n",
            " 12  type_condo                  38498 non-null  int64  \n",
            " 13  type_assisted living        38498 non-null  object \n",
            " 14  type_cottage/cabin          38498 non-null  int64  \n",
            " 15  type_duplex                 38498 non-null  int64  \n",
            " 16  type_flat                   38498 non-null  int64  \n",
            " 17  type_house                  38498 non-null  int64  \n",
            " 18  type_in-law                 38498 non-null  int64  \n",
            " 19  type_loft                   38498 non-null  int64  \n",
            " 20  type_land                   38498 non-null  object \n",
            " 21  type_manufactured           38498 non-null  int64  \n",
            " 22  type_townhouse              38498 non-null  int64  \n",
            " 23  laundry_laundry in bldg     38498 non-null  int64  \n",
            " 24  laundry_laundry on site     38498 non-null  int64  \n",
            " 25  laundry_no laundry on site  38498 non-null  int64  \n",
            " 26  laundry_w/d hookups         38498 non-null  int64  \n",
            " 27  laundry_w/d in unit         38498 non-null  int64  \n",
            " 28  parking_attached garage     38498 non-null  int64  \n",
            " 29  parking_carport             38498 non-null  int64  \n",
            " 30  parking_detached garage     38498 non-null  int64  \n",
            " 31  parking_no parking          38498 non-null  int64  \n",
            " 32  parking_off-street parking  38498 non-null  int64  \n",
            " 33  parking_street parking      38498 non-null  int64  \n",
            " 34  parking_valet parking       38498 non-null  int64  \n",
            " 35  state_ak                    38498 non-null  int64  \n",
            " 36  state_al                    38498 non-null  int64  \n",
            " 37  state_ar                    38498 non-null  int64  \n",
            " 38  state_az                    38498 non-null  int64  \n",
            " 39  state_ca                    38498 non-null  int64  \n",
            " 40  state_co                    38498 non-null  int64  \n",
            " 41  state_ct                    38498 non-null  int64  \n",
            " 42  state_dc                    38498 non-null  int64  \n",
            " 43  state_de                    38498 non-null  int64  \n",
            " 44  state_fl                    38498 non-null  int64  \n",
            " 45  state_ga                    38498 non-null  int64  \n",
            " 46  state_hi                    38498 non-null  int64  \n",
            " 47  state_ia                    38498 non-null  int64  \n",
            " 48  state_id                    38498 non-null  int64  \n",
            " 49  state_il                    38498 non-null  int64  \n",
            " 50  state_in                    38498 non-null  int64  \n",
            " 51  state_ks                    38498 non-null  int64  \n",
            " 52  state_ky                    38498 non-null  int64  \n",
            " 53  state_la                    38498 non-null  int64  \n",
            " 54  state_ma                    38498 non-null  int64  \n",
            " 55  state_md                    38498 non-null  int64  \n",
            " 56  state_me                    38498 non-null  int64  \n",
            " 57  state_mi                    38498 non-null  int64  \n",
            " 58  state_mn                    38498 non-null  int64  \n",
            " 59  state_mo                    38498 non-null  int64  \n",
            " 60  state_ms                    38498 non-null  int64  \n",
            " 61  state_mt                    38498 non-null  int64  \n",
            " 62  state_nc                    38498 non-null  int64  \n",
            " 63  state_nd                    38498 non-null  int64  \n",
            " 64  state_ne                    38498 non-null  int64  \n",
            " 65  state_nh                    38498 non-null  int64  \n",
            " 66  state_nj                    38498 non-null  int64  \n",
            " 67  state_nm                    38498 non-null  int64  \n",
            " 68  state_nv                    38498 non-null  int64  \n",
            " 69  state_ny                    38498 non-null  int64  \n",
            " 70  state_oh                    38498 non-null  int64  \n",
            " 71  state_ok                    38498 non-null  int64  \n",
            " 72  state_or                    38498 non-null  int64  \n",
            " 73  state_pa                    38498 non-null  int64  \n",
            " 74  state_ri                    38498 non-null  int64  \n",
            " 75  state_sc                    38498 non-null  int64  \n",
            " 76  state_sd                    38498 non-null  int64  \n",
            " 77  state_tn                    38498 non-null  int64  \n",
            " 78  state_tx                    38498 non-null  int64  \n",
            " 79  state_ut                    38498 non-null  int64  \n",
            " 80  state_va                    38498 non-null  int64  \n",
            " 81  state_vt                    38498 non-null  int64  \n",
            " 82  state_wa                    38498 non-null  int64  \n",
            " 83  state_wi                    38498 non-null  int64  \n",
            " 84  state_wv                    38498 non-null  int64  \n",
            " 85  state_wy                    38498 non-null  int64  \n",
            "dtypes: float64(5), int64(79), object(2)\n",
            "memory usage: 25.3+ MB\n"
          ]
        }
      ]
    },
    {
      "cell_type": "code",
      "source": [
        "# convertir string a integer\n",
        "df['type_assisted living'] = df['type_assisted living'].astype(int)\n",
        "df['type_land'] = df['type_land'].astype(int)"
      ],
      "metadata": {
        "id": "YLv_ws-5D6jc"
      },
      "execution_count": 38,
      "outputs": []
    },
    {
      "cell_type": "code",
      "source": [
        "df.info()"
      ],
      "metadata": {
        "id": "r8uk3MD1EOfK"
      },
      "execution_count": null,
      "outputs": []
    },
    {
      "cell_type": "markdown",
      "source": [
        "##Dataset Final"
      ],
      "metadata": {
        "id": "EX850gwgYAKv"
      }
    },
    {
      "cell_type": "code",
      "source": [
        "df.to_csv('df_test_final.csv')"
      ],
      "metadata": {
        "id": "Okuhb55wYEsJ"
      },
      "execution_count": 24,
      "outputs": []
    }
  ]
}